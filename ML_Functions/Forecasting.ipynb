{
 "cells": [
  {
   "cell_type": "markdown",
   "id": "586af394-1933-4ab1-ba2d-361aa3661a08",
   "metadata": {
    "collapsed": false,
    "name": "cell13"
   },
   "source": [
    "# Forecasting with Snowflake Cortex ML-Based Functions\n",
    "\n",
    "## Overview \n",
    "\n",
    "One of the most critical activities that a Data/Business Analyst has to perform is to produce recommendations to their business stakeholders based upon the insights they have gleaned from their data. In practice, this means that they are often required to build models to: make forecasts. However, Analysts are often impeded from creating the best models possible due to the depth of statistical and machine learning knowledge required to implement them in practice. Further, python or other programming frameworks may be unfamiliar to Analysts who write SQL, and the nuances of fine-tuning a model may require expert knowledge that may be out of reach. \n",
    "\n",
    "For these use cases, Snowflake has developed a set of SQL based ML Functions, that implement machine learning models on the user's behalf. As of December 2023, three ML Functions are available for time-series based data:\n",
    "\n",
    "1. Forecasting: which enables users to forecast a metric based on past values. Common use-cases for forecasting including predicting future sales, demand for particular sku's of an item, or volume of traffic into a website over a period of time.\n",
    "\n",
    "For further details on ML Functions, please refer to the [snowflake documentation](https://docs.snowflake.com/guides-overview-analysis). \n",
    "\n",
    "### Prerequisites\n",
    "- Working knowledge of SQL\n",
    "- A Snowflake account login with an ACCOUNTADMIN role. If not, you will need to use a different role that has the ability to create database, schema, table, stages, tasks, email integrations, and stored procedures. \n",
    "\n",
    "### What You’ll Learn \n",
    "- How to make use of Forecasting ML Function to create models \n",
    "\n",
    "This is a notebook written using Snowflake notebooks, to use outside of Snowflake, you will need to connect to the Snowflake instance (see my other notebooks for that)"
   ]
  },
  {
   "cell_type": "code",
   "execution_count": null,
   "id": "3775908f-ca36-4846-8f38-5adca39217f2",
   "metadata": {
    "collapsed": false,
    "language": "python",
    "name": "cell1"
   },
   "outputs": [],
   "source": [
    "# Import python packages\n",
    "import streamlit as st\n",
    "import pandas as pd\n",
    "\n",
    "# We can also use Snowpark for our analyses!\n",
    "from snowflake.snowpark.context import get_active_session\n",
    "session = get_active_session()\n"
   ]
  },
  {
   "cell_type": "markdown",
   "id": "5d16f3d6-63e8-4008-a997-c4960b6b1f5d",
   "metadata": {
    "collapsed": false,
    "name": "cell14"
   },
   "source": [
    "Data for this comes from the Quickstart, go find it here: (https://quickstarts.snowflake.com/guide/ml_forecasting_ad/index.html?index=..%2F..index#1)\n",
    "\n",
    "\n",
    "## Forecasting Demand for Lobster Mac & Cheese\n",
    "\n",
    "We will start off by first building a forecasting model to predict the demand for Lobster Mac & Cheese in Vancouver.\n",
    "\n",
    "\n",
    "### Step 1: Visualize Daily Sales on Snowsight\n",
    "\n",
    "Before building our model, let's first visualize our data to get a feel for what daily sales looks like. Run the following sql command in your Snowsight UI, and toggle to the chart at the bottom.\n"
   ]
  },
  {
   "cell_type": "code",
   "execution_count": null,
   "id": "8d50cbf4-0c8d-4950-86cb-114990437ac9",
   "metadata": {
    "collapsed": false,
    "language": "sql",
    "name": "cell2"
   },
   "outputs": [],
   "source": [
    "-- query a sample of the ingested data\n",
    "SELECT *\n",
    "    FROM tasty_byte_sales\n",
    "    WHERE menu_item_name LIKE 'Lobster Mac & Cheese';"
   ]
  },
  {
   "cell_type": "markdown",
   "id": "afdda7d6-4d1a-4438-9d9a-c84dea49f404",
   "metadata": {
    "collapsed": false,
    "name": "cell15"
   },
   "source": [
    "We can plot the daily sales for the item Lobster Mac & Cheese going back all the way to 2014."
   ]
  },
  {
   "cell_type": "code",
   "execution_count": null,
   "id": "c24f533a-81c6-4ea8-8634-8059785c08d6",
   "metadata": {
    "collapsed": false,
    "language": "python",
    "name": "cell4"
   },
   "outputs": [],
   "source": [
    "\n",
    "# TODO: CELL REFERENCE REPLACE\n",
    "df = cells.cell2.to_pandas()\n",
    "import altair as alt\n",
    "chart = alt.Chart(df).mark_line().encode(\n",
    "    x='DATE',\n",
    "    y='TOTAL_SOLD'\n",
    ").properties(\n",
    "    width=700  # Set the width of the chart\n",
    ")\n",
    "\n",
    "chart"
   ]
  },
  {
   "cell_type": "markdown",
   "id": "d8e93554-4e2d-4949-84f7-db46590b0788",
   "metadata": {
    "collapsed": false,
    "name": "cell18"
   },
   "source": [
    "Observing the chart, one thing we can notice is that there appears to be a seasonal trend present for sales, on a yearly basis. This is an important consideration for building robust forecasting models, and we want to make sure that we feed in enough training data that represents one full cycle of the time series data we are modeling for. The forecasting ML function is smart enough to be able to automatically identify and handle multiple seasonality patterns, so we will go ahead and use the latest year's worth of data as input to our model. In the query below, we will also convert the date column using the `to_timestamp_ntz` function, so that it be used in the forecasting function. "
   ]
  },
  {
   "cell_type": "markdown",
   "id": "9db147d3-4599-46ad-9d27-9b1d41bf03d2",
   "metadata": {
    "collapsed": false,
    "name": "cell16"
   },
   "source": [
    "### Step 2: Creating our First Forecasting Model: Lobster Mac & Cheese\n",
    "\n",
    "We can use SQL to directly call the forecasting ML function. Under the hood, the forecasting ML function automatically takes care of many of the data science best practices that are required to build good models. This includes performing hyper-parameter tuning, adjusting for missing data, and creating new features. We will build our first forecasting model below, for only the Lobster Mac & Cheese menu item. "
   ]
  },
  {
   "cell_type": "code",
   "execution_count": null,
   "id": "1fd01a9f-2949-45eb-938f-dc895bb0c9b5",
   "metadata": {
    "collapsed": false,
    "language": "sql",
    "name": "cell5"
   },
   "outputs": [],
   "source": [
    "-- Create Table containing the latest years worth of sales data: \n",
    "CREATE OR REPLACE TABLE vancouver_sales AS (\n",
    "    SELECT\n",
    "        to_timestamp_ntz(date) as timestamp,\n",
    "        primary_city,\n",
    "        menu_item_name,\n",
    "        total_sold\n",
    "    FROM\n",
    "        tasty_byte_sales\n",
    "    WHERE\n",
    "        date > (SELECT max(date) - interval '1 year' FROM tasty_byte_sales)\n",
    "    GROUP BY\n",
    "        all\n",
    ");\n",
    "\n",
    "Select * FROM vancouver_sales LIMIT 100;"
   ]
  },
  {
   "cell_type": "code",
   "execution_count": null,
   "id": "c695373e-ac74-4b62-a1f1-08206cbd5c81",
   "metadata": {
    "collapsed": false,
    "language": "sql",
    "name": "cell3"
   },
   "outputs": [],
   "source": [
    "\n",
    "-- Create view for lobster sales\n",
    "CREATE OR REPLACE VIEW lobster_sales AS (\n",
    "    SELECT\n",
    "        timestamp,\n",
    "        total_sold\n",
    "    FROM\n",
    "        vancouver_sales\n",
    "    WHERE\n",
    "        menu_item_name LIKE 'Lobster Mac & Cheese'\n",
    ");\n"
   ]
  },
  {
   "cell_type": "code",
   "execution_count": null,
   "id": "7feaad02-0e9a-4a8b-97a1-13a56ddb7406",
   "metadata": {
    "collapsed": false,
    "language": "sql",
    "name": "cell21"
   },
   "outputs": [],
   "source": [
    "Select * FROM LOBSTER_SALES LIMIT 100"
   ]
  },
  {
   "cell_type": "code",
   "execution_count": null,
   "id": "690561b9-36d9-4ff3-946c-7f9052799c72",
   "metadata": {
    "collapsed": false,
    "language": "sql",
    "name": "cell6"
   },
   "outputs": [],
   "source": [
    "\n",
    "-- Build Forecasting model; this could take ~15-25 secs; please be patient\n",
    "CREATE OR REPLACE SNOWFLAKE.ML.FORECAST lobstermac_forecast (\n",
    "    INPUT_DATA => SYSTEM$REFERENCE('VIEW', 'lobster_sales'),\n",
    "    TIMESTAMP_COLNAME => 'TIMESTAMP',\n",
    "    TARGET_COLNAME => 'TOTAL_SOLD'\n",
    ");"
   ]
  },
  {
   "cell_type": "code",
   "execution_count": null,
   "id": "f136644a-76fc-4361-8922-8429dbf4c6dc",
   "metadata": {
    "collapsed": false,
    "language": "sql",
    "name": "cell7"
   },
   "outputs": [],
   "source": [
    "-- Show models to confirm training has completed\n",
    "SHOW SNOWFLAKE.ML.FORECAST;\n",
    "     "
   ]
  },
  {
   "cell_type": "markdown",
   "id": "4c1a6a1e-9bf2-4306-8a04-47a7abdb34e7",
   "metadata": {
    "collapsed": false,
    "name": "cell17"
   },
   "source": [
    "In the steps above, we create a view containing the relevant daily sales for our Lobster Mac & Cheese item, to which we pass to the forecast function. The last step should confirm that the model has been created, and ready to create predictions. "
   ]
  },
  {
   "cell_type": "code",
   "execution_count": null,
   "id": "c3048846-ea2d-4d1c-bdc7-70edc0eef7ab",
   "metadata": {
    "collapsed": false,
    "language": "sql",
    "name": "cell8"
   },
   "outputs": [],
   "source": [
    "-- Create predictions, and save results to a table:  \n",
    "CALL lobstermac_forecast!FORECAST(FORECASTING_PERIODS => 10);"
   ]
  },
  {
   "cell_type": "markdown",
   "id": "7b150252-ffdc-431f-824f-c71b8e87c1c9",
   "metadata": {
    "collapsed": false,
    "name": "cell19"
   },
   "source": [
    "## Step 3: Creating and Visualizing Predictions\n",
    "\n",
    "Let's now use our trained `lobstermac_forecast` model to create predictions for the demand for the next 10 days. \n"
   ]
  },
  {
   "cell_type": "code",
   "execution_count": null,
   "id": "984d6477-be5d-48c8-811a-bfd598e698a3",
   "metadata": {
    "collapsed": false,
    "language": "sql",
    "name": "cell9"
   },
   "outputs": [],
   "source": [
    "\n",
    "-- Store the results of the cell above as a table\n",
    "CREATE OR REPLACE TABLE macncheese_predictions AS (\n",
    "    SELECT * FROM {{cell8}}\n",
    ");"
   ]
  },
  {
   "cell_type": "code",
   "execution_count": null,
   "id": "6c5351b4-714e-4fc7-8139-ee6dcd6a88a4",
   "metadata": {
    "collapsed": false,
    "language": "sql",
    "name": "cell10"
   },
   "outputs": [],
   "source": [
    "\n",
    "-- Visualize the results, overlaid on top of one another: \n",
    "SELECT\n",
    "    timestamp,\n",
    "    total_sold,\n",
    "    NULL AS forecast\n",
    "FROM\n",
    "    lobster_sales\n",
    "WHERE\n",
    "    timestamp > '2023-03-01'\n",
    "UNION\n",
    "SELECT\n",
    "    TS AS timestamp,\n",
    "    NULL AS total_sold,\n",
    "    forecast\n",
    "FROM\n",
    "    macncheese_predictions\n",
    "ORDER BY\n",
    "    timestamp asc;"
   ]
  },
  {
   "cell_type": "code",
   "execution_count": null,
   "id": "babd7a04-aa29-4eae-a17f-c5fff10dbf2c",
   "metadata": {
    "collapsed": false,
    "language": "python",
    "name": "cell11"
   },
   "outputs": [],
   "source": [
    "import pandas as pd\n",
    "df = cells.cell10.to_pandas()\n",
    "df = pd.melt(df,id_vars=[\"TIMESTAMP\"],value_vars=[\"TOTAL_SOLD\",\"FORECAST\"])\n",
    "df = df.replace({\"TOTAL_SOLD\":\"ACTUAL\"})\n",
    "df.columns = [\"TIMESTAMP\",\"TYPE\", \"AMOUNT SOLD\"]\n",
    "\n",
    "import altair as alt\n",
    "alt.Chart(df).mark_line().encode(\n",
    "    x = \"TIMESTAMP\",\n",
    "    y = \"AMOUNT SOLD\",\n",
    "    color = \"TYPE\"\n",
    ").properties(\n",
    "    width=800  # Set the width of the chart\n",
    ")\n",
    "\n"
   ]
  },
  {
   "cell_type": "markdown",
   "id": "5de7782b-6eb2-40bf-ac75-338f38e460af",
   "metadata": {
    "collapsed": false,
    "name": "cell20"
   },
   "source": [
    "There we have it! We just created our first set of predictions for the next 10 days worth of demand, which can be used to inform how much inventory of raw ingredients we may need. As shown from the above visualization, there seems to also be a weekly trend for the items sold, which the model was also able to pick up on. \n",
    "\n",
    "**Note:** You may notice that your chart has included the null being represented as 0's. Make sure to select the 'none' aggregation for each of columns as shown on the right hand side of the image above to reproduce the image. Additionally, your visualization may look different based on what version of the ML forecast function you call. The above image was created with **version 7.0**.\n"
   ]
  },
  {
   "cell_type": "code",
   "execution_count": null,
   "id": "d4a801c3-de1d-4a28-a0b1-c4e7d4500f3c",
   "metadata": {
    "collapsed": false,
    "language": "sql",
    "name": "cell12"
   },
   "outputs": [],
   "source": [
    "CALL lobstermac_forecast!show_evaluation_metrics();"
   ]
  }
 ],
 "metadata": {
  "kernelspec": {
   "display_name": "Streamlit Notebook",
   "name": "streamlit"
  }
 },
 "nbformat": 4,
 "nbformat_minor": 5
}
