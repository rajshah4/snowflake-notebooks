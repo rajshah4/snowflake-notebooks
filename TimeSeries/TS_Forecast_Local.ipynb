{
 "cells": [
  {
   "cell_type": "code",
   "execution_count": null,
   "id": "3775908f-ca36-4846-8f38-5adca39217f2",
   "metadata": {
    "collapsed": false,
    "language": "python",
    "name": "cell1"
   },
   "outputs": [],
   "source": [
    "# Import python packages\n",
    "#import streamlit as st\n",
    "import pandas as pd\n",
    "from snowflake.snowpark import Session\n",
    "session = get_active_session()\n"
   ]
  },
  {
   "cell_type": "code",
   "execution_count": null,
   "id": "32414e57-dd60-4256-8abe-71176f7c24c3",
   "metadata": {
    "collapsed": false,
    "language": "python",
    "name": "cell6"
   },
   "outputs": [],
   "source": [
    "!pip install -q statsforecast wandb\n"
   ]
  },
  {
   "cell_type": "code",
   "execution_count": null,
   "id": "8c06c77a-82c4-4617-bd92-3b8a01e19c4a",
   "metadata": {
    "collapsed": false,
    "language": "python",
    "name": "cell7"
   },
   "outputs": [],
   "source": [
    "import wandb\n",
    "wandb.login(key='***')\n",
    "run = wandb.init(project ='ts_')"
   ]
  },
  {
   "cell_type": "code",
   "execution_count": null,
   "id": "6015ec77-1f9d-42de-82fe-036b0bd25acf",
   "metadata": {
    "collapsed": false,
    "language": "python",
    "name": "cell4"
   },
   "outputs": [],
   "source": [
    "from statsforecast.utils import generate_series\n",
    "for length in [50000]:\n",
    "\t\tprint(f'length: {length}')\n",
    "\t\tseries = generate_series(n_series=length, seed=1)"
   ]
  },
  {
   "cell_type": "code",
   "execution_count": null,
   "id": "8d50cbf4-0c8d-4950-86cb-114990437ac9",
   "metadata": {
    "collapsed": false,
    "language": "python",
    "name": "cell2"
   },
   "outputs": [],
   "source": [
    "series"
   ]
  },
  {
   "cell_type": "code",
   "execution_count": null,
   "id": "c695373e-ac74-4b62-a1f1-08206cbd5c81",
   "metadata": {
    "collapsed": false,
    "language": "python",
    "name": "cell3"
   },
   "outputs": [],
   "source": [
    "from statsforecast import StatsForecast\n",
    "from statsforecast.models import AutoARIMA, Naive\n",
    "\n",
    "model = StatsForecast(models=[AutoARIMA()],\n",
    "                      freq='D',\n",
    "                      n_jobs=-1)\n",
    "forecasts_df = model.forecast(df=series, h=7)\n",
    "forecasts_df.head()"
   ]
  }
 ],
 "metadata": {
  "kernelspec": {
   "display_name": "working311",
   "language": "python",
   "name": "python3"
  },
  "language_info": {
   "codemirror_mode": {
    "name": "ipython",
    "version": 3
   },
   "file_extension": ".py",
   "mimetype": "text/x-python",
   "name": "python",
   "nbconvert_exporter": "python",
   "pygments_lexer": "ipython3",
   "version": "3.11.7"
  }
 },
 "nbformat": 4,
 "nbformat_minor": 5
}
