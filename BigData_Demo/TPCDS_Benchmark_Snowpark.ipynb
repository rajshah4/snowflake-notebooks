{
 "cells": [
  {
   "cell_type": "code",
   "execution_count": null,
   "id": "3775908f-ca36-4846-8f38-5adca39217f2",
   "metadata": {
    "collapsed": false,
    "language": "python",
    "name": "cell1"
   },
   "outputs": [],
   "source": [
    "# Import python packages\n",
    "import streamlit as st\n",
    "import pandas as pd\n",
    "\n",
    "# We can also use Snowpark for our analyses!\n",
    "from snowflake.snowpark.context import get_active_session\n",
    "session = get_active_session()\n"
   ]
  },
  {
   "cell_type": "code",
   "execution_count": null,
   "id": "0db49c9a-73ed-498f-bda6-3ecc8852e89d",
   "metadata": {
    "collapsed": false,
    "language": "python",
    "name": "cell5"
   },
   "outputs": [],
   "source": [
    "from snowflake.ml.modeling.xgboost import XGBRegressor\n",
    "from snowflake.ml.modeling.preprocessing import KBinsDiscretizer, OneHotEncoder\n",
    "from snowflake.ml.modeling.impute import SimpleImputer\n",
    "\n",
    "from snowflake.ml.modeling.compose import ColumnTransformer\n",
    "from snowflake.ml.modeling.pipeline import Pipeline\n",
    "from snowflake.ml.modeling.preprocessing import StandardScaler, OrdinalEncoder\n",
    "from snowflake.ml.modeling.impute import SimpleImputer\n",
    "from snowflake.ml.modeling.model_selection import GridSearchCV\n",
    "from snowflake.ml.modeling.xgboost import XGBRegressor\n",
    "\n",
    "import snowflake.snowpark.functions as F"
   ]
  },
  {
   "cell_type": "code",
   "execution_count": null,
   "id": "746c0225-2829-4c79-b4d2-eb094ea38089",
   "metadata": {
    "collapsed": false,
    "language": "python",
    "name": "cell3"
   },
   "outputs": [],
   "source": [
    "#!pip install xgboost==2.0.3\n",
    "\n",
    "from time import time\n",
    "import random"
   ]
  },
  {
   "cell_type": "code",
   "execution_count": null,
   "id": "ccbb00a9-bbc2-4434-bb53-4eda0a899272",
   "metadata": {
    "collapsed": false,
    "language": "python",
    "name": "cell8"
   },
   "outputs": [],
   "source": [
    "snowdf = session.table(\"tpcds_xgboost.demo.feature_store\")\n",
    "snowdf = snowdf.drop(['CA_ZIP','CUSTOMER_SK', 'C_CURRENT_HDEMO_SK', 'C_CURRENT_ADDR_SK', 'C_CUSTOMER_ID', 'CA_ADDRESS_SK', 'CD_DEMO_SK'])\n",
    "snowdf.show()"
   ]
  },
  {
   "cell_type": "code",
   "execution_count": null,
   "id": "6b095078-c25f-4d24-a18e-16d6189136e2",
   "metadata": {
    "collapsed": false,
    "language": "python",
    "name": "cell9"
   },
   "outputs": [],
   "source": [
    "## Dropping any null values\n",
    "from snowflake.snowpark.functions import col, is_null\n",
    "\n",
    "# Create a filter condition for non-finite values across all columns\n",
    "non_finite_filter = None\n",
    "\n",
    "# Iterate over all columns and update the filter condition\n",
    "for column in snowdf.columns:\n",
    "    current_filter = is_null(col(column))\n",
    "    non_finite_filter = current_filter if non_finite_filter is None else (non_finite_filter | current_filter)\n",
    "\n",
    "# Apply the filter to the DataFrame to exclude rows with any non-finite values\n",
    "df_filtered = snowdf.filter(~non_finite_filter)\n",
    "\n",
    "\n",
    "## Clean up cats\n",
    "def fix_values(columnn):\n",
    "    return F.upper(F.regexp_replace(F.col(columnn), '[^a-zA-Z0-9]+', '_'))\n",
    "categorical_cols = ['CD_GENDER', 'CD_MARITAL_STATUS', 'CD_CREDIT_RATING', 'CD_EDUCATION_STATUS']\n",
    "for col in categorical_cols:\n",
    "    df_filtered = df_filtered.with_column(col, fix_values(col))\n",
    "    "
   ]
  },
  {
   "cell_type": "code",
   "execution_count": null,
   "id": "276e412f-0fae-4315-bedc-9105993835b2",
   "metadata": {
    "collapsed": false,
    "language": "python",
    "name": "cell13"
   },
   "outputs": [],
   "source": [
    "feature_cols = df_filtered.columns\n",
    "feature_cols.remove('TOTAL_SALES')\n",
    "target_col = 'TOTAL_SALES'\n",
    "\n",
    "snowdf_train, snowdf_test = df_filtered.random_split([0.8, 0.2], seed=82) \n",
    "snowdf_train=snowdf_train.limit(1_000)\n",
    "snowdf_train.count()"
   ]
  },
  {
   "cell_type": "code",
   "execution_count": null,
   "id": "47af0eba-7964-432a-a9fc-8cbd2e58135d",
   "metadata": {
    "collapsed": false,
    "language": "python",
    "name": "cell11"
   },
   "outputs": [],
   "source": [
    " ## Distributed Preprocessing - 25X to 50X faster\n",
    "\n",
    "numeric_features = ['C_BIRTH_YEAR', 'CD_DEP_COUNT']\n",
    "numeric_transformer = Pipeline(steps=[('imputer', SimpleImputer(strategy='median'))])\n",
    "\n",
    "categorical_cols = ['CD_GENDER', 'CD_MARITAL_STATUS', 'CD_CREDIT_RATING', 'CD_EDUCATION_STATUS']\n",
    "categorical_transformer = Pipeline(steps=[\n",
    "    ('imputer', SimpleImputer(strategy='most_frequent')),\n",
    "    ('onehot', OneHotEncoder())\n",
    "])\n",
    "\n",
    "preprocessor = ColumnTransformer(\n",
    "    transformers=[\n",
    "        ('num', numeric_transformer, numeric_features),\n",
    "        ('cat', categorical_transformer, categorical_cols)\n",
    "        ])\n",
    "\n",
    "pipeline = Pipeline(steps=[('preprocessor', preprocessor),('model', XGBRegressor())])"
   ]
  },
  {
   "cell_type": "code",
   "execution_count": null,
   "id": "fe8ad1a8-15b8-4ec8-81d2-d34c63c80e65",
   "metadata": {
    "collapsed": false,
    "language": "python",
    "name": "cell12"
   },
   "outputs": [],
   "source": [
    " ## Distributed HyperParameter Optimization\n",
    "hyper_param = dict(\n",
    "        model__max_depth=[2,4],\n",
    "        model__learning_rate=[0.1,0.3],\n",
    "    )\n",
    "\n",
    "xg_model = GridSearchCV(\n",
    "    estimator=pipeline,\n",
    "    param_grid=hyper_param,\n",
    "    #cv=5,\n",
    "    input_cols=numeric_features + categorical_cols,\n",
    "    label_cols=['TOTAL_SALES'],\n",
    "    output_cols=[\"TOTAL_SALES_PREDICT\"],\n",
    "    #verbose=4  ##verbose not working\n",
    ")\n",
    "\n",
    "# Fit and Score\n",
    "xg_model.fit(snowdf_train)\n",
    "##Takes 25 seconds"
   ]
  },
  {
   "cell_type": "code",
   "execution_count": null,
   "id": "34525ba4-f851-41c5-8b45-0b8f7a2760eb",
   "metadata": {
    "collapsed": false,
    "language": "python",
    "name": "cell16"
   },
   "outputs": [],
   "source": [
    "session.sql('ALTER SESSION SET USE_CACHED_RESULT=FALSE')"
   ]
  },
  {
   "cell_type": "code",
   "execution_count": null,
   "id": "8898389d-e1a7-428b-9f50-e5addabf25bd",
   "metadata": {
    "collapsed": false,
    "language": "python",
    "name": "cell15"
   },
   "outputs": [],
   "source": [
    "lengths = [1_000_000,5_000_000,10_000_000,25_000_000,50_000_000]\n",
    "#lengths = [10_000_000,25_000_000,50_000_000]\n",
    "random.seed(9001)\n",
    "\n",
    "for i, length in enumerate(lengths):\n",
    "    seedv = random.randint(1, 1000)\n",
    "    snowdf_train, snowdf_test = df_filtered.random_split([0.8, 0.2], seed=seedv)  #82\n",
    "    snowdf_train=snowdf_train.limit(length)\n",
    "    print (snowdf_train.count())\n",
    "    init = time()\n",
    "    xg_model.fit(snowdf_train)\n",
    "    total_time = (time() - init) / 60\n",
    "    print(f'total rows: {length} total time: {total_time} seed: {seedv}')\n",
    "    snowdf_train = session.create_dataframe([1, 2, 3, 4]).to_df(\"a\")\n",
    "    snowdf_train.show()"
   ]
  }
 ],
 "metadata": {
  "kernelspec": {
   "display_name": "working311",
   "language": "python",
   "name": "python3"
  },
  "language_info": {
   "name": "python",
   "version": "3.11.7"
  }
 },
 "nbformat": 4,
 "nbformat_minor": 5
}
