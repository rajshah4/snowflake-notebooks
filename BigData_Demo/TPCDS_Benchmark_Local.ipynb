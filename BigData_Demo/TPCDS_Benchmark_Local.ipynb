{
 "cells": [
  {
   "cell_type": "code",
   "execution_count": null,
   "id": "3775908f-ca36-4846-8f38-5adca39217f2",
   "metadata": {
    "collapsed": false,
    "language": "python",
    "name": "cell1"
   },
   "outputs": [],
   "source": [
    "# Import python packages\n",
    "import streamlit as st\n",
    "import pandas as pd\n",
    "\n",
    "# We can also use Snowpark for our analyses!\n",
    "from snowflake.snowpark.context import get_active_session\n",
    "session = get_active_session()"
   ]
  },
  {
   "cell_type": "code",
   "execution_count": 3,
   "id": "0db49c9a-73ed-498f-bda6-3ecc8852e89d",
   "metadata": {
    "collapsed": false,
    "language": "python",
    "name": "cell5"
   },
   "outputs": [],
   "source": [
    "#from snowflake.ml.modeling.xgboost import XGBRegressor\n",
    "##from snowflake.ml.modeling.preprocessing import KBinsDiscretizer, OneHotEncoder\n",
    "#from snowflake.ml.modeling.impute import SimpleImputer\n",
    "\n",
    "#from snowflake.ml.modeling.compose import ColumnTransformer\n",
    "#from snowflake.ml.modeling.pipeline import Pipeline\n",
    "#from snowflake.ml.modeling.preprocessing import StandardScaler, OrdinalEncoder\n",
    "#from snowflake.ml.modeling.impute import SimpleImputer\n",
    "#from snowflake.ml.modeling.model_selection import GridSearchCV\n",
    "#from snowflake.ml.modeling.xgboost import XGBRegressor\n",
    "\n",
    "import snowflake.snowpark.functions as F"
   ]
  },
  {
   "cell_type": "code",
   "execution_count": 4,
   "id": "37bc3f8c-5fe5-4ff1-b27f-d54abf7a5716",
   "metadata": {
    "collapsed": false,
    "language": "python",
    "name": "cell10"
   },
   "outputs": [],
   "source": [
    "from xgboost import XGBRegressor\n",
    "from sklearn.preprocessing import OneHotEncoder, StandardScaler\n",
    "from sklearn.impute import SimpleImputer\n",
    "from sklearn.compose import ColumnTransformer\n",
    "from sklearn.pipeline import Pipeline\n",
    "from sklearn.model_selection import GridSearchCV\n",
    "\n",
    "from time import time\n",
    "import random\n",
    "import pandas as pd\n"
   ]
  },
  {
   "cell_type": "code",
   "execution_count": 5,
   "id": "746c0225-2829-4c79-b4d2-eb094ea38089",
   "metadata": {
    "collapsed": false,
    "language": "python",
    "name": "cell3"
   },
   "outputs": [],
   "source": [
    "#!pip install xgboost==2.0.3\n",
    "!pip install -q wandb\n"
   ]
  },
  {
   "cell_type": "code",
   "execution_count": 6,
   "id": "63b5d642-d6c6-4e71-8c90-65b29fc093b0",
   "metadata": {
    "collapsed": false,
    "language": "python",
    "name": "cell2"
   },
   "outputs": [
    {
     "name": "stderr",
     "output_type": "stream",
     "text": [
      "Failed to detect the name of this notebook, you can set it manually with the WANDB_NOTEBOOK_NAME environment variable to enable code saving.\n",
      "\u001b[34m\u001b[1mwandb\u001b[0m: W&B API key is configured. Use \u001b[1m`wandb login --relogin`\u001b[0m to force relogin\n",
      "\u001b[34m\u001b[1mwandb\u001b[0m: \u001b[33mWARNING\u001b[0m If you're specifying your api key in code, ensure this code is not shared publicly.\n",
      "\u001b[34m\u001b[1mwandb\u001b[0m: \u001b[33mWARNING\u001b[0m Consider setting the WANDB_API_KEY environment variable, or running `wandb login` from the command line.\n",
      "\u001b[34m\u001b[1mwandb\u001b[0m: Appending key for api.wandb.ai to your netrc file: /Users/rajishah/.netrc\n",
      "\u001b[34m\u001b[1mwandb\u001b[0m: Currently logged in as: \u001b[33mrshah4\u001b[0m. Use \u001b[1m`wandb login --relogin`\u001b[0m to force relogin\n"
     ]
    },
    {
     "data": {
      "text/html": [
       "Tracking run with wandb version 0.17.8"
      ],
      "text/plain": [
       "<IPython.core.display.HTML object>"
      ]
     },
     "metadata": {},
     "output_type": "display_data"
    },
    {
     "data": {
      "text/html": [
       "Run data is saved locally in <code>/Users/rajishah/Code/snowflake-notebooks/BigData_Demo/wandb/run-20240829_223044-yobkq6fu</code>"
      ],
      "text/plain": [
       "<IPython.core.display.HTML object>"
      ]
     },
     "metadata": {},
     "output_type": "display_data"
    },
    {
     "data": {
      "text/html": [
       "Syncing run <strong><a href='https://wandb.ai/rshah4/sf_xgboost_CPU_HM_L/runs/yobkq6fu' target=\"_blank\">lilac-capybara-3</a></strong> to <a href='https://wandb.ai/rshah4/sf_xgboost_CPU_HM_L' target=\"_blank\">Weights & Biases</a> (<a href='https://wandb.me/run' target=\"_blank\">docs</a>)<br/>"
      ],
      "text/plain": [
       "<IPython.core.display.HTML object>"
      ]
     },
     "metadata": {},
     "output_type": "display_data"
    },
    {
     "data": {
      "text/html": [
       " View project at <a href='https://wandb.ai/rshah4/sf_xgboost_CPU_HM_L' target=\"_blank\">https://wandb.ai/rshah4/sf_xgboost_CPU_HM_L</a>"
      ],
      "text/plain": [
       "<IPython.core.display.HTML object>"
      ]
     },
     "metadata": {},
     "output_type": "display_data"
    },
    {
     "data": {
      "text/html": [
       " View run at <a href='https://wandb.ai/rshah4/sf_xgboost_CPU_HM_L/runs/yobkq6fu' target=\"_blank\">https://wandb.ai/rshah4/sf_xgboost_CPU_HM_L/runs/yobkq6fu</a>"
      ],
      "text/plain": [
       "<IPython.core.display.HTML object>"
      ]
     },
     "metadata": {},
     "output_type": "display_data"
    },
    {
     "name": "stderr",
     "output_type": "stream",
     "text": [
      "\u001b[34m\u001b[1mwandb\u001b[0m: Network error resolved after 2:04:33.364385, resuming normal operation.\n",
      "\u001b[34m\u001b[1mwandb\u001b[0m: Network error resolved after 2:34:48.294217, resuming normal operation.\n"
     ]
    }
   ],
   "source": [
    "import wandb\n",
    "wandb.login(key='fb6bad081ea657a8a2002960c672b0cba554ad15')\n",
    "\n",
    "run = wandb.init(project ='sf_xgboost_CPU_HM_L')\n",
    "\n",
    "from wandb.integration.xgboost import WandbCallback"
   ]
  },
  {
   "cell_type": "code",
   "execution_count": 7,
   "id": "ccbb00a9-bbc2-4434-bb53-4eda0a899272",
   "metadata": {
    "collapsed": false,
    "language": "python",
    "name": "cell8"
   },
   "outputs": [
    {
     "name": "stdout",
     "output_type": "stream",
     "text": [
      "------------------------------------------------------------------------------------------------------------------------------------\n",
      "|\"TOTAL_SALES\"  |\"C_BIRTH_YEAR\"  |\"CD_GENDER\"  |\"CD_MARITAL_STATUS\"  |\"CD_CREDIT_RATING\"  |\"CD_EDUCATION_STATUS\"  |\"CD_DEP_COUNT\"  |\n",
      "------------------------------------------------------------------------------------------------------------------------------------\n",
      "|30368.88       |1972            |M            |U                    |Good                |4 yr Degree            |0               |\n",
      "|39077.29       |1976            |M            |U                    |Good                |4 yr Degree            |0               |\n",
      "|33980.60       |1976            |M            |U                    |Good                |4 yr Degree            |0               |\n",
      "|40226.64       |1949            |M            |U                    |Good                |4 yr Degree            |0               |\n",
      "|25446.41       |1952            |M            |U                    |Good                |4 yr Degree            |0               |\n",
      "|34458.32       |1982            |M            |U                    |Good                |4 yr Degree            |0               |\n",
      "|28561.76       |1942            |M            |U                    |Good                |4 yr Degree            |0               |\n",
      "|32611.44       |1978            |M            |U                    |Good                |4 yr Degree            |0               |\n",
      "|32713.36       |1939            |M            |U                    |Good                |4 yr Degree            |0               |\n",
      "|34231.25       |1951            |M            |U                    |Good                |4 yr Degree            |0               |\n",
      "------------------------------------------------------------------------------------------------------------------------------------\n",
      "\n"
     ]
    }
   ],
   "source": [
    "snowdf = session.table(\"tpcds_xgboost.demo.feature_store\")\n",
    "snowdf = snowdf.drop(['CA_ZIP','CUSTOMER_SK', 'C_CURRENT_HDEMO_SK', 'C_CURRENT_ADDR_SK', 'C_CUSTOMER_ID', 'CA_ADDRESS_SK', 'CD_DEMO_SK'])\n",
    "snowdf.show()"
   ]
  },
  {
   "cell_type": "code",
   "execution_count": 8,
   "id": "6b095078-c25f-4d24-a18e-16d6189136e2",
   "metadata": {
    "collapsed": false,
    "language": "python",
    "name": "cell9"
   },
   "outputs": [],
   "source": [
    "## Dropping any null values\n",
    "from snowflake.snowpark.functions import col, is_null\n",
    "\n",
    "# Create a filter condition for non-finite values across all columns\n",
    "non_finite_filter = None\n",
    "\n",
    "# Iterate over all columns and update the filter condition\n",
    "for column in snowdf.columns:\n",
    "    current_filter = is_null(col(column))\n",
    "    non_finite_filter = current_filter if non_finite_filter is None else (non_finite_filter | current_filter)\n",
    "\n",
    "# Apply the filter to the DataFrame to exclude rows with any non-finite values\n",
    "df_filtered = snowdf.filter(~non_finite_filter)\n",
    "\n",
    "\n",
    "## Clean up cats\n",
    "def fix_values(columnn):\n",
    "    return F.upper(F.regexp_replace(F.col(columnn), '[^a-zA-Z0-9]+', '_'))\n",
    "categorical_cols = ['CD_GENDER', 'CD_MARITAL_STATUS', 'CD_CREDIT_RATING', 'CD_EDUCATION_STATUS']\n",
    "for col in categorical_cols:\n",
    "    df_filtered = df_filtered.with_column(col, fix_values(col))\n",
    "    "
   ]
  },
  {
   "cell_type": "code",
   "execution_count": 9,
   "id": "276e412f-0fae-4315-bedc-9105993835b2",
   "metadata": {
    "collapsed": false,
    "language": "python",
    "name": "cell13"
   },
   "outputs": [
    {
     "data": {
      "text/html": [
       "<div>\n",
       "<style scoped>\n",
       "    .dataframe tbody tr th:only-of-type {\n",
       "        vertical-align: middle;\n",
       "    }\n",
       "\n",
       "    .dataframe tbody tr th {\n",
       "        vertical-align: top;\n",
       "    }\n",
       "\n",
       "    .dataframe thead th {\n",
       "        text-align: right;\n",
       "    }\n",
       "</style>\n",
       "<table border=\"1\" class=\"dataframe\">\n",
       "  <thead>\n",
       "    <tr style=\"text-align: right;\">\n",
       "      <th></th>\n",
       "      <th>TOTAL_SALES</th>\n",
       "      <th>C_BIRTH_YEAR</th>\n",
       "      <th>CD_DEP_COUNT</th>\n",
       "      <th>CD_GENDER</th>\n",
       "      <th>CD_MARITAL_STATUS</th>\n",
       "      <th>CD_CREDIT_RATING</th>\n",
       "      <th>CD_EDUCATION_STATUS</th>\n",
       "    </tr>\n",
       "  </thead>\n",
       "  <tbody>\n",
       "    <tr>\n",
       "      <th>0</th>\n",
       "      <td>31326.00</td>\n",
       "      <td>1992</td>\n",
       "      <td>0</td>\n",
       "      <td>M</td>\n",
       "      <td>D</td>\n",
       "      <td>GOOD</td>\n",
       "      <td>SECONDARY</td>\n",
       "    </tr>\n",
       "    <tr>\n",
       "      <th>1</th>\n",
       "      <td>32890.60</td>\n",
       "      <td>1948</td>\n",
       "      <td>0</td>\n",
       "      <td>M</td>\n",
       "      <td>D</td>\n",
       "      <td>GOOD</td>\n",
       "      <td>SECONDARY</td>\n",
       "    </tr>\n",
       "    <tr>\n",
       "      <th>2</th>\n",
       "      <td>32934.98</td>\n",
       "      <td>1946</td>\n",
       "      <td>0</td>\n",
       "      <td>M</td>\n",
       "      <td>D</td>\n",
       "      <td>GOOD</td>\n",
       "      <td>SECONDARY</td>\n",
       "    </tr>\n",
       "    <tr>\n",
       "      <th>3</th>\n",
       "      <td>31615.52</td>\n",
       "      <td>1929</td>\n",
       "      <td>0</td>\n",
       "      <td>M</td>\n",
       "      <td>D</td>\n",
       "      <td>GOOD</td>\n",
       "      <td>SECONDARY</td>\n",
       "    </tr>\n",
       "    <tr>\n",
       "      <th>4</th>\n",
       "      <td>32183.75</td>\n",
       "      <td>1941</td>\n",
       "      <td>0</td>\n",
       "      <td>M</td>\n",
       "      <td>D</td>\n",
       "      <td>GOOD</td>\n",
       "      <td>SECONDARY</td>\n",
       "    </tr>\n",
       "    <tr>\n",
       "      <th>...</th>\n",
       "      <td>...</td>\n",
       "      <td>...</td>\n",
       "      <td>...</td>\n",
       "      <td>...</td>\n",
       "      <td>...</td>\n",
       "      <td>...</td>\n",
       "      <td>...</td>\n",
       "    </tr>\n",
       "    <tr>\n",
       "      <th>995</th>\n",
       "      <td>32106.74</td>\n",
       "      <td>1969</td>\n",
       "      <td>0</td>\n",
       "      <td>M</td>\n",
       "      <td>D</td>\n",
       "      <td>GOOD</td>\n",
       "      <td>SECONDARY</td>\n",
       "    </tr>\n",
       "    <tr>\n",
       "      <th>996</th>\n",
       "      <td>29164.42</td>\n",
       "      <td>1947</td>\n",
       "      <td>0</td>\n",
       "      <td>M</td>\n",
       "      <td>D</td>\n",
       "      <td>GOOD</td>\n",
       "      <td>SECONDARY</td>\n",
       "    </tr>\n",
       "    <tr>\n",
       "      <th>997</th>\n",
       "      <td>34850.65</td>\n",
       "      <td>1972</td>\n",
       "      <td>0</td>\n",
       "      <td>M</td>\n",
       "      <td>D</td>\n",
       "      <td>GOOD</td>\n",
       "      <td>SECONDARY</td>\n",
       "    </tr>\n",
       "    <tr>\n",
       "      <th>998</th>\n",
       "      <td>27729.11</td>\n",
       "      <td>1970</td>\n",
       "      <td>0</td>\n",
       "      <td>M</td>\n",
       "      <td>D</td>\n",
       "      <td>GOOD</td>\n",
       "      <td>SECONDARY</td>\n",
       "    </tr>\n",
       "    <tr>\n",
       "      <th>999</th>\n",
       "      <td>31337.34</td>\n",
       "      <td>1943</td>\n",
       "      <td>0</td>\n",
       "      <td>M</td>\n",
       "      <td>D</td>\n",
       "      <td>GOOD</td>\n",
       "      <td>SECONDARY</td>\n",
       "    </tr>\n",
       "  </tbody>\n",
       "</table>\n",
       "<p>1000 rows × 7 columns</p>\n",
       "</div>"
      ],
      "text/plain": [
       "    TOTAL_SALES  C_BIRTH_YEAR  CD_DEP_COUNT CD_GENDER CD_MARITAL_STATUS  \\\n",
       "0      31326.00          1992             0         M                 D   \n",
       "1      32890.60          1948             0         M                 D   \n",
       "2      32934.98          1946             0         M                 D   \n",
       "3      31615.52          1929             0         M                 D   \n",
       "4      32183.75          1941             0         M                 D   \n",
       "..          ...           ...           ...       ...               ...   \n",
       "995    32106.74          1969             0         M                 D   \n",
       "996    29164.42          1947             0         M                 D   \n",
       "997    34850.65          1972             0         M                 D   \n",
       "998    27729.11          1970             0         M                 D   \n",
       "999    31337.34          1943             0         M                 D   \n",
       "\n",
       "    CD_CREDIT_RATING CD_EDUCATION_STATUS  \n",
       "0               GOOD           SECONDARY  \n",
       "1               GOOD           SECONDARY  \n",
       "2               GOOD           SECONDARY  \n",
       "3               GOOD           SECONDARY  \n",
       "4               GOOD           SECONDARY  \n",
       "..               ...                 ...  \n",
       "995             GOOD           SECONDARY  \n",
       "996             GOOD           SECONDARY  \n",
       "997             GOOD           SECONDARY  \n",
       "998             GOOD           SECONDARY  \n",
       "999             GOOD           SECONDARY  \n",
       "\n",
       "[1000 rows x 7 columns]"
      ]
     },
     "execution_count": 9,
     "metadata": {},
     "output_type": "execute_result"
    }
   ],
   "source": [
    "feature_cols = df_filtered.columns\n",
    "feature_cols.remove('TOTAL_SALES')\n",
    "target_col = 'TOTAL_SALES'\n",
    "\n",
    "snowdf_train, snowdf_test = df_filtered.random_split([0.8, 0.2], seed=82) \n",
    "snowdf_train=snowdf_train.limit(1_000)\n",
    "snowdf_train.count()\n",
    "\n",
    "snowdf_train_pd  = pd.DataFrame(snowdf_train.collect())\n",
    "snowdf_train_pd"
   ]
  },
  {
   "cell_type": "code",
   "execution_count": 10,
   "id": "47af0eba-7964-432a-a9fc-8cbd2e58135d",
   "metadata": {
    "collapsed": false,
    "language": "python",
    "name": "cell11"
   },
   "outputs": [],
   "source": [
    " ## Distributed Preprocessing - 25X to 50X faster\n",
    "\n",
    "numeric_features = ['C_BIRTH_YEAR', 'CD_DEP_COUNT']\n",
    "numeric_transformer = Pipeline(steps=[('imputer', SimpleImputer(strategy='median'))])\n",
    "\n",
    "categorical_cols = ['CD_GENDER', 'CD_MARITAL_STATUS', 'CD_CREDIT_RATING', 'CD_EDUCATION_STATUS']\n",
    "categorical_transformer = Pipeline(steps=[\n",
    "    ('imputer', SimpleImputer(strategy='most_frequent')),\n",
    "    ('onehot', OneHotEncoder())\n",
    "])\n",
    "\n",
    "preprocessor = ColumnTransformer(\n",
    "    transformers=[\n",
    "        ('num', numeric_transformer, numeric_features),\n",
    "        ('cat', categorical_transformer, categorical_cols)\n",
    "        ])\n",
    "\n",
    "pipeline = Pipeline(steps=[('preprocessor', preprocessor),('model', XGBRegressor(random_state=123))])"
   ]
  },
  {
   "cell_type": "code",
   "execution_count": 11,
   "id": "fe8ad1a8-15b8-4ec8-81d2-d34c63c80e65",
   "metadata": {
    "collapsed": false,
    "language": "python",
    "name": "cell12"
   },
   "outputs": [
    {
     "data": {
      "text/html": [
       "<style>#sk-container-id-1 {color: black;}#sk-container-id-1 pre{padding: 0;}#sk-container-id-1 div.sk-toggleable {background-color: white;}#sk-container-id-1 label.sk-toggleable__label {cursor: pointer;display: block;width: 100%;margin-bottom: 0;padding: 0.3em;box-sizing: border-box;text-align: center;}#sk-container-id-1 label.sk-toggleable__label-arrow:before {content: \"▸\";float: left;margin-right: 0.25em;color: #696969;}#sk-container-id-1 label.sk-toggleable__label-arrow:hover:before {color: black;}#sk-container-id-1 div.sk-estimator:hover label.sk-toggleable__label-arrow:before {color: black;}#sk-container-id-1 div.sk-toggleable__content {max-height: 0;max-width: 0;overflow: hidden;text-align: left;background-color: #f0f8ff;}#sk-container-id-1 div.sk-toggleable__content pre {margin: 0.2em;color: black;border-radius: 0.25em;background-color: #f0f8ff;}#sk-container-id-1 input.sk-toggleable__control:checked~div.sk-toggleable__content {max-height: 200px;max-width: 100%;overflow: auto;}#sk-container-id-1 input.sk-toggleable__control:checked~label.sk-toggleable__label-arrow:before {content: \"▾\";}#sk-container-id-1 div.sk-estimator input.sk-toggleable__control:checked~label.sk-toggleable__label {background-color: #d4ebff;}#sk-container-id-1 div.sk-label input.sk-toggleable__control:checked~label.sk-toggleable__label {background-color: #d4ebff;}#sk-container-id-1 input.sk-hidden--visually {border: 0;clip: rect(1px 1px 1px 1px);clip: rect(1px, 1px, 1px, 1px);height: 1px;margin: -1px;overflow: hidden;padding: 0;position: absolute;width: 1px;}#sk-container-id-1 div.sk-estimator {font-family: monospace;background-color: #f0f8ff;border: 1px dotted black;border-radius: 0.25em;box-sizing: border-box;margin-bottom: 0.5em;}#sk-container-id-1 div.sk-estimator:hover {background-color: #d4ebff;}#sk-container-id-1 div.sk-parallel-item::after {content: \"\";width: 100%;border-bottom: 1px solid gray;flex-grow: 1;}#sk-container-id-1 div.sk-label:hover label.sk-toggleable__label {background-color: #d4ebff;}#sk-container-id-1 div.sk-serial::before {content: \"\";position: absolute;border-left: 1px solid gray;box-sizing: border-box;top: 0;bottom: 0;left: 50%;z-index: 0;}#sk-container-id-1 div.sk-serial {display: flex;flex-direction: column;align-items: center;background-color: white;padding-right: 0.2em;padding-left: 0.2em;position: relative;}#sk-container-id-1 div.sk-item {position: relative;z-index: 1;}#sk-container-id-1 div.sk-parallel {display: flex;align-items: stretch;justify-content: center;background-color: white;position: relative;}#sk-container-id-1 div.sk-item::before, #sk-container-id-1 div.sk-parallel-item::before {content: \"\";position: absolute;border-left: 1px solid gray;box-sizing: border-box;top: 0;bottom: 0;left: 50%;z-index: -1;}#sk-container-id-1 div.sk-parallel-item {display: flex;flex-direction: column;z-index: 1;position: relative;background-color: white;}#sk-container-id-1 div.sk-parallel-item:first-child::after {align-self: flex-end;width: 50%;}#sk-container-id-1 div.sk-parallel-item:last-child::after {align-self: flex-start;width: 50%;}#sk-container-id-1 div.sk-parallel-item:only-child::after {width: 0;}#sk-container-id-1 div.sk-dashed-wrapped {border: 1px dashed gray;margin: 0 0.4em 0.5em 0.4em;box-sizing: border-box;padding-bottom: 0.4em;background-color: white;}#sk-container-id-1 div.sk-label label {font-family: monospace;font-weight: bold;display: inline-block;line-height: 1.2em;}#sk-container-id-1 div.sk-label-container {text-align: center;}#sk-container-id-1 div.sk-container {/* jupyter's `normalize.less` sets `[hidden] { display: none; }` but bootstrap.min.css set `[hidden] { display: none !important; }` so we also need the `!important` here to be able to override the default hidden behavior on the sphinx rendered scikit-learn.org. See: https://github.com/scikit-learn/scikit-learn/issues/21755 */display: inline-block !important;position: relative;}#sk-container-id-1 div.sk-text-repr-fallback {display: none;}</style><div id=\"sk-container-id-1\" class=\"sk-top-container\"><div class=\"sk-text-repr-fallback\"><pre>GridSearchCV(estimator=Pipeline(steps=[(&#x27;preprocessor&#x27;,\n",
       "                                        ColumnTransformer(transformers=[(&#x27;num&#x27;,\n",
       "                                                                         Pipeline(steps=[(&#x27;imputer&#x27;,\n",
       "                                                                                          SimpleImputer(strategy=&#x27;median&#x27;))]),\n",
       "                                                                         [&#x27;C_BIRTH_YEAR&#x27;,\n",
       "                                                                          &#x27;CD_DEP_COUNT&#x27;]),\n",
       "                                                                        (&#x27;cat&#x27;,\n",
       "                                                                         Pipeline(steps=[(&#x27;imputer&#x27;,\n",
       "                                                                                          SimpleImputer(strategy=&#x27;most_frequent&#x27;)),\n",
       "                                                                                         (&#x27;onehot&#x27;,\n",
       "                                                                                          OneHotEncoder())]),\n",
       "                                                                         [&#x27;CD_GENDER&#x27;,\n",
       "                                                                          &#x27;CD_MARITAL_STATUS&#x27;,\n",
       "                                                                          &#x27;CD_CREDIT_RATING&#x27;,\n",
       "                                                                          &#x27;CD_...\n",
       "                                                     learning_rate=None,\n",
       "                                                     max_bin=None,\n",
       "                                                     max_cat_threshold=None,\n",
       "                                                     max_cat_to_onehot=None,\n",
       "                                                     max_delta_step=None,\n",
       "                                                     max_depth=None,\n",
       "                                                     max_leaves=None,\n",
       "                                                     min_child_weight=None,\n",
       "                                                     missing=nan,\n",
       "                                                     monotone_constraints=None,\n",
       "                                                     n_estimators=100,\n",
       "                                                     n_jobs=None,\n",
       "                                                     num_parallel_tree=None,\n",
       "                                                     predictor=None,\n",
       "                                                     random_state=123, ...))]),\n",
       "             param_grid={&#x27;model__learning_rate&#x27;: [0.1, 0.3],\n",
       "                         &#x27;model__max_depth&#x27;: [2, 4]})</pre><b>In a Jupyter environment, please rerun this cell to show the HTML representation or trust the notebook. <br />On GitHub, the HTML representation is unable to render, please try loading this page with nbviewer.org.</b></div><div class=\"sk-container\" hidden><div class=\"sk-item sk-dashed-wrapped\"><div class=\"sk-label-container\"><div class=\"sk-label sk-toggleable\"><input class=\"sk-toggleable__control sk-hidden--visually\" id=\"sk-estimator-id-1\" type=\"checkbox\" ><label for=\"sk-estimator-id-1\" class=\"sk-toggleable__label sk-toggleable__label-arrow\">GridSearchCV</label><div class=\"sk-toggleable__content\"><pre>GridSearchCV(estimator=Pipeline(steps=[(&#x27;preprocessor&#x27;,\n",
       "                                        ColumnTransformer(transformers=[(&#x27;num&#x27;,\n",
       "                                                                         Pipeline(steps=[(&#x27;imputer&#x27;,\n",
       "                                                                                          SimpleImputer(strategy=&#x27;median&#x27;))]),\n",
       "                                                                         [&#x27;C_BIRTH_YEAR&#x27;,\n",
       "                                                                          &#x27;CD_DEP_COUNT&#x27;]),\n",
       "                                                                        (&#x27;cat&#x27;,\n",
       "                                                                         Pipeline(steps=[(&#x27;imputer&#x27;,\n",
       "                                                                                          SimpleImputer(strategy=&#x27;most_frequent&#x27;)),\n",
       "                                                                                         (&#x27;onehot&#x27;,\n",
       "                                                                                          OneHotEncoder())]),\n",
       "                                                                         [&#x27;CD_GENDER&#x27;,\n",
       "                                                                          &#x27;CD_MARITAL_STATUS&#x27;,\n",
       "                                                                          &#x27;CD_CREDIT_RATING&#x27;,\n",
       "                                                                          &#x27;CD_...\n",
       "                                                     learning_rate=None,\n",
       "                                                     max_bin=None,\n",
       "                                                     max_cat_threshold=None,\n",
       "                                                     max_cat_to_onehot=None,\n",
       "                                                     max_delta_step=None,\n",
       "                                                     max_depth=None,\n",
       "                                                     max_leaves=None,\n",
       "                                                     min_child_weight=None,\n",
       "                                                     missing=nan,\n",
       "                                                     monotone_constraints=None,\n",
       "                                                     n_estimators=100,\n",
       "                                                     n_jobs=None,\n",
       "                                                     num_parallel_tree=None,\n",
       "                                                     predictor=None,\n",
       "                                                     random_state=123, ...))]),\n",
       "             param_grid={&#x27;model__learning_rate&#x27;: [0.1, 0.3],\n",
       "                         &#x27;model__max_depth&#x27;: [2, 4]})</pre></div></div></div><div class=\"sk-parallel\"><div class=\"sk-parallel-item\"><div class=\"sk-item\"><div class=\"sk-label-container\"><div class=\"sk-label sk-toggleable\"><input class=\"sk-toggleable__control sk-hidden--visually\" id=\"sk-estimator-id-2\" type=\"checkbox\" ><label for=\"sk-estimator-id-2\" class=\"sk-toggleable__label sk-toggleable__label-arrow\">estimator: Pipeline</label><div class=\"sk-toggleable__content\"><pre>Pipeline(steps=[(&#x27;preprocessor&#x27;,\n",
       "                 ColumnTransformer(transformers=[(&#x27;num&#x27;,\n",
       "                                                  Pipeline(steps=[(&#x27;imputer&#x27;,\n",
       "                                                                   SimpleImputer(strategy=&#x27;median&#x27;))]),\n",
       "                                                  [&#x27;C_BIRTH_YEAR&#x27;,\n",
       "                                                   &#x27;CD_DEP_COUNT&#x27;]),\n",
       "                                                 (&#x27;cat&#x27;,\n",
       "                                                  Pipeline(steps=[(&#x27;imputer&#x27;,\n",
       "                                                                   SimpleImputer(strategy=&#x27;most_frequent&#x27;)),\n",
       "                                                                  (&#x27;onehot&#x27;,\n",
       "                                                                   OneHotEncoder())]),\n",
       "                                                  [&#x27;CD_GENDER&#x27;,\n",
       "                                                   &#x27;CD_MARITAL_STATUS&#x27;,\n",
       "                                                   &#x27;CD_CREDIT_RATING&#x27;,\n",
       "                                                   &#x27;CD_EDUCATION_STATUS&#x27;])])),...\n",
       "                              feature_types=None, gamma=None, gpu_id=None,\n",
       "                              grow_policy=None, importance_type=None,\n",
       "                              interaction_constraints=None, learning_rate=None,\n",
       "                              max_bin=None, max_cat_threshold=None,\n",
       "                              max_cat_to_onehot=None, max_delta_step=None,\n",
       "                              max_depth=None, max_leaves=None,\n",
       "                              min_child_weight=None, missing=nan,\n",
       "                              monotone_constraints=None, n_estimators=100,\n",
       "                              n_jobs=None, num_parallel_tree=None,\n",
       "                              predictor=None, random_state=123, ...))])</pre></div></div></div><div class=\"sk-serial\"><div class=\"sk-item\"><div class=\"sk-serial\"><div class=\"sk-item sk-dashed-wrapped\"><div class=\"sk-label-container\"><div class=\"sk-label sk-toggleable\"><input class=\"sk-toggleable__control sk-hidden--visually\" id=\"sk-estimator-id-3\" type=\"checkbox\" ><label for=\"sk-estimator-id-3\" class=\"sk-toggleable__label sk-toggleable__label-arrow\">preprocessor: ColumnTransformer</label><div class=\"sk-toggleable__content\"><pre>ColumnTransformer(transformers=[(&#x27;num&#x27;,\n",
       "                                 Pipeline(steps=[(&#x27;imputer&#x27;,\n",
       "                                                  SimpleImputer(strategy=&#x27;median&#x27;))]),\n",
       "                                 [&#x27;C_BIRTH_YEAR&#x27;, &#x27;CD_DEP_COUNT&#x27;]),\n",
       "                                (&#x27;cat&#x27;,\n",
       "                                 Pipeline(steps=[(&#x27;imputer&#x27;,\n",
       "                                                  SimpleImputer(strategy=&#x27;most_frequent&#x27;)),\n",
       "                                                 (&#x27;onehot&#x27;, OneHotEncoder())]),\n",
       "                                 [&#x27;CD_GENDER&#x27;, &#x27;CD_MARITAL_STATUS&#x27;,\n",
       "                                  &#x27;CD_CREDIT_RATING&#x27;, &#x27;CD_EDUCATION_STATUS&#x27;])])</pre></div></div></div><div class=\"sk-parallel\"><div class=\"sk-parallel-item\"><div class=\"sk-item\"><div class=\"sk-label-container\"><div class=\"sk-label sk-toggleable\"><input class=\"sk-toggleable__control sk-hidden--visually\" id=\"sk-estimator-id-4\" type=\"checkbox\" ><label for=\"sk-estimator-id-4\" class=\"sk-toggleable__label sk-toggleable__label-arrow\">num</label><div class=\"sk-toggleable__content\"><pre>[&#x27;C_BIRTH_YEAR&#x27;, &#x27;CD_DEP_COUNT&#x27;]</pre></div></div></div><div class=\"sk-serial\"><div class=\"sk-item\"><div class=\"sk-serial\"><div class=\"sk-item\"><div class=\"sk-estimator sk-toggleable\"><input class=\"sk-toggleable__control sk-hidden--visually\" id=\"sk-estimator-id-5\" type=\"checkbox\" ><label for=\"sk-estimator-id-5\" class=\"sk-toggleable__label sk-toggleable__label-arrow\">SimpleImputer</label><div class=\"sk-toggleable__content\"><pre>SimpleImputer(strategy=&#x27;median&#x27;)</pre></div></div></div></div></div></div></div></div><div class=\"sk-parallel-item\"><div class=\"sk-item\"><div class=\"sk-label-container\"><div class=\"sk-label sk-toggleable\"><input class=\"sk-toggleable__control sk-hidden--visually\" id=\"sk-estimator-id-6\" type=\"checkbox\" ><label for=\"sk-estimator-id-6\" class=\"sk-toggleable__label sk-toggleable__label-arrow\">cat</label><div class=\"sk-toggleable__content\"><pre>[&#x27;CD_GENDER&#x27;, &#x27;CD_MARITAL_STATUS&#x27;, &#x27;CD_CREDIT_RATING&#x27;, &#x27;CD_EDUCATION_STATUS&#x27;]</pre></div></div></div><div class=\"sk-serial\"><div class=\"sk-item\"><div class=\"sk-serial\"><div class=\"sk-item\"><div class=\"sk-estimator sk-toggleable\"><input class=\"sk-toggleable__control sk-hidden--visually\" id=\"sk-estimator-id-7\" type=\"checkbox\" ><label for=\"sk-estimator-id-7\" class=\"sk-toggleable__label sk-toggleable__label-arrow\">SimpleImputer</label><div class=\"sk-toggleable__content\"><pre>SimpleImputer(strategy=&#x27;most_frequent&#x27;)</pre></div></div></div><div class=\"sk-item\"><div class=\"sk-estimator sk-toggleable\"><input class=\"sk-toggleable__control sk-hidden--visually\" id=\"sk-estimator-id-8\" type=\"checkbox\" ><label for=\"sk-estimator-id-8\" class=\"sk-toggleable__label sk-toggleable__label-arrow\">OneHotEncoder</label><div class=\"sk-toggleable__content\"><pre>OneHotEncoder()</pre></div></div></div></div></div></div></div></div></div></div><div class=\"sk-item\"><div class=\"sk-estimator sk-toggleable\"><input class=\"sk-toggleable__control sk-hidden--visually\" id=\"sk-estimator-id-9\" type=\"checkbox\" ><label for=\"sk-estimator-id-9\" class=\"sk-toggleable__label sk-toggleable__label-arrow\">XGBRegressor</label><div class=\"sk-toggleable__content\"><pre>XGBRegressor(base_score=None, booster=None, callbacks=None,\n",
       "             colsample_bylevel=None, colsample_bynode=None,\n",
       "             colsample_bytree=None, early_stopping_rounds=None,\n",
       "             enable_categorical=False, eval_metric=None, feature_types=None,\n",
       "             gamma=None, gpu_id=None, grow_policy=None, importance_type=None,\n",
       "             interaction_constraints=None, learning_rate=None, max_bin=None,\n",
       "             max_cat_threshold=None, max_cat_to_onehot=None,\n",
       "             max_delta_step=None, max_depth=None, max_leaves=None,\n",
       "             min_child_weight=None, missing=nan, monotone_constraints=None,\n",
       "             n_estimators=100, n_jobs=None, num_parallel_tree=None,\n",
       "             predictor=None, random_state=123, ...)</pre></div></div></div></div></div></div></div></div></div></div></div></div>"
      ],
      "text/plain": [
       "GridSearchCV(estimator=Pipeline(steps=[('preprocessor',\n",
       "                                        ColumnTransformer(transformers=[('num',\n",
       "                                                                         Pipeline(steps=[('imputer',\n",
       "                                                                                          SimpleImputer(strategy='median'))]),\n",
       "                                                                         ['C_BIRTH_YEAR',\n",
       "                                                                          'CD_DEP_COUNT']),\n",
       "                                                                        ('cat',\n",
       "                                                                         Pipeline(steps=[('imputer',\n",
       "                                                                                          SimpleImputer(strategy='most_frequent')),\n",
       "                                                                                         ('onehot',\n",
       "                                                                                          OneHotEncoder())]),\n",
       "                                                                         ['CD_GENDER',\n",
       "                                                                          'CD_MARITAL_STATUS',\n",
       "                                                                          'CD_CREDIT_RATING',\n",
       "                                                                          'CD_...\n",
       "                                                     learning_rate=None,\n",
       "                                                     max_bin=None,\n",
       "                                                     max_cat_threshold=None,\n",
       "                                                     max_cat_to_onehot=None,\n",
       "                                                     max_delta_step=None,\n",
       "                                                     max_depth=None,\n",
       "                                                     max_leaves=None,\n",
       "                                                     min_child_weight=None,\n",
       "                                                     missing=nan,\n",
       "                                                     monotone_constraints=None,\n",
       "                                                     n_estimators=100,\n",
       "                                                     n_jobs=None,\n",
       "                                                     num_parallel_tree=None,\n",
       "                                                     predictor=None,\n",
       "                                                     random_state=123, ...))]),\n",
       "             param_grid={'model__learning_rate': [0.1, 0.3],\n",
       "                         'model__max_depth': [2, 4]})"
      ]
     },
     "execution_count": 11,
     "metadata": {},
     "output_type": "execute_result"
    }
   ],
   "source": [
    " ## Distributed HyperParameter Optimization\n",
    "hyper_param = dict(\n",
    "        model__max_depth=[2,4],\n",
    "        model__learning_rate=[0.1,0.3],\n",
    "    )\n",
    "\n",
    "xg_model = GridSearchCV(\n",
    "    estimator=pipeline,\n",
    "    param_grid=hyper_param,\n",
    "    #cv=5,\n",
    "    #input_cols=numeric_features + categorical_cols,\n",
    "    #label_cols=['TOTAL_SALES'],\n",
    "    #output_cols=[\"TOTAL_SALES_PREDICT\"],\n",
    "    #verbose=4  ##verbose not working\n",
    ")\n",
    "\n",
    "X_train = snowdf_train_pd.drop(columns=['TOTAL_SALES'])\n",
    "y_train = snowdf_train_pd['TOTAL_SALES']\n",
    "\n",
    "xg_model.fit(X_train, y_train)"
   ]
  },
  {
   "cell_type": "code",
   "execution_count": 12,
   "id": "34525ba4-f851-41c5-8b45-0b8f7a2760eb",
   "metadata": {
    "collapsed": false,
    "language": "python",
    "name": "cell16"
   },
   "outputs": [
    {
     "data": {
      "text/plain": [
       "[Row(status='Statement executed successfully.')]"
      ]
     },
     "execution_count": 12,
     "metadata": {},
     "output_type": "execute_result"
    }
   ],
   "source": [
    "session.sql('ALTER SESSION SET USE_CACHED_RESULT=FALSE').collect()"
   ]
  },
  {
   "cell_type": "code",
   "execution_count": 13,
   "id": "8898389d-e1a7-428b-9f50-e5addabf25bd",
   "metadata": {
    "collapsed": false,
    "language": "python",
    "name": "cell15"
   },
   "outputs": [
    {
     "name": "stdout",
     "output_type": "stream",
     "text": [
      "1000000\n",
      "total rows: 1000000 total time: 2.7242841323216758 seed: 38\n",
      "5000000\n",
      "total rows: 5000000 total time: 13.862894546985626 seed: 90\n",
      "10000000\n",
      "total rows: 10000000 total time: 10.111544013023376 seed: 339\n",
      "25000000\n",
      "total rows: 25000000 total time: 50.65401263634364 seed: 919\n",
      "49268458\n",
      "total rows: 50000000 total time: 169.8913545290629 seed: 399\n"
     ]
    }
   ],
   "source": [
    "lengths = [1_000_000,5_000_000,10_000_000,25_000_000,50_000_000]\n",
    "random.seed(9001)\n",
    "\n",
    "for i, length in enumerate(lengths):\n",
    "    seedv = random.randint(1, 1000)\n",
    "    snowdf_train, snowdf_test = df_filtered.random_split([0.8, 0.2], seed=seedv)  #82\n",
    "    snowdf_train=snowdf_train.limit(length)\n",
    "    snowdf_train_pd  = pd.DataFrame(snowdf_train.collect())\n",
    "    print (snowdf_train.count())\n",
    "    X_train = snowdf_train_pd.drop(columns=['TOTAL_SALES'])\n",
    "    y_train = snowdf_train_pd['TOTAL_SALES']\n",
    "    init = time()\n",
    "    xg_model.fit(X_train, y_train)\n",
    "    total_time = (time() - init) / 60\n",
    "    print(f'total rows: {length} total time: {total_time} seed: {seedv}')"
   ]
  }
 ],
 "metadata": {
  "kernelspec": {
   "display_name": "working38",
   "language": "python",
   "name": "python3"
  },
  "language_info": {
   "codemirror_mode": {
    "name": "ipython",
    "version": 3
   },
   "file_extension": ".py",
   "mimetype": "text/x-python",
   "name": "python",
   "nbconvert_exporter": "python",
   "pygments_lexer": "ipython3",
   "version": "3.8.18"
  }
 },
 "nbformat": 4,
 "nbformat_minor": 5
}
