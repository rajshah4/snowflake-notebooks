{
 "cells": [
  {
   "cell_type": "markdown",
   "id": "0bb54abc",
   "metadata": {},
   "source": [
    "- Required snowflake-ml-python version **1.5.0** or higher\n",
    "- Required snowflake version **8.17** or higher\n",
    "- Updated on: 5/5/2024"
   ]
  },
  {
   "cell_type": "markdown",
   "id": "aeae3429",
   "metadata": {},
   "source": [
    "## Basic Feature Demo\n",
    "\n",
    "This notebook demonstrates feature store with simple features. It includes an end-2-end ML experiment cycle: feature creation, training and inference. It also demonstrate the interoperation between Feature Store and Model Registry.\n",
    "\n",
    "The notebooks also shows how to extract feature lineage and visualize the feature lineage graph."
   ]
  },
  {
   "cell_type": "code",
   "execution_count": 1,
   "id": "714787e6",
   "metadata": {},
   "outputs": [],
   "source": [
    "from snowflake.snowpark import Session\n",
    "from snowflake.snowpark import functions as F\n",
    "from snowflake.ml.feature_store import (\n",
    "    FeatureStore,\n",
    "    FeatureView,\n",
    "    Entity,\n",
    "    CreationMode\n",
    ")\n",
    "from snowflake.ml.utils.connection_params import SnowflakeLoginOptions\n",
    "import json"
   ]
  },
  {
   "cell_type": "code",
   "execution_count": 2,
   "id": "7d4c41ad",
   "metadata": {},
   "outputs": [],
   "source": [
    "import json\n",
    "\n",
    "with open('../../creds.json') as f:\n",
    "    data = json.load(f)\n",
    "    USERNAME = data['user']\n",
    "    PASSWORD = data['password']\n",
    "    SF_ACCOUNT = data['account']\n",
    "    SF_WH = data['warehouse']\n",
    "\n",
    "CONNECTION_PARAMETERS = {\n",
    "   \"account\": SF_ACCOUNT,\n",
    "   \"user\": USERNAME,\n",
    "   \"password\": PASSWORD,\n",
    "}\n",
    "\n",
    "session = Session.builder.configs(CONNECTION_PARAMETERS).create()"
   ]
  },
  {
   "cell_type": "code",
   "execution_count": 3,
   "id": "66fbf925",
   "metadata": {},
   "outputs": [
    {
     "name": "stdout",
     "output_type": "stream",
     "text": [
      "User                        : RSHAH\n",
      "Role                        : \"RAJIV\"\n",
      "Database                    : \"RAJIV\"\n",
      "Schema                      : \"PUBLIC\"\n",
      "Warehouse                   : \"RAJIV\"\n",
      "Snowflake version           : 8.26.0\n",
      "Snowpark for Python version : 1.15.0a1\n",
      "Snowflake ML version        : 1.5.0\n"
     ]
    }
   ],
   "source": [
    "from snowflake.snowpark.version import VERSION\n",
    "snowflake_environment = session.sql('select current_user(), current_version()').collect()\n",
    "snowpark_version = VERSION\n",
    "from snowflake.ml import version\n",
    "mlversion = version.VERSION\n",
    "\n",
    "# Current Environment Details\n",
    "print('User                        : {}'.format(snowflake_environment[0][0]))\n",
    "print('Role                        : {}'.format(session.get_current_role()))\n",
    "print('Database                    : {}'.format(session.get_current_database()))\n",
    "print('Schema                      : {}'.format(session.get_current_schema()))\n",
    "print('Warehouse                   : {}'.format(session.get_current_warehouse()))\n",
    "print('Snowflake version           : {}'.format(snowflake_environment[0][1]))\n",
    "print('Snowpark for Python version : {}.{}.{}'.format(snowpark_version[0],snowpark_version[1],snowpark_version[2]))\n",
    "print('Snowflake ML version        : {}.{}.{}'.format(mlversion[0],mlversion[2],mlversion[4]))"
   ]
  },
  {
   "cell_type": "markdown",
   "id": "9f16e6a8",
   "metadata": {},
   "source": [
    "## Setup Snowflake connection and database\n",
    "For detailed session connection config, please follow this [tutorial](https://medium.com/snowflake/snowflakeloginoptions-an-easier-way-to-connect-using-python-2f0e726da936).\n"
   ]
  },
  {
   "cell_type": "code",
   "execution_count": 4,
   "id": "e7b3e982",
   "metadata": {},
   "outputs": [],
   "source": [
    "#session = Session.builder.configs(SnowflakeLoginOptions()).create()"
   ]
  },
  {
   "cell_type": "markdown",
   "id": "494e1503",
   "metadata": {},
   "source": [
    "Below cell creates temporary database, schema and warehouse for this notebook. All temporary resources will be cleaned up at the end of this notebook. You can rename with your own name if needed. "
   ]
  },
  {
   "cell_type": "code",
   "execution_count": 5,
   "id": "d9622928",
   "metadata": {},
   "outputs": [
    {
     "data": {
      "text/plain": [
       "[Row(status='RAJIV already exists, statement succeeded.')]"
      ]
     },
     "execution_count": 5,
     "metadata": {},
     "output_type": "execute_result"
    }
   ],
   "source": [
    "# database name where test data, feature store and model lives.\n",
    "FS_DEMO_DB = f\"FEATURE_STORE_DEMO\"\n",
    "# schema where test data lives.\n",
    "TEST_DATASET_SCHEMA = 'TEST_DATASET'\n",
    "# feature store name.\n",
    "FS_DEMO_SCHEMA = \"AWESOME_FS_BASIC_FEATURES\"\n",
    "# the schema model lives.\n",
    "MODEL_DEMO_SCHEMA = \"MODELS\"\n",
    "# warehouse name used in this notebook.\n",
    "FS_DEMO_WH = \"RAJIV\"\n",
    "\n",
    "session.sql(f\"CREATE OR REPLACE DATABASE {FS_DEMO_DB}\").collect()\n",
    "session.sql(f\"\"\"\n",
    "    CREATE OR REPLACE SCHEMA {FS_DEMO_DB}.{TEST_DATASET_SCHEMA}\n",
    "\"\"\").collect()\n",
    "session.sql(f\"\"\"\n",
    "    CREATE OR REPLACE SCHEMA {FS_DEMO_DB}.{MODEL_DEMO_SCHEMA}\n",
    "\"\"\").collect()\n",
    "session.sql(f\"CREATE WAREHOUSE IF NOT EXISTS {FS_DEMO_WH}\").collect()"
   ]
  },
  {
   "cell_type": "markdown",
   "id": "4ece7a2b",
   "metadata": {},
   "source": [
    "## Create a new FeatureStore client\n",
    "\n",
    "Let's first create a feature store client. With `CREATE_IF_NOT_EXIST` mode, it will try to create schema and all necessary feature store metadata if it doesn't exist already. It is required for the first time to setup a Feature Store. Afterwards, you can use `FAIL_IF_NOT_EXIST` mode to connecte to an existing Feature Store. \n",
    "\n",
    "Note database must already exist. Feature Store will **NOT** try to create the database even in `CREATE_IF_NOT_EXIST` mode."
   ]
  },
  {
   "cell_type": "code",
   "execution_count": 6,
   "id": "fe850ccd",
   "metadata": {},
   "outputs": [],
   "source": [
    "fs = FeatureStore(\n",
    "    session=session, \n",
    "    database=FS_DEMO_DB, \n",
    "    name=FS_DEMO_SCHEMA, \n",
    "    default_warehouse=FS_DEMO_WH,\n",
    "    creation_mode=CreationMode.CREATE_IF_NOT_EXIST,\n",
    ")"
   ]
  },
  {
   "cell_type": "markdown",
   "id": "b79ba9be",
   "metadata": {},
   "source": [
    "## Prepare test data\n",
    "\n",
    "We will use wine quality dataset for this demo. Download the public dataset from kaggle if you dont have it already: https://www.kaggle.com/datasets/uciml/red-wine-quality-cortez-et-al-2009. Replace `TEST_CSV_FILE_PATH` with your local file path."
   ]
  },
  {
   "cell_type": "code",
   "execution_count": 7,
   "id": "e60407c6",
   "metadata": {},
   "outputs": [],
   "source": [
    "TEST_CSV_FILE_PATH = 'winequality-red.csv'\n",
    "session.file.put(\n",
    "    f\"file://{TEST_CSV_FILE_PATH}\",session.get_session_stage())\n",
    "\n",
    "from snowflake.snowpark.types import (\n",
    "    StructType, \n",
    "    StructField, \n",
    "    IntegerType, \n",
    "    FloatType\n",
    ")\n",
    "input_schema = StructType(\n",
    "    [\n",
    "        StructField(\"fixed_acidity\", FloatType()), \n",
    "        StructField(\"volatile_acidity\", FloatType()), \n",
    "        StructField(\"citric_acid\", FloatType()), \n",
    "        StructField(\"residual_sugar\", FloatType()), \n",
    "        StructField(\"chlorides\", FloatType()), \n",
    "        StructField(\"free_sulfur_dioxide\", IntegerType()),\n",
    "        StructField(\"total_sulfur_dioxide\", IntegerType()), \n",
    "        StructField(\"density\", FloatType()), \n",
    "        StructField(\"pH\", FloatType()), \n",
    "        StructField(\"sulphates\", FloatType()),\n",
    "        StructField(\"alcohol\", FloatType()), \n",
    "        StructField(\"quality\", IntegerType())\n",
    "    ]\n",
    ")\n",
    "df = session.read.options({\"field_delimiter\": \";\", \"skip_header\": 1}) \\\n",
    "    .schema(input_schema) \\\n",
    "    .csv(f\"{session.get_session_stage()}/winequality-red.csv\")\n",
    "full_table_name = f\"{FS_DEMO_DB}.{TEST_DATASET_SCHEMA}.WINE_DATA\"\n",
    "df.write.mode(\"overwrite\").save_as_table(full_table_name)"
   ]
  },
  {
   "cell_type": "markdown",
   "id": "b50b7ad1",
   "metadata": {},
   "source": [
    "## Create and register a new Entity\n",
    "\n",
    "We will create an Entity called *wine* and register it with the feature store.\n",
    "\n",
    "You can retrieve the active Entities in the feature store with list_entities() API."
   ]
  },
  {
   "cell_type": "code",
   "execution_count": 8,
   "id": "9c8e9605",
   "metadata": {},
   "outputs": [
    {
     "name": "stdout",
     "output_type": "stream",
     "text": [
      "-------------------------------------------\n",
      "|\"NAME\"  |\"JOIN_KEYS\"  |\"DESC\"  |\"OWNER\"  |\n",
      "-------------------------------------------\n",
      "|WINE    |[\"WINE_ID\"]  |        |RAJIV    |\n",
      "-------------------------------------------\n",
      "\n"
     ]
    }
   ],
   "source": [
    "wine_entity = Entity(name=\"WINE\", join_keys=[\"WINE_ID\"])\n",
    "fs.register_entity(wine_entity)\n",
    "fs.list_entities().show()"
   ]
  },
  {
   "cell_type": "markdown",
   "id": "57a529d7",
   "metadata": {},
   "source": [
    "## Load source data and do some simple feature engineering\n",
    "\n",
    "Then we will load from the source table and conduct some simple feature engineerings.\n",
    "\n",
    "Here we are just doing two simple data manipulation (but more complex ones are carried out the same way):\n",
    "1. Assign a WINE_ID column to the source\n",
    "2. Derive a new column by multipying two existing feature columns"
   ]
  },
  {
   "cell_type": "code",
   "execution_count": 9,
   "id": "b6037ab2",
   "metadata": {},
   "outputs": [],
   "source": [
    "from snowflake.snowpark.window import Window\n",
    "\n",
    "def addIdColumn(df, id_column_name):\n",
    "    # Add id column to dataframe\n",
    "    columns = df.columns\n",
    "    new_df = df.withColumn(\n",
    "        id_column_name,\n",
    "        F.row_number().over(Window.order_by(F.col(\"quality\"))))\n",
    "    return new_df\n",
    "\n",
    "source_df = session.table(full_table_name)\n",
    "source_df = addIdColumn(source_df, \"WINE_ID\")"
   ]
  },
  {
   "cell_type": "code",
   "execution_count": 10,
   "id": "573e7611-d900-443f-85b0-6425640e0264",
   "metadata": {},
   "outputs": [
    {
     "name": "stdout",
     "output_type": "stream",
     "text": [
      "Total number of rows in source df: 1599\n",
      "---------------------------------------------------------------------------------------------------------------------------------------------------------------------------------------------------------------\n",
      "|\"FIXED_ACIDITY\"  |\"VOLATILE_ACIDITY\"  |\"CITRIC_ACID\"  |\"RESIDUAL_SUGAR\"  |\"CHLORIDES\"  |\"FREE_SULFUR_DIOXIDE\"  |\"TOTAL_SULFUR_DIOXIDE\"  |\"DENSITY\"  |\"PH\"  |\"SULPHATES\"  |\"ALCOHOL\"  |\"QUALITY\"  |\"WINE_ID\"  |\n",
      "---------------------------------------------------------------------------------------------------------------------------------------------------------------------------------------------------------------\n",
      "|11.6             |0.58                |0.66           |2.2               |0.074        |10                     |47                      |1.0008     |3.25  |0.57         |9.0        |3          |1          |\n",
      "|8.3              |1.02                |0.02           |3.4               |0.084        |6                      |11                      |0.99892    |3.48  |0.49         |11.0       |3          |2          |\n",
      "|7.4              |1.185               |0.0            |4.25              |0.097        |5                      |14                      |0.9966     |3.63  |0.54         |10.7       |3          |3          |\n",
      "|6.8              |0.815               |0.0            |1.2               |0.267        |16                     |29                      |0.99471    |3.32  |0.51         |9.8        |3          |4          |\n",
      "|7.3              |0.98                |0.05           |2.1               |0.061        |20                     |49                      |0.99705    |3.31  |0.55         |9.7        |3          |5          |\n",
      "|10.4             |0.61                |0.49           |2.1               |0.2          |5                      |16                      |0.9994     |3.16  |0.63         |8.4        |3          |6          |\n",
      "|6.7              |0.76                |0.02           |1.8               |0.078        |6                      |12                      |0.996      |3.55  |0.63         |9.95       |3          |7          |\n",
      "|10.4             |0.44                |0.42           |1.5               |0.145        |34                     |48                      |0.99832    |3.38  |0.86         |9.9        |3          |8          |\n",
      "|7.1              |0.875               |0.05           |5.7               |0.082        |3                      |14                      |0.99808    |3.4   |0.52         |10.2       |3          |9          |\n",
      "|7.6              |1.58                |0.0            |2.1               |0.137        |5                      |9                       |0.99476    |3.5   |0.4          |10.9       |3          |10         |\n",
      "---------------------------------------------------------------------------------------------------------------------------------------------------------------------------------------------------------------\n",
      "\n"
     ]
    }
   ],
   "source": [
    "source_df_rows_count = source_df.count()\n",
    "print(f\"Total number of rows in source df: {source_df_rows_count}\")\n",
    "source_df.show()"
   ]
  },
  {
   "cell_type": "code",
   "execution_count": 11,
   "id": "d75e06fe",
   "metadata": {},
   "outputs": [
    {
     "name": "stdout",
     "output_type": "stream",
     "text": [
      "--------------------------------------------------------------------------------------------------------------------------------------------------------------------------------------------\n",
      "|\"WINE_ID\"  |\"FIXED_ACIDITY\"  |\"VOLATILE_ACIDITY\"  |\"CITRIC_ACID\"  |\"RESIDUAL_SUGAR\"  |\"CHLORIDES\"  |\"FREE_SULFUR_DIOXIDE\"  |\"TOTAL_SULFUR_DIOXIDE\"  |\"DENSITY\"  |\"PH\"  |\"MY_NEW_FEATURE\"  |\n",
      "--------------------------------------------------------------------------------------------------------------------------------------------------------------------------------------------\n",
      "|1          |11.6             |0.58                |0.66           |2.2               |0.074        |10                     |47                      |1.0008     |3.25  |7.656             |\n",
      "|2          |8.3              |1.02                |0.02           |3.4               |0.084        |6                      |11                      |0.99892    |3.48  |0.166             |\n",
      "|3          |7.4              |1.185               |0.0            |4.25              |0.097        |5                      |14                      |0.9966     |3.63  |0.0               |\n",
      "|4          |6.8              |0.815               |0.0            |1.2               |0.267        |16                     |29                      |0.99471    |3.32  |0.0               |\n",
      "|5          |7.3              |0.98                |0.05           |2.1               |0.061        |20                     |49                      |0.99705    |3.31  |0.365             |\n",
      "|6          |10.4             |0.61                |0.49           |2.1               |0.2          |5                      |16                      |0.9994     |3.16  |5.096             |\n",
      "|7          |6.7              |0.76                |0.02           |1.8               |0.078        |6                      |12                      |0.996      |3.55  |0.134             |\n",
      "|8          |10.4             |0.44                |0.42           |1.5               |0.145        |34                     |48                      |0.99832    |3.38  |4.368             |\n",
      "|9          |7.1              |0.875               |0.05           |5.7               |0.082        |3                      |14                      |0.99808    |3.4   |0.355             |\n",
      "|10         |7.6              |1.58                |0.0            |2.1               |0.137        |5                      |9                       |0.99476    |3.5   |0.0               |\n",
      "--------------------------------------------------------------------------------------------------------------------------------------------------------------------------------------------\n",
      "\n"
     ]
    }
   ],
   "source": [
    "def generate_new_feature(df):\n",
    "    # Derive a new feature column\n",
    "    new_df = df.withColumn(\n",
    "        \"MY_NEW_FEATURE\", df[\"FIXED_ACIDITY\"] * df[\"CITRIC_ACID\"])\n",
    "    return new_df.select([\n",
    "        'WINE_ID',\n",
    "        'FIXED_ACIDITY',\n",
    "        'VOLATILE_ACIDITY',\n",
    "        'CITRIC_ACID',\n",
    "        'RESIDUAL_SUGAR',\n",
    "        'CHLORIDES',\n",
    "        'FREE_SULFUR_DIOXIDE',\n",
    "        'TOTAL_SULFUR_DIOXIDE',\n",
    "        'DENSITY',\n",
    "        'PH',\n",
    "        'MY_NEW_FEATURE',\n",
    "    ])\n",
    "\n",
    "feature_df = generate_new_feature(source_df)\n",
    "feature_df.show()"
   ]
  },
  {
   "cell_type": "markdown",
   "id": "bd4be7da",
   "metadata": {},
   "source": [
    "## Create a new FeatureView and materialize the feature pipeline\n",
    "\n",
    "Now we construct a Feature View with above DataFrame. We firstly create a draft feature view. We set the `refresh_freq` to 1 minute, so it will be refreshed every 1 minute. On the backend, it creates a Snowflake [dynamic table](https://docs.snowflake.com/en/user-guide/dynamic-tables-intro). At this point, the draft feature view will not take effect because it is not registered yet.\n",
    "Then we register the feature view by via `register_feature_view`. It will materialize to Snowflake backend. [Incremental maintenance](https://docs.snowflake.com/en/user-guide/dynamic-tables-refresh#label-dynamic-tables-intro-refresh-queries) will start if the query is supported."
   ]
  },
  {
   "cell_type": "code",
   "execution_count": 12,
   "id": "f58b30e2",
   "metadata": {},
   "outputs": [
    {
     "name": "stderr",
     "output_type": "stream",
     "text": [
      "/Users/rajishah/anaconda3/envs/working38/lib/python3.8/site-packages/snowflake/ml/feature_store/feature_store.py:1066: UserWarning: Your pipeline won't be incrementally refreshed due to: \"This dynamic table contains a complex query. Refresh mode has been set to FULL. If you wish to override this automatic choice, please re-create the dynamic table and specify REFRESH_MODE=INCREMENTAL. For best results, we recommend reading https://docs.snowflake.com/user-guide/dynamic-table-performance-guide before setting the refresh mode to INCREMENTAL.\". It will likely incurr higher cost.\n",
      "  self._check_dynamic_table_refresh_mode(feature_view_name)\n"
     ]
    }
   ],
   "source": [
    "draft_fv = FeatureView(\n",
    "    name=\"WINE_FEATURES\", \n",
    "    entities=[wine_entity], \n",
    "    feature_df=feature_df, \n",
    "    refresh_freq=\"1 minute\", \n",
    "    desc=\"my wine features auto refreshed on a schedule\"\n",
    ")\n",
    "wine_features = fs.register_feature_view(\n",
    "    feature_view=draft_fv, \n",
    "    version=\"1.0\", \n",
    "    block=True\n",
    ")"
   ]
  },
  {
   "cell_type": "markdown",
   "id": "48a920a5-4a88-48af-8540-e695dd6c60cd",
   "metadata": {},
   "source": [
    "We can examine the feature values in a feature view. "
   ]
  },
  {
   "cell_type": "code",
   "execution_count": 13,
   "id": "4812ae3d",
   "metadata": {},
   "outputs": [
    {
     "name": "stdout",
     "output_type": "stream",
     "text": [
      "--------------------------------------------------------------------------------------------------------------------------------------------------------------------------------------------\n",
      "|\"WINE_ID\"  |\"FIXED_ACIDITY\"  |\"VOLATILE_ACIDITY\"  |\"CITRIC_ACID\"  |\"RESIDUAL_SUGAR\"  |\"CHLORIDES\"  |\"FREE_SULFUR_DIOXIDE\"  |\"TOTAL_SULFUR_DIOXIDE\"  |\"DENSITY\"  |\"PH\"  |\"MY_NEW_FEATURE\"  |\n",
      "--------------------------------------------------------------------------------------------------------------------------------------------------------------------------------------------\n",
      "|1          |11.6             |0.58                |0.66           |2.2               |0.074        |10                     |47                      |1.0008     |3.25  |7.656             |\n",
      "|2          |8.3              |1.02                |0.02           |3.4               |0.084        |6                      |11                      |0.99892    |3.48  |0.166             |\n",
      "|3          |7.4              |1.185               |0.0            |4.25              |0.097        |5                      |14                      |0.9966     |3.63  |0.0               |\n",
      "|4          |6.8              |0.815               |0.0            |1.2               |0.267        |16                     |29                      |0.99471    |3.32  |0.0               |\n",
      "|5          |7.3              |0.98                |0.05           |2.1               |0.061        |20                     |49                      |0.99705    |3.31  |0.365             |\n",
      "|6          |10.4             |0.61                |0.49           |2.1               |0.2          |5                      |16                      |0.9994     |3.16  |5.096             |\n",
      "|7          |6.7              |0.76                |0.02           |1.8               |0.078        |6                      |12                      |0.996      |3.55  |0.134             |\n",
      "|8          |10.4             |0.44                |0.42           |1.5               |0.145        |34                     |48                      |0.99832    |3.38  |4.368             |\n",
      "|9          |7.1              |0.875               |0.05           |5.7               |0.082        |3                      |14                      |0.99808    |3.4   |0.355             |\n",
      "|10         |7.6              |1.58                |0.0            |2.1               |0.137        |5                      |9                       |0.99476    |3.5   |0.0               |\n",
      "--------------------------------------------------------------------------------------------------------------------------------------------------------------------------------------------\n",
      "\n"
     ]
    }
   ],
   "source": [
    "fs.read_feature_view(wine_features).show()"
   ]
  },
  {
   "cell_type": "markdown",
   "id": "6f6fc02a",
   "metadata": {},
   "source": [
    "## Explore additional features\n",
    "\n",
    "Now I have my FeatureView created with a collection of features, but what if I want to explore additional features on top?\n",
    "\n",
    "Since a materialized FeatureView is immutable, we can create a new FeatureView for the additional features. Note `refresh_freq` of below Feature View is None. It means the Feature View is static and will not refresh on a schedule. You can still update the feature values by updating the data source (table `WINE_DATA`). On the backend it is a Snowflake view. "
   ]
  },
  {
   "cell_type": "code",
   "execution_count": 14,
   "id": "ec83565f",
   "metadata": {},
   "outputs": [],
   "source": [
    "extra_feature_df = source_df.select([\n",
    "    'WINE_ID',\n",
    "    'SULPHATES',\n",
    "    'ALCOHOL',\n",
    "])\n",
    "\n",
    "extra_draft_fv = FeatureView(\n",
    "    name=\"EXTRA_WINE_FEATURES\", \n",
    "    entities=[wine_entity], \n",
    "    feature_df=extra_feature_df, \n",
    "    refresh_freq=None, \n",
    "    desc=\"extra wine features\"\n",
    ")\n",
    "extra_features = fs.register_feature_view(\n",
    "    feature_view=extra_draft_fv, \n",
    "    version=\"1.0\", \n",
    "    block=True\n",
    ")"
   ]
  },
  {
   "cell_type": "markdown",
   "id": "d096136c-f6c5-4131-830d-1fa2aa7431d6",
   "metadata": {},
   "source": [
    "We can examine the status of all feature views."
   ]
  },
  {
   "cell_type": "code",
   "execution_count": 15,
   "id": "9fd134b1",
   "metadata": {},
   "outputs": [
    {
     "name": "stdout",
     "output_type": "stream",
     "text": [
      "----------------------------------------------------------------------------------------------------------------------------------------------------------------------------------------\n",
      "|\"NAME\"               |\"VERSION\"  |\"DATABASE_NAME\"     |\"SCHEMA_NAME\"              |\"CREATED_ON\"                |\"OWNER\"  |\"DESC\"                                         |\"ENTITIES\"  |\n",
      "----------------------------------------------------------------------------------------------------------------------------------------------------------------------------------------\n",
      "|EXTRA_WINE_FEATURES  |1.0        |FEATURE_STORE_DEMO  |AWESOME_FS_BASIC_FEATURES  |2024-07-17 11:26:36.532000  |RAJIV    |extra wine features                            |[           |\n",
      "|                     |           |                    |                           |                            |         |                                               |  \"WINE\"    |\n",
      "|                     |           |                    |                           |                            |         |                                               |]           |\n",
      "|WINE_FEATURES        |1.0        |FEATURE_STORE_DEMO  |AWESOME_FS_BASIC_FEATURES  |2024-07-17 11:26:28.579000  |RAJIV    |my wine features auto refreshed on a schedule  |[           |\n",
      "|                     |           |                    |                           |                            |         |                                               |  \"WINE\"    |\n",
      "|                     |           |                    |                           |                            |         |                                               |]           |\n",
      "----------------------------------------------------------------------------------------------------------------------------------------------------------------------------------------\n",
      "\n"
     ]
    }
   ],
   "source": [
    "fs.list_feature_views(entity_name=\"WINE\").show()"
   ]
  },
  {
   "cell_type": "markdown",
   "id": "4dc1a7dc",
   "metadata": {},
   "source": [
    "## Generate Training Data\n",
    "\n",
    "After our feature pipelines are fully setup, we can start using them to generate training data and later do model prediction."
   ]
  },
  {
   "cell_type": "code",
   "execution_count": 16,
   "id": "0824f759",
   "metadata": {},
   "outputs": [
    {
     "name": "stdout",
     "output_type": "stream",
     "text": [
      "-------------------------\n",
      "|\"WINE_ID\"  |\"QUALITY\"  |\n",
      "-------------------------\n",
      "|1          |3          |\n",
      "|2          |3          |\n",
      "|3          |3          |\n",
      "|4          |3          |\n",
      "|5          |3          |\n",
      "|6          |3          |\n",
      "|7          |3          |\n",
      "|8          |3          |\n",
      "|9          |3          |\n",
      "|10         |3          |\n",
      "-------------------------\n",
      "\n"
     ]
    }
   ],
   "source": [
    "spine_df = source_df.select(\"WINE_ID\", \"QUALITY\")\n",
    "spine_df.show()"
   ]
  },
  {
   "cell_type": "markdown",
   "id": "9ad126af",
   "metadata": {},
   "source": [
    "Generate training data is easy since materialized FeatureViews already carry most of the metadata like join keys, timestamp for point-in-time lookup, etc. We just need to provide the spine data (it's called spine because we are essentially enriching the data by joining features with it). We can also generate dataset with a subset of features in the feature view by `slice`."
   ]
  },
  {
   "cell_type": "code",
   "execution_count": 17,
   "id": "574a810b",
   "metadata": {},
   "outputs": [],
   "source": [
    "my_dataset = fs.generate_dataset(\n",
    "    name=\"my_training_dataset\",\n",
    "    version=\"12\",\n",
    "    spine_df=spine_df, \n",
    "    features=[\n",
    "        wine_features.slice([\n",
    "            \"FIXED_ACIDITY\", \"VOLATILE_ACIDITY\", \"CITRIC_ACID\"]), \n",
    "        extra_features\n",
    "    ],\n",
    "    spine_timestamp_col=None, \n",
    "    spine_label_cols=[\"QUALITY\"],\n",
    "    exclude_columns=['WINE_ID'],\n",
    "    desc=\"my training dataset with EXTRA_WINE_FEATURES and WINE_FEATURES\",\n",
    ")"
   ]
  },
  {
   "cell_type": "markdown",
   "id": "0a1cf2f4-59b3-40da-8c43-bee27129105d",
   "metadata": {},
   "source": [
    "Convert dataset to a snowpark dataframe and examine all the features in it."
   ]
  },
  {
   "cell_type": "code",
   "execution_count": 18,
   "id": "5f3c71aa-1c6b-4bf4-83f9-2176dc249f83",
   "metadata": {},
   "outputs": [
    {
     "name": "stdout",
     "output_type": "stream",
     "text": [
      "-------------------------------------------------------------------------------------------------------------------------\n",
      "|\"QUALITY\"  |\"FIXED_ACIDITY\"     |\"VOLATILE_ACIDITY\"  |\"CITRIC_ACID\"         |\"SULPHATES\"          |\"ALCOHOL\"           |\n",
      "-------------------------------------------------------------------------------------------------------------------------\n",
      "|3          |11.600000381469727  |0.5799999833106995  |0.6600000262260437    |0.5199999809265137   |10.199999809265137  |\n",
      "|3          |8.300000190734863   |1.0199999809265137  |0.019999999552965164  |0.5400000214576721   |10.699999809265137  |\n",
      "|3          |7.400000095367432   |1.184999942779541   |0.0                   |0.5699999928474426   |9.0                 |\n",
      "|3          |6.800000190734863   |0.8149999976158142  |0.0                   |0.6299999952316284   |9.949999809265137   |\n",
      "|3          |7.300000190734863   |0.9800000190734863  |0.05000000074505806   |0.49000000953674316  |11.0                |\n",
      "|3          |10.399999618530273  |0.6100000143051147  |0.49000000953674316   |0.550000011920929    |9.699999809265137   |\n",
      "|3          |6.699999809265137   |0.7599999904632568  |0.019999999552965164  |0.4000000059604645   |10.899999618530273  |\n",
      "|3          |10.399999618530273  |0.4399999976158142  |0.41999998688697815   |0.5099999904632568   |9.800000190734863   |\n",
      "|3          |7.099999904632568   |0.875               |0.05000000074505806   |0.6299999952316284   |8.399999618530273   |\n",
      "|3          |7.599999904632568   |1.5800000429153442  |0.0                   |0.8600000143051147   |9.899999618530273   |\n",
      "-------------------------------------------------------------------------------------------------------------------------\n",
      "\n"
     ]
    }
   ],
   "source": [
    "training_data_df = my_dataset.read.to_snowpark_dataframe()\n",
    "assert training_data_df.count() == source_df_rows_count\n",
    "training_data_df.show()"
   ]
  },
  {
   "cell_type": "markdown",
   "id": "ddca7543",
   "metadata": {},
   "source": [
    "## Train model with Snowpark ML\n",
    "\n",
    "Now let's training a simple random forest model, and evaluate the prediction accuracy. When you call `fit()` on a DataFrame that converted from Feature Store Dataset, The linkage between model and dataset is automatically wired up. Later, you can easily retrieve the dataset from this model, or you can query the lineage about the dataset and model. This is work-in-progress and will be ready soon."
   ]
  },
  {
   "cell_type": "code",
   "execution_count": 19,
   "id": "352603a9",
   "metadata": {},
   "outputs": [
    {
     "name": "stderr",
     "output_type": "stream",
     "text": [
      "The version of package 'snowflake-snowpark-python' in the local environment is 1.15.0a1, which does not fit the criteria for the requirement 'snowflake-snowpark-python'. Your UDF might not work when the package version is different between the server and your local environment.\n"
     ]
    },
    {
     "name": "stdout",
     "output_type": "stream",
     "text": [
      "MSE: 0.4325311509993623, Accuracy: 99.904377372923\n"
     ]
    }
   ],
   "source": [
    "from snowflake.ml.modeling.ensemble import RandomForestRegressor\n",
    "from snowflake.ml.modeling import metrics as snowml_metrics\n",
    "from snowflake.snowpark.functions import abs as sp_abs, mean, col\n",
    "\n",
    "def train_model_using_snowpark_ml(training_data_df):\n",
    "    train, test = training_data_df.random_split([0.8, 0.2], seed=42)\n",
    "    feature_columns = \\\n",
    "        [col for col in training_data_df.columns if col != \"QUALITY\"]\n",
    "    label_column = \"QUALITY\"\n",
    "\n",
    "    rf = RandomForestRegressor(\n",
    "        input_cols=feature_columns, label_cols=[label_column], \n",
    "        max_depth=3, n_estimators=20, random_state=42\n",
    "    )\n",
    "\n",
    "    rf.fit(train)\n",
    "    predictions = rf.predict(test)\n",
    "\n",
    "    mse = snowml_metrics.mean_squared_error(\n",
    "        df=predictions, \n",
    "        y_true_col_names=label_column, \n",
    "        y_pred_col_names=\"OUTPUT_\" + label_column)\n",
    "\n",
    "    accuracy = 100 - snowml_metrics.mean_absolute_percentage_error(\n",
    "        df=predictions,\n",
    "        y_true_col_names=label_column,\n",
    "        y_pred_col_names=\"OUTPUT_\" + label_column\n",
    "    )\n",
    "\n",
    "    print(f\"MSE: {mse}, Accuracy: {accuracy}\")\n",
    "    return rf\n",
    "\n",
    "rf = train_model_using_snowpark_ml(training_data_df)"
   ]
  },
  {
   "cell_type": "markdown",
   "id": "1ad8031f",
   "metadata": {},
   "source": [
    "## [Predict Optional 1] With local model\n",
    "Now we can predict with a local model and the feature values retrieved from feature store. "
   ]
  },
  {
   "cell_type": "code",
   "execution_count": 20,
   "id": "9452d138",
   "metadata": {},
   "outputs": [],
   "source": [
    "test_df = spine_df.limit(3).select(\"WINE_ID\")\n",
    "\n",
    "# load back feature views from dataset\n",
    "fvs = fs.load_feature_views_from_dataset(my_dataset)\n",
    "enriched_df = fs.retrieve_feature_values(test_df, fvs)\n",
    "enriched_df = enriched_df.drop('WINE_ID')"
   ]
  },
  {
   "cell_type": "code",
   "execution_count": 21,
   "id": "46c2546e",
   "metadata": {},
   "outputs": [
    {
     "name": "stdout",
     "output_type": "stream",
     "text": [
      "   FIXED_ACIDITY  VOLATILE_ACIDITY  CITRIC_ACID  SULPHATES  ALCOHOL  \\\n",
      "0           11.6             0.580         0.66       0.52     10.2   \n",
      "1            8.3             1.020         0.02       0.54     10.7   \n",
      "2            7.4             1.185         0.00       0.57      9.0   \n",
      "\n",
      "   OUTPUT_QUALITY  \n",
      "0        5.247251  \n",
      "1        5.223525  \n",
      "2        5.148729  \n"
     ]
    }
   ],
   "source": [
    "pred = rf.predict(enriched_df.to_pandas())\n",
    "\n",
    "print(pred)"
   ]
  },
  {
   "cell_type": "markdown",
   "id": "21b81639",
   "metadata": {},
   "source": [
    "## [Predict Option 2] With Model Registry\n",
    "We can also predict with models in [Model Registry](https://docs.snowflake.com/en/developer-guide/snowpark-ml/snowpark-ml-mlops-model-registry).\n",
    "\n",
    "### Step 1 : Log the model into Model Registry"
   ]
  },
  {
   "cell_type": "markdown",
   "id": "f0f232fe-126f-433d-8b19-953afee42632",
   "metadata": {},
   "source": [
    "Firstly, we connect to a model registry. "
   ]
  },
  {
   "cell_type": "code",
   "execution_count": 22,
   "id": "e0a29768",
   "metadata": {},
   "outputs": [],
   "source": [
    "from snowflake.ml.registry import Registry\n",
    "\n",
    "registry = Registry(\n",
    "    session=session, \n",
    "    database_name=FS_DEMO_DB, \n",
    "    schema_name=MODEL_DEMO_SCHEMA,\n",
    ")"
   ]
  },
  {
   "cell_type": "markdown",
   "id": "2dd12070",
   "metadata": {},
   "source": [
    "Then we log the model to model registry. Later, we can get it back with same model name and version."
   ]
  },
  {
   "cell_type": "code",
   "execution_count": 23,
   "id": "653b58e7",
   "metadata": {},
   "outputs": [
    {
     "name": "stderr",
     "output_type": "stream",
     "text": [
      "/Users/rajishah/anaconda3/envs/working38/lib/python3.8/contextlib.py:113: UserWarning: `relax_version` is not set and therefore defaulted to True. Dependency version constraints relaxed from ==x.y.z to >=x.y, <(x+1). To use specific dependency versions for compatibility, reproducibility, etc., set `options={'relax_version': False}` when logging the model.\n",
      "  return next(self.gen)\n"
     ]
    },
    {
     "data": {
      "text/plain": [
       "<snowflake.ml.model._client.model.model_version_impl.ModelVersion at 0x1789271c0>"
      ]
     },
     "execution_count": 23,
     "metadata": {},
     "output_type": "execute_result"
    }
   ],
   "source": [
    "model_name = \"MY_RANDOM_FOREST_REGRESSOR_MODEL\"\n",
    "\n",
    "registry.log_model(\n",
    "    model_name=model_name,\n",
    "    version_name=\"V2\",\n",
    "    model=rf,\n",
    "    comment=\"log my model trained with dataset\",\n",
    ")"
   ]
  },
  {
   "cell_type": "markdown",
   "id": "3ccf2743",
   "metadata": {},
   "source": [
    "### Step 2 : Restore model and predict with features\n",
    "\n",
    "We read the model back from model registry. We get the features from the dataset, and retrieve latest values for these features from Feature Store. We will same features that the model previously trained on for future inference.\n",
    "\n",
    "We are working on retrieving dataset from a model directly. For now, we just use previously created dataset object. "
   ]
  },
  {
   "cell_type": "code",
   "execution_count": 24,
   "id": "d1fcbcb4",
   "metadata": {},
   "outputs": [],
   "source": [
    "model = registry.get_model(model_name).version(\"V2\")\n",
    "\n",
    "# We are working on loading dataset back from a model. \n",
    "# For now, we use previously created dataset. \n",
    "fvs = fs.load_feature_views_from_dataset(my_dataset)\n",
    "spine_df = spine_df.limit(3).select(\"WINE_ID\")\n",
    "\n",
    "enriched_df =fs.retrieve_feature_values(\n",
    "    spine_df=spine_df, \n",
    "    features=fvs, \n",
    "    exclude_columns=[\"WINE_ID\"]\n",
    ")"
   ]
  },
  {
   "cell_type": "markdown",
   "id": "2a413f50-72d7-477d-8c51-3b25ddf4e7d4",
   "metadata": {},
   "source": [
    "Now we predict on the model and latest feature values."
   ]
  },
  {
   "cell_type": "code",
   "execution_count": 25,
   "id": "2d7fd017",
   "metadata": {},
   "outputs": [
    {
     "name": "stdout",
     "output_type": "stream",
     "text": [
      "   FIXED_ACIDITY  VOLATILE_ACIDITY  CITRIC_ACID  SULPHATES  ALCOHOL  \\\n",
      "0           11.6             0.580         0.66       0.52     10.2   \n",
      "1            8.3             1.020         0.02       0.54     10.7   \n",
      "2            7.4             1.185         0.00       0.57      9.0   \n",
      "\n",
      "   OUTPUT_QUALITY  \n",
      "0        5.247251  \n",
      "1        5.223525  \n",
      "2        5.148729  \n"
     ]
    }
   ],
   "source": [
    "restored_prediction = model.run(\n",
    "    enriched_df.to_pandas(), function_name=\"predict\")\n",
    "\n",
    "print(restored_prediction)"
   ]
  },
  {
   "cell_type": "markdown",
   "id": "8173da73",
   "metadata": {},
   "source": [
    "## ML Lineage Demo\n",
    "Shows output for a sample ML Lineage query."
   ]
  },
  {
   "cell_type": "code",
   "execution_count": 30,
   "id": "913ba34e",
   "metadata": {},
   "outputs": [
    {
     "name": "stderr",
     "output_type": "stream",
     "text": [
      "WARNING:snowflake.snowpark:Lineage.trace() is in private preview since 1.16.0. Do not use it in production. \n"
     ]
    }
   ],
   "source": [
    "TABLE_NAME = \"WINE_DATA\"\n",
    "df = session.lineage.trace(f\"{FS_DEMO_DB}.{TEST_DATASET_SCHEMA}.{TABLE_NAME}\", \"TABLE\", direction=\"downstream\", distance=4)"
   ]
  },
  {
   "cell_type": "code",
   "execution_count": 32,
   "id": "bfcb27db",
   "metadata": {},
   "outputs": [
    {
     "name": "stdout",
     "output_type": "stream",
     "text": [
      "--------------------------------------------------------------------------------------------------------------------------------------\n",
      "|\"SOURCE_OBJECT\"                                     |\"TARGET_OBJECT\"                                     |\"DIRECTION\"  |\"DISTANCE\"  |\n",
      "--------------------------------------------------------------------------------------------------------------------------------------\n",
      "|{                                                   |{                                                   |Downstream   |1           |\n",
      "|  \"createdOn\": \"2024-07-17T18:26:23Z\",              |  \"createdOn\": \"2024-07-17T18:26:44Z\",              |             |            |\n",
      "|  \"domain\": \"TABLE\",                                |  \"domain\": \"DATASET\",                              |             |            |\n",
      "|  \"name\": \"FEATURE_STORE_DEMO.TEST_DATASET.WINE...  |  \"name\": \"FEATURE_STORE_DEMO.AWESOME_FS_BASIC_...  |             |            |\n",
      "|  \"status\": \"ACTIVE\"                                |  \"status\": \"ACTIVE\",                               |             |            |\n",
      "|}                                                   |  \"version\": \"12\"                                   |             |            |\n",
      "|                                                    |}                                                   |             |            |\n",
      "|{                                                   |{                                                   |Downstream   |1           |\n",
      "|  \"createdOn\": \"2024-07-17T18:26:23Z\",              |  \"createdOn\": \"2024-07-17T18:26:36Z\",              |             |            |\n",
      "|  \"domain\": \"TABLE\",                                |  \"domain\": \"FEATURE_VIEW\",                         |             |            |\n",
      "|  \"name\": \"FEATURE_STORE_DEMO.TEST_DATASET.WINE...  |  \"name\": \"FEATURE_STORE_DEMO.AWESOME_FS_BASIC_...  |             |            |\n",
      "|  \"status\": \"ACTIVE\"                                |  \"status\": \"ACTIVE\",                               |             |            |\n",
      "|}                                                   |  \"version\": \"1.0\\\"\"                                |             |            |\n",
      "|                                                    |}                                                   |             |            |\n",
      "|{                                                   |{                                                   |Downstream   |1           |\n",
      "|  \"createdOn\": \"2024-07-17T18:26:23Z\",              |  \"createdOn\": \"2024-07-17T18:26:28Z\",              |             |            |\n",
      "|  \"domain\": \"TABLE\",                                |  \"domain\": \"FEATURE_VIEW\",                         |             |            |\n",
      "|  \"name\": \"FEATURE_STORE_DEMO.TEST_DATASET.WINE...  |  \"name\": \"FEATURE_STORE_DEMO.AWESOME_FS_BASIC_...  |             |            |\n",
      "|  \"status\": \"ACTIVE\"                                |  \"status\": \"ACTIVE\",                               |             |            |\n",
      "|}                                                   |  \"version\": \"1.0\\\"\"                                |             |            |\n",
      "|                                                    |}                                                   |             |            |\n",
      "--------------------------------------------------------------------------------------------------------------------------------------\n",
      "\n"
     ]
    }
   ],
   "source": [
    "df.show()"
   ]
  },
  {
   "cell_type": "markdown",
   "id": "d477c0e6",
   "metadata": {},
   "source": [
    "\n",
    " <img src=\"ml-lineage-example-viz.png\" alt=\"ML Lineage Example\" width=\"600\"/>"
   ]
  },
  {
   "cell_type": "markdown",
   "id": "02805a37",
   "metadata": {},
   "source": [
    "To build your own ML viz of the lineage."
   ]
  },
  {
   "cell_type": "code",
   "execution_count": null,
   "id": "7f896288",
   "metadata": {},
   "outputs": [],
   "source": [
    "import os\n",
    "from graphviz import Digraph\n",
    "from IPython.display import Image, display\n",
    "\n",
    "def render_graph(df) -> None:\n",
    "    df = df.to_pandas()\n",
    "    graph = Digraph()\n",
    "    \n",
    "    # Track the nodes already added to avoid duplication\n",
    "    added_nodes = set()\n",
    "    \n",
    "    for index, row in df.iterrows():    \n",
    "        source_node = str(row['SOURCE_OBJECT']).replace(':', '-').replace('{', '').replace('}', '')\n",
    "        target_node = str(row['TARGET_OBJECT']).replace(':', '-').replace('{', '').replace('}', '')\n",
    "        \n",
    "        if source_node not in added_nodes:\n",
    "            graph.node(source_node)\n",
    "            added_nodes.add(source_node)\n",
    "\n",
    "        \n",
    "        if target_node not in added_nodes:\n",
    "            graph.node(target_node)\n",
    "            added_nodes.add(target_node)\n",
    "        \n",
    "        graph.edge(source_node, target_node)\n",
    "    \n",
    "    graph.render('graph', format='png', cleanup=True)\n",
    "    graph.view()"
   ]
  },
  {
   "cell_type": "code",
   "execution_count": null,
   "id": "1d84c094",
   "metadata": {},
   "outputs": [],
   "source": [
    "#render_graph(df)"
   ]
  },
  {
   "cell_type": "markdown",
   "id": "e045b599",
   "metadata": {},
   "source": [
    "## Cleanup notebook\n",
    "Cleanup resources created in this notebook."
   ]
  },
  {
   "cell_type": "code",
   "execution_count": 26,
   "id": "ea4e1ad9",
   "metadata": {},
   "outputs": [],
   "source": [
    "#session.sql(f\"DROP DATABASE IF EXISTS {FS_DEMO_DB}\").collect()\n",
    "#session.sql(f\"DROP WAREHOUSE IF EXISTS {FS_DEMO_WH}\").collect()"
   ]
  }
 ],
 "metadata": {
  "kernelspec": {
   "display_name": "Python 3 (ipykernel)",
   "language": "python",
   "name": "python3"
  },
  "language_info": {
   "codemirror_mode": {
    "name": "ipython",
    "version": 3
   },
   "file_extension": ".py",
   "mimetype": "text/x-python",
   "name": "python",
   "nbconvert_exporter": "python",
   "pygments_lexer": "ipython3",
   "version": "3.8.18"
  }
 },
 "nbformat": 4,
 "nbformat_minor": 5
}
