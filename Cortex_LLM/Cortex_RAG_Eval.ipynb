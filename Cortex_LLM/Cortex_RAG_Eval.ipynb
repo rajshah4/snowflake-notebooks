{
 "cells": [
  {
   "cell_type": "markdown",
   "metadata": {},
   "source": [
    "## RAG Evaluation with Snowflake Cortex\n",
    "\n",
    "This notebook demonstrates how to use Snowflake Cortex to generate synthetic questions and answers for evaluating a RAG application.\n",
    "\n",
    "This notebooks is based on the [Hugging Face RAG evaluation notebook](https://huggingface.co/learn/cookbook/rag_evaluation), but using Cortex to generate the synthetic questions and answers and performing the operations in Snowpark (and not on the local machine).\n",
    "\n",
    "There are four main steps in this notebook:\n",
    "-   **Step 1**: Generating Synthetic Questions and Answers\n",
    "-   **Step 2**: Evaluating Synthetic Questions for Groundness, Relevance, and Context\n",
    "-   **Step 3**: Getting Predictions for Synthetic Questions\n",
    "-   **Step 4**: Evaluating Performance on Synthetic Questions\n",
    "\n",
    "The notebook uses `mixtral-8x7b` for generarting questions/answers and `mistral-large` for the final evaluation on the synthetic questions.\n",
    "\n",
    "There are many ways to evaluate a RAG model, and this notebook is just one example. The evaluation metrics used in this notebook are not exhaustive, and you may want to consider additional metrics when evaluating your RAG model. This notebook was put together for one project, so plenty of room for improvement and customization."
   ]
  },
  {
   "cell_type": "code",
   "execution_count": 1,
   "metadata": {
    "metadata": {}
   },
   "outputs": [],
   "source": [
    "# Snowpark for Python\n",
    "from snowflake.snowpark.session import Session\n",
    "from snowflake.snowpark.types import Variant\n",
    "from snowflake.snowpark.version import VERSION\n",
    "\n",
    "# Snowpark ML\n",
    "# Misc\n",
    "import pandas as pd\n",
    "import json\n",
    "import logging \n",
    "logger = logging.getLogger(\"snowflake.snowpark.session\")\n",
    "logger.setLevel(logging.ERROR)\n",
    "\n",
    "from snowflake import connector\n",
    "from snowflake.ml.utils import connection_params"
   ]
  },
  {
   "cell_type": "code",
   "execution_count": 2,
   "metadata": {
    "metadata": {}
   },
   "outputs": [],
   "source": [
    "with open('../../creds.json') as f:\n",
    "    data = json.load(f)\n",
    "    USERNAME = data['user']\n",
    "    PASSWORD = data['password']\n",
    "    SF_ACCOUNT = data['account']\n",
    "    SF_WH = data['warehouse']\n",
    "\n",
    "CONNECTION_PARAMETERS = {\n",
    "   \"account\": SF_ACCOUNT,\n",
    "   \"user\": USERNAME,\n",
    "   \"password\": PASSWORD,\n",
    "}\n",
    "\n",
    "session = Session.builder.configs(CONNECTION_PARAMETERS).create()"
   ]
  },
  {
   "cell_type": "code",
   "execution_count": 3,
   "metadata": {
    "metadata": {}
   },
   "outputs": [
    {
     "name": "stdout",
     "output_type": "stream",
     "text": [
      "User                        : RSHAH\n",
      "Role                        : \"RAJIV\"\n",
      "Database                    : \"RAJIV\"\n",
      "Schema                      : \"DOCAI\"\n",
      "Warehouse                   : \"RAJIV\"\n",
      "Snowflake version           : 8.18.0\n",
      "Snowpark for Python version : 1.11.1\n",
      "Snowflake ML version        : 1.5.0\n"
     ]
    }
   ],
   "source": [
    "snowflake_environment = session.sql('select current_user(), current_version()').collect()\n",
    "snowpark_version = VERSION\n",
    "\n",
    "from snowflake.ml import version\n",
    "mlversion = version.VERSION\n",
    "\n",
    "\n",
    "# Current Environment Details\n",
    "print('User                        : {}'.format(snowflake_environment[0][0]))\n",
    "print('Role                        : {}'.format(session.get_current_role()))\n",
    "print('Database                    : {}'.format(session.get_current_database()))\n",
    "print('Schema                      : {}'.format(session.get_current_schema()))\n",
    "print('Warehouse                   : {}'.format(session.get_current_warehouse()))\n",
    "print('Snowflake version           : {}'.format(snowflake_environment[0][1]))\n",
    "print('Snowpark for Python version : {}.{}.{}'.format(snowpark_version[0],snowpark_version[1],snowpark_version[2]))\n",
    "print('Snowflake ML version        : {}.{}.{}'.format(mlversion[0],mlversion[2],mlversion[4]))"
   ]
  },
  {
   "cell_type": "markdown",
   "metadata": {},
   "source": [
    "## 1. Generating Synthetic Questions and Answers\n",
    "My starting point is the [SEC RAG example](https://medium.com/snowflake/retrieval-augmented-generation-rag-application-using-snowflake-cortex-and-streamlit-9cb261e81c2e) where the data has already been chunked. I then filter down to just the Rivian entries. \n",
    "\n",
    "Feel free to modify this, the goal is a representative set of topics for the synthetic questions."
   ]
  },
  {
   "cell_type": "code",
   "execution_count": 4,
   "metadata": {
    "metadata": {}
   },
   "outputs": [
    {
     "name": "stdout",
     "output_type": "stream",
     "text": [
      "------------------------------------------------------------------------------------------------------------------------------------------------------------------------------------------------------------------------------------------------------------------------------------------------------------------------------------------------\n",
      "|\"SEC_DOCUMENT_ID\"          |\"DOCUMENT_TYPE\"   |\"COMPANY_NAME\"                |\"SIC_CODE_CATEGORY\"      |\"SIC_CODE_DESCRIPTION\"                 |\"COUNTRY\"  |\"PERIOD_END_DATE\"  |\"CONTENT_CHUNK\"                                     |\"START_INDEX\"  |\"EMBEDDING\"                                         |\"DOCUMENT_INDEX_ROWNUM\"  |\"ROWNUM\"  |\n",
      "------------------------------------------------------------------------------------------------------------------------------------------------------------------------------------------------------------------------------------------------------------------------------------------------------------------------------------------------\n",
      "|0001874178-23-000009_10-K  |10-K Filing Text  |RIVIAN AUTOMOTIVE, INC. / DE  |Office of Manufacturing  |MOTOR VEHICLES & PASSENGER CAR BODIES  |US         |2022-12-31         |rivn-20221231 UNITED STATES SECURITIES AND EXCH...  |4              |[0.0134749636054039, -0.01612430065870285, -0.0...  |1                        |3635739   |\n",
      "|0001874178-23-000009_10-K  |10-K Filing Text  |RIVIAN AUTOMOTIVE, INC. / DE  |Office of Manufacturing  |MOTOR VEHICLES & PASSENGER CAR BODIES  |US         |2022-12-31         |.001 par value per share RIVN The Nasdaq Stock ...  |963            |[-0.013030052185058594, -0.014440304599702358, ...  |2                        |3635740   |\n",
      "|0001874178-23-000009_10-K  |10-K Filing Text  |RIVIAN AUTOMOTIVE, INC. / DE  |Office of Manufacturing  |MOTOR VEHICLES & PASSENGER CAR BODIES  |US         |2022-12-31         |.    Yes  ☒    No ☐  Indicate by check mark whe...  |1712           |[-0.006698981858789921, -0.03849697485566139, -...  |3                        |3635741   |\n",
      "|0001874178-23-000009_10-K  |10-K Filing Text  |RIVIAN AUTOMOTIVE, INC. / DE  |Office of Manufacturing  |MOTOR VEHICLES & PASSENGER CAR BODIES  |US         |2022-12-31         |. See the definitions of “large accelerated fil...  |2256           |[-0.04192263260483742, -0.0486314631998539, -0....  |4                        |3635742   |\n",
      "|0001874178-23-000009_10-K  |10-K Filing Text  |RIVIAN AUTOMOTIVE, INC. / DE  |Office of Manufacturing  |MOTOR VEHICLES & PASSENGER CAR BODIES  |US         |2022-12-31         |.S.C. 7262(b)) by the registered public account...  |3076           |[-0.015177706256508827, -0.03369320556521416, -...  |5                        |3635743   |\n",
      "|0001874178-23-000009_10-K  |10-K Filing Text  |RIVIAN AUTOMOTIVE, INC. / DE  |Office of Manufacturing  |MOTOR VEHICLES & PASSENGER CAR BODIES  |US         |2022-12-31         |. In the case of 5% or greater stockholders, we...  |3911           |[0.004648115485906601, -0.05180753022432327, -0...  |6                        |3635744   |\n",
      "|0001874178-23-000009_10-K  |10-K Filing Text  |RIVIAN AUTOMOTIVE, INC. / DE  |Office of Manufacturing  |MOTOR VEHICLES & PASSENGER CAR BODIES  |US         |2022-12-31         |.  As of February 14, 2023,  919,265,013  share...  |4511           |[0.010190531611442566, -0.026317495852708817, -...  |7                        |3635745   |\n",
      "|0001874178-23-000009_10-K  |10-K Filing Text  |RIVIAN AUTOMOTIVE, INC. / DE  |Office of Manufacturing  |MOTOR VEHICLES & PASSENGER CAR BODIES  |US         |2022-12-31         |. Mine Safety Disclosures  49 Part II 50 Item 5...  |5300           |[0.0006388800102286041, -0.024540066719055176, ...  |8                        |3635746   |\n",
      "|0001874178-23-000009_10-K  |10-K Filing Text  |RIVIAN AUTOMOTIVE, INC. / DE  |Office of Manufacturing  |MOTOR VEHICLES & PASSENGER CAR BODIES  |US         |2022-12-31         |. Security Ownership of Certain Beneficial Owne...  |6074           |[-0.0035113098565489054, -0.015815898776054382,...  |9                        |3635747   |\n",
      "|0001874178-23-000009_10-K  |10-K Filing Text  |RIVIAN AUTOMOTIVE, INC. / DE  |Office of Manufacturing  |MOTOR VEHICLES & PASSENGER CAR BODIES  |US         |2022-12-31         |. All statements other than statements of histo...  |6851           |[0.011535296216607094, -0.040209297090768814, -...  |10                       |3635748   |\n",
      "------------------------------------------------------------------------------------------------------------------------------------------------------------------------------------------------------------------------------------------------------------------------------------------------------------------------------------------------\n",
      "\n"
     ]
    }
   ],
   "source": [
    "from snowflake.snowpark.functions import col\n",
    "import snowflake.snowpark.functions as f\n",
    "from snowflake.snowpark.functions import col, split, lit, regexp_extract\n",
    "from snowflake.cortex import Complete\n",
    "\n",
    "\n",
    "article_df = session.table(\"RAJIV.PUBLIC.CONTENT_CHUNKS_10K\")\n",
    "filtered_df = article_df.filter(col(\"company_name\").like(\"RIVIAN%\"))\n",
    "\n",
    "# Now you can perform further operations on filtered_df, like displaying the data\n",
    "filtered_df.show()\n"
   ]
  },
  {
   "cell_type": "code",
   "execution_count": 5,
   "metadata": {
    "metadata": {}
   },
   "outputs": [
    {
     "data": {
      "text/plain": [
       "497"
      ]
     },
     "execution_count": 5,
     "metadata": {},
     "output_type": "execute_result"
    }
   ],
   "source": [
    "# Count the number of starting rows\n",
    "filtered_df.count()"
   ]
  },
  {
   "cell_type": "markdown",
   "metadata": {},
   "source": [
    "You will only want to select a subset of the chunks to build your generated examples. The first time you run this, start small, but your final evaluation should probably be at least 50 questions up to hundreds."
   ]
  },
  {
   "cell_type": "code",
   "execution_count": 6,
   "metadata": {
    "metadata": {}
   },
   "outputs": [
    {
     "data": {
      "text/plain": [
       "40"
      ]
     },
     "execution_count": 6,
     "metadata": {},
     "output_type": "execute_result"
    }
   ],
   "source": [
    "shuffled_df = filtered_df.sample(n=40)\n",
    "shuffled_df.count()"
   ]
  },
  {
   "cell_type": "markdown",
   "metadata": {},
   "source": [
    "Let's build the Q&A pairs for the RAG evaluation."
   ]
  },
  {
   "cell_type": "code",
   "execution_count": 7,
   "metadata": {
    "metadata": {}
   },
   "outputs": [],
   "source": [
    "QA_generation_prompt = \"\"\"\n",
    "Your task is to write a factoid question and an answer given a context.\n",
    "Your factoid question should be answerable with a specific, concise piece of factual information from the context.\n",
    "Your factoid question should be formulated in the same style as questions users could ask in a search engine.\n",
    "This means that your factoid question MUST NOT mention something like \"according to the passage\" or \"context\".\n",
    "\n",
    "Provide your answer as follows:\n",
    "\n",
    "Output:::\n",
    "Factoid question: (your factoid question)\n",
    "Answer: (your answer to the factoid question)\n",
    "\n",
    "Now here is the context.\n",
    "\n",
    "Context: \"\"\""
   ]
  },
  {
   "cell_type": "code",
   "execution_count": 8,
   "metadata": {
    "metadata": {}
   },
   "outputs": [
    {
     "name": "stderr",
     "output_type": "stream",
     "text": [
      "Complete() is experimental since 1.0.12. Do not use it in production. \n"
     ]
    }
   ],
   "source": [
    "outdf = shuffled_df.withColumn(\n",
    "    \"GenQA\",\n",
    "    Complete(\n",
    "        model='mixtral-8x7b',prompt = f.concat(\n",
    "            f.lit(QA_generation_prompt),\n",
    "            f.col(\"CONTENT_CHUNK\"),\n",
    "            f.lit(\"\\n Output:::\")\n",
    "            ))\n",
    ")\n",
    "outputs = outdf.to_pandas()"
   ]
  },
  {
   "cell_type": "code",
   "execution_count": 9,
   "metadata": {
    "metadata": {}
   },
   "outputs": [
    {
     "data": {
      "text/plain": [
       "' Factoid question: How many shares of common stock were issued and outstanding by Rivian Automotive, Inc. as of December 31, 2022?\\nAnswer: 926 shares'"
      ]
     },
     "execution_count": 9,
     "metadata": {},
     "output_type": "execute_result"
    }
   ],
   "source": [
    "outputs.GENQA[1]"
   ]
  },
  {
   "cell_type": "code",
   "execution_count": 10,
   "metadata": {
    "metadata": {}
   },
   "outputs": [
    {
     "name": "stdout",
     "output_type": "stream",
     "text": [
      "--------------------------------------------------------------------------------------------------------------------------------------------------------------------------------------------------------------------------------------------------------------------------------------------------------------------------------------------------------------------------------------------------------------------------------------------------------------------------------------------------------------------------------------------------------------------\n",
      "|\"SEC_DOCUMENT_ID\"          |\"DOCUMENT_TYPE\"   |\"COMPANY_NAME\"                |\"SIC_CODE_CATEGORY\"      |\"SIC_CODE_DESCRIPTION\"                 |\"COUNTRY\"  |\"PERIOD_END_DATE\"  |\"CONTENT_CHUNK\"                                     |\"START_INDEX\"  |\"EMBEDDING\"                                         |\"DOCUMENT_INDEX_ROWNUM\"  |\"ROWNUM\"  |\"GENQA\"                                             |\"SPLIT_COL\"                                         |\"GENQ\"                                              |\"GENA\"                                              |\n",
      "--------------------------------------------------------------------------------------------------------------------------------------------------------------------------------------------------------------------------------------------------------------------------------------------------------------------------------------------------------------------------------------------------------------------------------------------------------------------------------------------------------------------------------------------------------------------\n",
      "|0001874178-23-000009_10-K  |10-K Filing Text  |RIVIAN AUTOMOTIVE, INC. / DE  |Office of Manufacturing  |MOTOR VEHICLES & PASSENGER CAR BODIES  |US         |2022-12-31         |.  Holders As of February 14, 2023, there were ...  |262748         |[0.00538471108302474, -0.05729801580309868, -0....  |317                      |3636055   | Factoid question: Has the company ever declare...  |[                                                   |\" Factoid question: Has the company ever declar...  |\"Answer: No, the company has never declared or ...  |\n",
      "|                           |                  |                              |                         |                                       |           |                   |                                                    |               |                                                    |                         |          |Answer: No, the company has never declared or p...  |  \" Factoid question: Has the company ever decl...  |                                                    |                                                    |\n",
      "|                           |                  |                              |                         |                                       |           |                   |                                                    |               |                                                    |                         |          |                                                    |  \"Answer: No, the company has never declared o...  |                                                    |                                                    |\n",
      "|                           |                  |                              |                         |                                       |           |                   |                                                    |               |                                                    |                         |          |                                                    |]                                                   |                                                    |                                                    |\n",
      "|0001874178-23-000009_10-K  |10-K Filing Text  |RIVIAN AUTOMOTIVE, INC. / DE  |Office of Manufacturing  |MOTOR VEHICLES & PASSENGER CAR BODIES  |US         |2022-12-31         |. By Order dated February 16, 2023  48 RIVIAN A...  |257392         |[0.02331852912902832, -0.05648023635149002, -0....  |310                      |3636048   | Factoid question: Has the State of Georgia's p...  |[                                                   |\" Factoid question: Has the State of Georgia's ...  |\"Answer: No, the petition was denied by Order d...  |\n",
      "|                           |                  |                              |                         |                                       |           |                   |                                                    |               |                                                    |                         |          |Answer: No, the petition was denied by Order da...  |  \" Factoid question: Has the State of Georgia'...  |                                                    |                                                    |\n",
      "|                           |                  |                              |                         |                                       |           |                   |                                                    |               |                                                    |                         |          |                                                    |  \"Answer: No, the petition was denied by Order...  |                                                    |                                                    |\n",
      "|                           |                  |                              |                         |                                       |           |                   |                                                    |               |                                                    |                         |          |                                                    |]                                                   |                                                    |                                                    |\n",
      "|0001874178-23-000009_10-K  |10-K Filing Text  |RIVIAN AUTOMOTIVE, INC. / DE  |Office of Manufacturing  |MOTOR VEHICLES & PASSENGER CAR BODIES  |US         |2022-12-31         |. In 2021, changes to the SAFE Vehicles rule we...  |133902         |[-0.014899153262376785, -0.031731441617012024, ...  |164                      |3635902   | Factoid question: When were fuel economy stand...  |[                                                   |\" Factoid question: When were fuel economy stan...  |\"Answer: Fuel economy standards were last made ...  |\n",
      "|                           |                  |                              |                         |                                       |           |                   |                                                    |               |                                                    |                         |          |Answer: Fuel economy standards were last made m...  |  \" Factoid question: When were fuel economy st...  |                                                    |                                                    |\n",
      "|                           |                  |                              |                         |                                       |           |                   |                                                    |               |                                                    |                         |          |                                                    |  \"Answer: Fuel economy standards were last mad...  |                                                    |                                                    |\n",
      "|                           |                  |                              |                         |                                       |           |                   |                                                    |               |                                                    |                         |          |                                                    |]                                                   |                                                    |                                                    |\n",
      "|0001874178-23-000009_10-K  |10-K Filing Text  |RIVIAN AUTOMOTIVE, INC. / DE  |Office of Manufacturing  |MOTOR VEHICLES & PASSENGER CAR BODIES  |US         |2022-12-31         |. Our processes and controls to identify, measu...  |218016         |[-0.0010109544964507222, -0.02101697027683258, ...  |267                      |3636005   | Factoid question: What factors could impact a ...  |[                                                   |\" Factoid question: What factors could impact a...  |\"Answer: ESG metrics measurement methodologies,...  |\n",
      "|                           |                  |                              |                         |                                       |           |                   |                                                    |               |                                                    |                         |          |Answer: ESG metrics measurement methodologies, ...  |  \" Factoid question: What factors could impact...  |                                                    |                                                    |\n",
      "|                           |                  |                              |                         |                                       |           |                   |                                                    |               |                                                    |                         |          |                                                    |  \"Answer: ESG metrics measurement methodologie...  |                                                    |                                                    |\n",
      "|                           |                  |                              |                         |                                       |           |                   |                                                    |               |                                                    |                         |          |                                                    |]                                                   |                                                    |                                                    |\n",
      "|0001874178-23-000009_10-K  |10-K Filing Text  |RIVIAN AUTOMOTIVE, INC. / DE  |Office of Manufacturing  |MOTOR VEHICLES & PASSENGER CAR BODIES  |US         |2022-12-31         |.S.C. 7262(b)) by the registered public account...  |3076           |[-0.015177706256508827, -0.03369320556521416, -...  |5                        |3635743   | Factoid question: What was the approximate mar...  |[                                                   |\" Factoid question: What was the approximate ma...  |\"Answer: $12.3 billion\"                             |\n",
      "|                           |                  |                              |                         |                                       |           |                   |                                                    |               |                                                    |                         |          |Answer: $12.3 billion                               |  \" Factoid question: What was the approximate ...  |                                                    |                                                    |\n",
      "|                           |                  |                              |                         |                                       |           |                   |                                                    |               |                                                    |                         |          |                                                    |  \"Answer: $12.3 billion\"                           |                                                    |                                                    |\n",
      "|                           |                  |                              |                         |                                       |           |                   |                                                    |               |                                                    |                         |          |                                                    |]                                                   |                                                    |                                                    |\n",
      "|0001874178-23-000009_10-K  |10-K Filing Text  |RIVIAN AUTOMOTIVE, INC. / DE  |Office of Manufacturing  |MOTOR VEHICLES & PASSENGER CAR BODIES  |US         |2022-12-31         |. The R1T, R1S, and EDV are fully compliant wit...  |31140          |[0.004507666919380426, -0.03386825695633888, -0...  |41                       |3635779   | Factoid question: Is the R1T, R1S, and EDV com...  |[                                                   |\" Factoid question: Is the R1T, R1S, and EDV co...  |\"Answer: Yes, the R1T, R1S, and EDV are fully c...  |\n",
      "|                           |                  |                              |                         |                                       |           |                   |                                                    |               |                                                    |                         |          |Answer: Yes, the R1T, R1S, and EDV are fully co...  |  \" Factoid question: Is the R1T, R1S, and EDV ...  |                                                    |                                                    |\n",
      "|                           |                  |                              |                         |                                       |           |                   |                                                    |               |                                                    |                         |          |                                                    |  \"Answer: Yes, the R1T, R1S, and EDV are fully...  |                                                    |                                                    |\n",
      "|                           |                  |                              |                         |                                       |           |                   |                                                    |               |                                                    |                         |          |                                                    |]                                                   |                                                    |                                                    |\n",
      "|0001874178-23-000009_10-K  |10-K Filing Text  |RIVIAN AUTOMOTIVE, INC. / DE  |Office of Manufacturing  |MOTOR VEHICLES & PASSENGER CAR BODIES  |US         |2022-12-31         |.  As of February 14, 2023,  919,265,013  share...  |4511           |[0.010190531611442566, -0.026317495852708817, -...  |7                        |3635745   | Factoid question: How many shares of Class A c...  |[                                                   |\" Factoid question: How many shares of Class A ...  |\"Answer: 919,265,013 shares of Class A common s...  |\n",
      "|                           |                  |                              |                         |                                       |           |                   |                                                    |               |                                                    |                         |          |Answer: 919,265,013 shares of Class A common st...  |  \" Factoid question: How many shares of Class ...  |                                                    |                                                    |\n",
      "|                           |                  |                              |                         |                                       |           |                   |                                                    |               |                                                    |                         |          |                                                    |  \"Answer: 919,265,013 shares of Class A common...  |                                                    |                                                    |\n",
      "|                           |                  |                              |                         |                                       |           |                   |                                                    |               |                                                    |                         |          |                                                    |]                                                   |                                                    |                                                    |\n",
      "|0001874178-23-000009_10-K  |10-K Filing Text  |RIVIAN AUTOMOTIVE, INC. / DE  |Office of Manufacturing  |MOTOR VEHICLES & PASSENGER CAR BODIES  |US         |2022-12-31         |. 52 RIVIAN AUTOMOTIVE, INC. • Ability to Conve...  |271026         |[-0.005223366431891918, -0.02997530624270439, -...  |327                      |3636065   | Factoid question: How does Rivian Automotive, ...  |[                                                   |\" Factoid question: How does Rivian Automotive,...  |\"Answer: By creating a higher-margin, recurring...  |\n",
      "|                           |                  |                              |                         |                                       |           |                   |                                                    |               |                                                    |                         |          |Answer: By creating a higher-margin, recurring ...  |  \" Factoid question: How does Rivian Automotiv...  |                                                    |                                                    |\n",
      "|                           |                  |                              |                         |                                       |           |                   |                                                    |               |                                                    |                         |          |                                                    |  \"Answer: By creating a higher-margin, recurri...  |                                                    |                                                    |\n",
      "|                           |                  |                              |                         |                                       |           |                   |                                                    |               |                                                    |                         |          |                                                    |]                                                   |                                                    |                                                    |\n",
      "|0001874178-23-000009_10-K  |10-K Filing Text  |RIVIAN AUTOMOTIVE, INC. / DE  |Office of Manufacturing  |MOTOR VEHICLES & PASSENGER CAR BODIES  |US         |2022-12-31         |. These estimates require the use of judgments ...  |326180         |[-0.0019456164445728064, -0.011028078384697437,...  |392                      |3636130   | Factoid question: What are some examples of it...  |[                                                   |\" Factoid question: What are some examples of i...  |\"Answer: Inventory valuation, property, plant, ...  |\n",
      "|                           |                  |                              |                         |                                       |           |                   |                                                    |               |                                                    |                         |          |Answer: Inventory valuation, property, plant, a...  |  \" Factoid question: What are some examples of...  |                                                    |                                                    |\n",
      "|                           |                  |                              |                         |                                       |           |                   |                                                    |               |                                                    |                         |          |                                                    |  \"Answer: Inventory valuation, property, plant...  |                                                    |                                                    |\n",
      "|                           |                  |                              |                         |                                       |           |                   |                                                    |               |                                                    |                         |          |                                                    |]                                                   |                                                    |                                                    |\n",
      "|0001874178-23-000009_10-K  |10-K Filing Text  |RIVIAN AUTOMOTIVE, INC. / DE  |Office of Manufacturing  |MOTOR VEHICLES & PASSENGER CAR BODIES  |US         |2022-12-31         |. All statements other than statements of histo...  |6851           |[0.011535296216607094, -0.040209297090768814, -...  |10                       |3635748   | Factoid question: What types of statements in ...  |[                                                   |\" Factoid question: What types of statements in...  |\"Answer: The forward-looking statements in this...  |\n",
      "|                           |                  |                              |                         |                                       |           |                   |                                                    |               |                                                    |                         |          |Answer: The forward-looking statements in this ...  |  \" Factoid question: What types of statements ...  |                                                    |                                                    |\n",
      "|                           |                  |                              |                         |                                       |           |                   |                                                    |               |                                                    |                         |          |                                                    |  \"Answer: The forward-looking statements in th...  |                                                    |                                                    |\n",
      "|                           |                  |                              |                         |                                       |           |                   |                                                    |               |                                                    |                         |          |                                                    |]                                                   |                                                    |                                                    |\n",
      "--------------------------------------------------------------------------------------------------------------------------------------------------------------------------------------------------------------------------------------------------------------------------------------------------------------------------------------------------------------------------------------------------------------------------------------------------------------------------------------------------------------------------------------------------------------------\n",
      "\n"
     ]
    }
   ],
   "source": [
    "outdf = outdf.withColumn(\"split_col\", split(col(\"GENQA\"), lit('\\n')))\n",
    "\n",
    "# Create new columns 'GENQ' and 'GENA' by accessing elements of the array\n",
    "outdf = outdf.withColumn(\"GENQ\", col(\"split_col\")[0])\n",
    "outdf = outdf.withColumn(\"GENA\", col(\"split_col\")[1])\n",
    "\n",
    "outdf.show()"
   ]
  },
  {
   "cell_type": "code",
   "execution_count": 11,
   "metadata": {
    "metadata": {}
   },
   "outputs": [],
   "source": [
    "#save our work periodically\n",
    "table_name = \"RAJIV.PUBLIC.CONTENT_CHUNKS_10K_GQA\"  # Specify your new table name here\n",
    "outdf.write.mode(\"overwrite\").save_as_table(table_name)"
   ]
  },
  {
   "cell_type": "code",
   "execution_count": 12,
   "metadata": {
    "metadata": {}
   },
   "outputs": [],
   "source": [
    "outdf = session.table(\"RAJIV.PUBLIC.CONTENT_CHUNKS_10K_GQA\")"
   ]
  },
  {
   "cell_type": "markdown",
   "metadata": {},
   "source": [
    "## 2. Evaluating Synthetic Questions for Groundness, Relevance, and Context\n",
    "The questions generated by the previous agent can have many flaws: we should do a quality check before validating these questions."
   ]
  },
  {
   "cell_type": "markdown",
   "metadata": {},
   "source": [
    "### Groundness Criteria"
   ]
  },
  {
   "cell_type": "code",
   "execution_count": 13,
   "metadata": {
    "metadata": {}
   },
   "outputs": [],
   "source": [
    "question_groundedness_critique_prompt = \"\"\"\n",
    "You will be given a context and a question.\n",
    "Your task is to provide a 'total rating' scoring how well one can answer the given question unambiguously with the given context.\n",
    "Give your answer on a scale of 1 to 5, where 1 means that the question is not answerable at all given the context, and 5 means that the question is clearly and unambiguously answerable with the context.\n",
    "\n",
    "Provide your answer as follows:\n",
    "\n",
    "Answer:::\n",
    "Evaluation: (your rationale for the rating, as a text)\n",
    "Total rating: (your rating, as a integer between 1 and 5)\n",
    "\n",
    "You MUST provide values for 'Evaluation:' and 'Total rating:' in your answer.\n",
    "\n",
    "Now here are the question and context.\n",
    "\n",
    "Question: \"\"\""
   ]
  },
  {
   "cell_type": "code",
   "execution_count": 14,
   "metadata": {
    "metadata": {}
   },
   "outputs": [],
   "source": [
    "outdf = outdf.withColumn(\n",
    "    \"Eval_Groundness\",\n",
    "    Complete(\n",
    "        model='mixtral-8x7b',prompt = f.concat(\n",
    "            f.lit(question_groundedness_critique_prompt),\n",
    "            f.col(\"GENQ\"),\n",
    "            f.lit(\"\\n Context: \"),\n",
    "            f.col(\"CONTENT_CHUNK\"),\n",
    "            f.lit(\"\\n Answer:::\")\n",
    "            ))\n",
    ")"
   ]
  },
  {
   "cell_type": "code",
   "execution_count": 15,
   "metadata": {
    "metadata": {}
   },
   "outputs": [
    {
     "data": {
      "text/plain": [
       "' Evaluation: The context provides a detailed explanation of the potential consequences if the business is unable to adequately service their vehicles. It mentions adverse publicity, regulatory action, safety recall, fines, loss of permits and licenses, and negative impact on the business, prospects, financial condition, results of operations, and cash flows. Therefore, the question is clearly and unambiguously answerable with the context.\\n\\nTotal rating: 5'"
      ]
     },
     "execution_count": 15,
     "metadata": {},
     "output_type": "execute_result"
    }
   ],
   "source": [
    "## you can always pull this into pandas to see the results\n",
    "outputs = outdf.to_pandas()\n",
    "outputs.EVAL_GROUNDNESS[4]"
   ]
  },
  {
   "cell_type": "markdown",
   "metadata": {},
   "source": [
    "Let's split out the score,which will later filter on."
   ]
  },
  {
   "cell_type": "code",
   "execution_count": 16,
   "metadata": {
    "metadata": {}
   },
   "outputs": [
    {
     "name": "stdout",
     "output_type": "stream",
     "text": [
      "--------------------------------------------------------------------------------------------------------------------------------------------------------------------------------------------------------------------------------------------------------------------------------------------------------------------------------------------------------------------------------------------------------------------------------------------------------------------------------------------------------------------------------------------------------------------------------------------------------------------------------------\n",
      "|\"SEC_DOCUMENT_ID\"          |\"DOCUMENT_TYPE\"   |\"COMPANY_NAME\"                |\"SIC_CODE_CATEGORY\"      |\"SIC_CODE_DESCRIPTION\"                 |\"COUNTRY\"  |\"PERIOD_END_DATE\"  |\"CONTENT_CHUNK\"                                     |\"START_INDEX\"  |\"EMBEDDING\"                                         |\"DOCUMENT_INDEX_ROWNUM\"  |\"ROWNUM\"  |\"GENQA\"                                             |\"SPLIT_COL\"                                         |\"GENQ\"                                              |\"GENA\"                                              |\"EVAL_GROUNDNESS\"                                   |\"SCORE_EG\"  |\n",
      "--------------------------------------------------------------------------------------------------------------------------------------------------------------------------------------------------------------------------------------------------------------------------------------------------------------------------------------------------------------------------------------------------------------------------------------------------------------------------------------------------------------------------------------------------------------------------------------------------------------------------------------\n",
      "|0001874178-23-000009_10-K  |10-K Filing Text  |RIVIAN AUTOMOTIVE, INC. / DE  |Office of Manufacturing  |MOTOR VEHICLES & PASSENGER CAR BODIES  |US         |2022-12-31         |rivn-20221231 UNITED STATES SECURITIES AND EXCH...  |4              |[0.0134749636054039, -0.01612430065870285, -0.0...  |1                        |3635739   | Factoid question: What is the trading symbol f...  |[                                                   |\" Factoid question: What is the trading symbol ...  |\"Answer: The trading symbol for Rivian Automoti...  | Evaluation: The context provides the trading s...  |5           |\n",
      "|                           |                  |                              |                         |                                       |           |                   |                                                    |               |                                                    |                         |          |Answer: The trading symbol for Rivian Automotiv...  |  \" Factoid question: What is the trading symbo...  |                                                    |                                                    |                                                    |            |\n",
      "|                           |                  |                              |                         |                                       |           |                   |                                                    |               |                                                    |                         |          |                                                    |  \"Answer: The trading symbol for Rivian Automo...  |                                                    |                                                    |Total rating: 5                                     |            |\n",
      "|                           |                  |                              |                         |                                       |           |                   |                                                    |               |                                                    |                         |          |                                                    |]                                                   |                                                    |                                                    |                                                    |            |\n",
      "|0001874178-23-000009_10-K  |10-K Filing Text  |RIVIAN AUTOMOTIVE, INC. / DE  |Office of Manufacturing  |MOTOR VEHICLES & PASSENGER CAR BODIES  |US         |2022-12-31         |. We do not have any control over these analyst...  |229817         |[0.014223161153495312, -0.02481968328356743, -0...  |279                      |3636017   | Factoid question: Why might demand for Rivian ...  |[                                                   |\" Factoid question: Why might demand for Rivian...  |\"Answer: Demand for Rivian Automotive's Class A...  | Evaluation: The context provides several reaso...  |4           |\n",
      "|                           |                  |                              |                         |                                       |           |                   |                                                    |               |                                                    |                         |          |Answer: Demand for Rivian Automotive's Class A ...  |  \" Factoid question: Why might demand for Rivi...  |                                                    |                                                    |                                                    |            |\n",
      "|                           |                  |                              |                         |                                       |           |                   |                                                    |               |                                                    |                         |          |                                                    |  \"Answer: Demand for Rivian Automotive's Class...  |                                                    |                                                    |Total rating: 4                                     |            |\n",
      "|                           |                  |                              |                         |                                       |           |                   |                                                    |               |                                                    |                         |          |                                                    |]                                                   |                                                    |                                                    |                                                    |            |\n",
      "|                           |                  |                              |                         |                                       |           |                   |                                                    |               |                                                    |                         |          |                                                    |                                                    |                                                    |                                                    |The context provides a clear and unambiguous an...  |            |\n",
      "|0001874178-23-000009_10-K  |10-K Filing Text  |RIVIAN AUTOMOTIVE, INC. / DE  |Office of Manufacturing  |MOTOR VEHICLES & PASSENGER CAR BODIES  |US         |2022-12-31         |. Our vehicles use lithium-ion battery cells, w...  |114360         |[0.019371476024389267, -0.005720599088817835, -...  |141                      |3635879   | Factoid question: What type of battery cells a...  |[                                                   |\" Factoid question: What type of battery cells ...  |\"Answer: Our vehicles use lithium-ion battery c...  | Answer: The type of battery cells used in the ...  |5           |\n",
      "|                           |                  |                              |                         |                                       |           |                   |                                                    |               |                                                    |                         |          |Answer: Our vehicles use lithium-ion battery ce...  |  \" Factoid question: What type of battery cell...  |                                                    |                                                    |                                                    |            |\n",
      "|                           |                  |                              |                         |                                       |           |                   |                                                    |               |                                                    |                         |          |                                                    |  \"Answer: Our vehicles use lithium-ion battery...  |                                                    |                                                    |Evaluation: The context provides a clear and di...  |            |\n",
      "|                           |                  |                              |                         |                                       |           |                   |                                                    |               |                                                    |                         |          |                                                    |]                                                   |                                                    |                                                    |                                                    |            |\n",
      "|                           |                  |                              |                         |                                       |           |                   |                                                    |               |                                                    |                         |          |                                                    |                                                    |                                                    |                                                    |Total rating: 5                                     |            |\n",
      "|0001874178-23-000009_10-K  |10-K Filing Text  |RIVIAN AUTOMOTIVE, INC. / DE  |Office of Manufacturing  |MOTOR VEHICLES & PASSENGER CAR BODIES  |US         |2022-12-31         |.  NET LOSS PER SHARE The Company's basic net l...  |389484         |[-0.01139928586781025, -0.029863249510526657, -...  |473                      |3636211   | Factoid question: How are net loss and common ...  |[                                                   |\" Factoid question: How are net loss and common...  |\"Answer: The Company's basic net loss per share...  | Evaluation: The context provides information a...  |1           |\n",
      "|                           |                  |                              |                         |                                       |           |                   |                                                    |               |                                                    |                         |          |Answer: The Company's basic net loss per share ...  |  \" Factoid question: How are net loss and comm...  |                                                    |                                                    |                                                    |            |\n",
      "|                           |                  |                              |                         |                                       |           |                   |                                                    |               |                                                    |                         |          |                                                    |  \"Answer: The Company's basic net loss per sha...  |                                                    |                                                    |Total rating: 1                                     |            |\n",
      "|                           |                  |                              |                         |                                       |           |                   |                                                    |               |                                                    |                         |          |                                                    |]                                                   |                                                    |                                                    |                                                    |            |\n",
      "|                           |                  |                              |                         |                                       |           |                   |                                                    |               |                                                    |                         |          |                                                    |                                                    |                                                    |                                                    |Answer:::                                           |            |\n",
      "|                           |                  |                              |                         |                                       |           |                   |                                                    |               |                                                    |                         |          |                                                    |                                                    |                                                    |                                                    |Evaluation: The context provides information ab...  |            |\n",
      "|                           |                  |                              |                         |                                       |           |                   |                                                    |               |                                                    |                         |          |                                                    |                                                    |                                                    |                                                    |                                                    |            |\n",
      "|                           |                  |                              |                         |                                       |           |                   |                                                    |               |                                                    |                         |          |                                                    |                                                    |                                                    |                                                    |Total rating: 1                                     |            |\n",
      "|0001874178-23-000009_10-K  |10-K Filing Text  |RIVIAN AUTOMOTIVE, INC. / DE  |Office of Manufacturing  |MOTOR VEHICLES & PASSENGER CAR BODIES  |US         |2022-12-31         |. Such damage or injury could also lead to adve...  |116092         |[-0.001115779741667211, -0.01557418704032898, -...  |143                      |3635881   | Factoid question: What could be the potential ...  |[                                                   |\" Factoid question: What could be the potential...  |\"Answer: The business, prospects, financial con...  | Evaluation: The context provides a detailed ex...  |5           |\n",
      "|                           |                  |                              |                         |                                       |           |                   |                                                    |               |                                                    |                         |          |Answer: The business, prospects, financial cond...  |  \" Factoid question: What could be the potenti...  |                                                    |                                                    |                                                    |            |\n",
      "|                           |                  |                              |                         |                                       |           |                   |                                                    |               |                                                    |                         |          |                                                    |  \"Answer: The business, prospects, financial c...  |                                                    |                                                    |Total rating: 5                                     |            |\n",
      "|                           |                  |                              |                         |                                       |           |                   |                                                    |               |                                                    |                         |          |                                                    |]                                                   |                                                    |                                                    |                                                    |            |\n",
      "|0001874178-23-000009_10-K  |10-K Filing Text  |RIVIAN AUTOMOTIVE, INC. / DE  |Office of Manufacturing  |MOTOR VEHICLES & PASSENGER CAR BODIES  |US         |2022-12-31         |. We use our Investor Relations website as a me...  |55419          |[0.007679999805986881, -0.015060197561979294, -...  |70                       |3635808   | Factoid question: What is one way the company ...  |[                                                   |\" Factoid question: What is one way the company...  |\"Answer: The company uses its Investor Relation...  | Answer: The company discloses material informa...  |5           |\n",
      "|                           |                  |                              |                         |                                       |           |                   |                                                    |               |                                                    |                         |          |Answer: The company uses its Investor Relations...  |  \" Factoid question: What is one way the compa...  |                                                    |                                                    |Evaluation: The context directly answers the qu...  |            |\n",
      "|                           |                  |                              |                         |                                       |           |                   |                                                    |               |                                                    |                         |          |                                                    |  \"Answer: The company uses its Investor Relati...  |                                                    |                                                    |Total rating: 5                                     |            |\n",
      "|                           |                  |                              |                         |                                       |           |                   |                                                    |               |                                                    |                         |          |                                                    |]                                                   |                                                    |                                                    |                                                    |            |\n",
      "|0001874178-23-000009_10-K  |10-K Filing Text  |RIVIAN AUTOMOTIVE, INC. / DE  |Office of Manufacturing  |MOTOR VEHICLES & PASSENGER CAR BODIES  |US         |2022-12-31         |. The grant-date fair value of stock options gr...  |376076         |[-0.0316321924328804, -0.018513798713684082, -0...  |456                      |3636194   | Factoid question: How are the grant-date fair ...  |[                                                   |\" Factoid question: How are the grant-date fair...  |\"Answer: The grant-date fair value of RSUs gran...  | Answer: The grant-date fair value of RSUs gran...  |5           |\n",
      "|                           |                  |                              |                         |                                       |           |                   |                                                    |               |                                                    |                         |          |Answer: The grant-date fair value of RSUs grant...  |  \" Factoid question: How are the grant-date fa...  |                                                    |                                                    |                                                    |            |\n",
      "|                           |                  |                              |                         |                                       |           |                   |                                                    |               |                                                    |                         |          |                                                    |  \"Answer: The grant-date fair value of RSUs gr...  |                                                    |                                                    |Evaluation: The context clearly states that the...  |            |\n",
      "|                           |                  |                              |                         |                                       |           |                   |                                                    |               |                                                    |                         |          |                                                    |]                                                   |                                                    |                                                    |                                                    |            |\n",
      "|                           |                  |                              |                         |                                       |           |                   |                                                    |               |                                                    |                         |          |                                                    |                                                    |                                                    |                                                    |Total rating: 5                                     |            |\n",
      "|0001874178-23-000009_10-K  |10-K Filing Text  |RIVIAN AUTOMOTIVE, INC. / DE  |Office of Manufacturing  |MOTOR VEHICLES & PASSENGER CAR BODIES  |US         |2022-12-31         |. Any reduction, elimination, or discriminatory...  |127973         |[0.006324884947389364, -0.027103247120976448, -...  |157                      |3635895   | Factoid question: Why are certain hybrids and ...  |[                                                   |\" Factoid question: Why are certain hybrids and...  |\"Answer: This is to support transportation infr...  | Evaluation: The context explains that many sta...  |5           |\n",
      "|                           |                  |                              |                         |                                       |           |                   |                                                    |               |                                                    |                         |          |Answer: This is to support transportation infra...  |  \" Factoid question: Why are certain hybrids a...  |                                                    |                                                    |                                                    |            |\n",
      "|                           |                  |                              |                         |                                       |           |                   |                                                    |               |                                                    |                         |          |                                                    |  \"Answer: This is to support transportation in...  |                                                    |                                                    |Total rating: 5                                     |            |\n",
      "|                           |                  |                              |                         |                                       |           |                   |                                                    |               |                                                    |                         |          |                                                    |]                                                   |                                                    |                                                    |                                                    |            |\n",
      "|                           |                  |                              |                         |                                       |           |                   |                                                    |               |                                                    |                         |          |                                                    |                                                    |                                                    |                                                    |Confidence: 90%                                     |            |\n",
      "|0001874178-23-000009_10-K  |10-K Filing Text  |RIVIAN AUTOMOTIVE, INC. / DE  |Office of Manufacturing  |MOTOR VEHICLES & PASSENGER CAR BODIES  |US         |2022-12-31         |.1** Certification of Chief Executive Officer p...  |408362         |[-0.01204388216137886, -0.008523665368556976, -...  |494                      |3636232   | Factoid question: What type of document is the...  |[                                                   |\" Factoid question: What type of document is th...  |\"Answer: The Inline XBRL Instance Document is a...  | Evaluation: The context provides information a...  |3           |\n",
      "|                           |                  |                              |                         |                                       |           |                   |                                                    |               |                                                    |                         |          |Answer: The Inline XBRL Instance Document is an...  |  \" Factoid question: What type of document is ...  |                                                    |                                                    |                                                    |            |\n",
      "|                           |                  |                              |                         |                                       |           |                   |                                                    |               |                                                    |                         |          |                                                    |  \"Answer: The Inline XBRL Instance Document is...  |                                                    |                                                    |Total rating: 3                                     |            |\n",
      "|                           |                  |                              |                         |                                       |           |                   |                                                    |               |                                                    |                         |          |                                                    |]                                                   |                                                    |                                                    |                                                    |            |\n",
      "|                           |                  |                              |                         |                                       |           |                   |                                                    |               |                                                    |                         |          |                                                    |                                                    |                                                    |                                                    |Explanation: While the context does provide som...  |            |\n",
      "|0001874178-23-000009_10-K  |10-K Filing Text  |RIVIAN AUTOMOTIVE, INC. / DE  |Office of Manufacturing  |MOTOR VEHICLES & PASSENGER CAR BODIES  |US         |2022-12-31         |. We market our ability to provide our customer...  |110525         |[-0.010174417868256569, -0.024404698982834816, ...  |136                      |3635874   | Factoid question: What are some of Rivian's ch...  |[                                                   |\" Factoid question: What are some of Rivian's c...  |\"Answer: Rivian offers comprehensive charging s...  | Evaluation: The context clearly states that Ri...  |5           |\n",
      "|                           |                  |                              |                         |                                       |           |                   |                                                    |               |                                                    |                         |          |Answer: Rivian offers comprehensive charging so...  |  \" Factoid question: What are some of Rivian's...  |                                                    |                                                    |                                                    |            |\n",
      "|                           |                  |                              |                         |                                       |           |                   |                                                    |               |                                                    |                         |          |                                                    |  \"Answer: Rivian offers comprehensive charging...  |                                                    |                                                    |Total rating: 5                                     |            |\n",
      "|                           |                  |                              |                         |                                       |           |                   |                                                    |               |                                                    |                         |          |                                                    |]                                                   |                                                    |                                                    |                                                    |            |\n",
      "--------------------------------------------------------------------------------------------------------------------------------------------------------------------------------------------------------------------------------------------------------------------------------------------------------------------------------------------------------------------------------------------------------------------------------------------------------------------------------------------------------------------------------------------------------------------------------------------------------------------------------------\n",
      "\n"
     ]
    }
   ],
   "source": [
    "# Extracting the score by taking the rightmost character of the last part of split_rating\n",
    "outdf = outdf.withColumn(\"score_EG\", regexp_extract(col(\"EVAL_GROUNDNESS\"), r\"Total rating:\\s*(\\d)\", 1))\n",
    "\n",
    "outdf.show()"
   ]
  },
  {
   "cell_type": "markdown",
   "metadata": {},
   "source": [
    "### Relevance Criteria"
   ]
  },
  {
   "cell_type": "code",
   "execution_count": 17,
   "metadata": {
    "metadata": {}
   },
   "outputs": [],
   "source": [
    "question_relevance_critique_prompt = \"\"\"\n",
    "You will be given a question.\n",
    "Your task is to provide a 'total rating' representing how useful this question can be to analysts.\n",
    "Give your answer on a scale of 1 to 5, where 1 means that the question is not useful at all, and 5 means that the question is extremely useful.\n",
    "\n",
    "Provide your answer as follows:\n",
    "\n",
    "Answer:::\n",
    "Evaluation: (your rationale for the rating, as a text)\n",
    "Total rating: (your rating, as an integer between 1 and 5)\n",
    "\n",
    "You MUST provide values for 'Evaluation:' and 'Total rating:' in your answer.\n",
    "\n",
    "Now here is the question.\n",
    "\n",
    "Question: \"\"\""
   ]
  },
  {
   "cell_type": "code",
   "execution_count": 18,
   "metadata": {
    "metadata": {}
   },
   "outputs": [
    {
     "name": "stdout",
     "output_type": "stream",
     "text": [
      "--------------------------------------------------------------------------------------------------------------------------------------------------------------------------------------------------------------------------------------------------------------------------------------------------------------------------------------------------------------------------------------------------------------------------------------------------------------------------------------------------------------------------------------------------------------------------------------------------------------------------------------------------------------------------------------------------------\n",
      "|\"SEC_DOCUMENT_ID\"          |\"DOCUMENT_TYPE\"   |\"COMPANY_NAME\"                |\"SIC_CODE_CATEGORY\"      |\"SIC_CODE_DESCRIPTION\"                 |\"COUNTRY\"  |\"PERIOD_END_DATE\"  |\"CONTENT_CHUNK\"                                     |\"START_INDEX\"  |\"EMBEDDING\"                                         |\"DOCUMENT_INDEX_ROWNUM\"  |\"ROWNUM\"  |\"GENQA\"                                             |\"SPLIT_COL\"                                         |\"GENQ\"                                              |\"GENA\"                                              |\"EVAL_GROUNDNESS\"                                   |\"SCORE_EG\"  |\"EVAL_RELEVANCE\"                                    |\"SCORE_ER\"  |\n",
      "--------------------------------------------------------------------------------------------------------------------------------------------------------------------------------------------------------------------------------------------------------------------------------------------------------------------------------------------------------------------------------------------------------------------------------------------------------------------------------------------------------------------------------------------------------------------------------------------------------------------------------------------------------------------------------------------------------\n",
      "|0001874178-23-000009_10-K  |10-K Filing Text  |RIVIAN AUTOMOTIVE, INC. / DE  |Office of Manufacturing  |MOTOR VEHICLES & PASSENGER CAR BODIES  |US         |2022-12-31         |rivn-20221231 UNITED STATES SECURITIES AND EXCH...  |4              |[0.0134749636054039, -0.01612430065870285, -0.0...  |1                        |3635739   | Factoid question: What is the trading symbol f...  |[                                                   |\" Factoid question: What is the trading symbol ...  |\"Answer: The trading symbol for Rivian Automoti...  | Evaluation: The context provides the trading s...  |5           | Evaluation: This question is seeking specific ...  |5           |\n",
      "|                           |                  |                              |                         |                                       |           |                   |                                                    |               |                                                    |                         |          |Answer: The trading symbol for Rivian Automotiv...  |  \" Factoid question: What is the trading symbo...  |                                                    |                                                    |                                                    |            |                                                    |            |\n",
      "|                           |                  |                              |                         |                                       |           |                   |                                                    |               |                                                    |                         |          |                                                    |  \"Answer: The trading symbol for Rivian Automo...  |                                                    |                                                    |Total rating: 5                                     |            |Total rating: 5                                     |            |\n",
      "|                           |                  |                              |                         |                                       |           |                   |                                                    |               |                                                    |                         |          |                                                    |]                                                   |                                                    |                                                    |                                                    |            |                                                    |            |\n",
      "|                           |                  |                              |                         |                                       |           |                   |                                                    |               |                                                    |                         |          |                                                    |                                                    |                                                    |                                                    |                                                    |            |Note: The trading symbol for Rivian Automotive ...  |            |\n",
      "|0001874178-23-000009_10-K  |10-K Filing Text  |RIVIAN AUTOMOTIVE, INC. / DE  |Office of Manufacturing  |MOTOR VEHICLES & PASSENGER CAR BODIES  |US         |2022-12-31         |. We do not have any control over these analyst...  |229817         |[0.014223161153495312, -0.02481968328356743, -0...  |279                      |3636017   | Factoid question: Why might demand for Rivian ...  |[                                                   |\" Factoid question: Why might demand for Rivian...  |\"Answer: Demand for Rivian Automotive's Class A...  | Evaluation: The context provides several reaso...  |4           | Evaluation: This question is useful for analys...  |5           |\n",
      "|                           |                  |                              |                         |                                       |           |                   |                                                    |               |                                                    |                         |          |Answer: Demand for Rivian Automotive's Class A ...  |  \" Factoid question: Why might demand for Rivi...  |                                                    |                                                    |                                                    |            |                                                    |            |\n",
      "|                           |                  |                              |                         |                                       |           |                   |                                                    |               |                                                    |                         |          |                                                    |  \"Answer: Demand for Rivian Automotive's Class...  |                                                    |                                                    |Total rating: 4                                     |            |Total rating: 5                                     |            |\n",
      "|                           |                  |                              |                         |                                       |           |                   |                                                    |               |                                                    |                         |          |                                                    |]                                                   |                                                    |                                                    |                                                    |            |                                                    |            |\n",
      "|                           |                  |                              |                         |                                       |           |                   |                                                    |               |                                                    |                         |          |                                                    |                                                    |                                                    |                                                    |The context provides several clear and unambigu...  |            |Confidence: 90%                                     |            |\n",
      "|0001874178-23-000009_10-K  |10-K Filing Text  |RIVIAN AUTOMOTIVE, INC. / DE  |Office of Manufacturing  |MOTOR VEHICLES & PASSENGER CAR BODIES  |US         |2022-12-31         |. Our vehicles use lithium-ion battery cells, w...  |114360         |[0.019371476024389267, -0.005720599088817835, -...  |141                      |3635879   | Factoid question: What type of battery cells a...  |[                                                   |\" Factoid question: What type of battery cells ...  |\"Answer: Our vehicles use lithium-ion battery c...  | Answer: The type of battery cells used in the ...  |5           | Evaluation: This question is useful for analys...  |5           |\n",
      "|                           |                  |                              |                         |                                       |           |                   |                                                    |               |                                                    |                         |          |Answer: Our vehicles use lithium-ion battery ce...  |  \" Factoid question: What type of battery cell...  |                                                    |                                                    |                                                    |            |                                                    |            |\n",
      "|                           |                  |                              |                         |                                       |           |                   |                                                    |               |                                                    |                         |          |                                                    |  \"Answer: Our vehicles use lithium-ion battery...  |                                                    |                                                    |Evaluation: The context provides a clear and di...  |            |Total rating: 5                                     |            |\n",
      "|                           |                  |                              |                         |                                       |           |                   |                                                    |               |                                                    |                         |          |                                                    |]                                                   |                                                    |                                                    |                                                    |            |                                                    |            |\n",
      "|                           |                  |                              |                         |                                       |           |                   |                                                    |               |                                                    |                         |          |                                                    |                                                    |                                                    |                                                    |Total rating: 5                                     |            |The question is open-ended and encourages a det...  |            |\n",
      "|0001874178-23-000009_10-K  |10-K Filing Text  |RIVIAN AUTOMOTIVE, INC. / DE  |Office of Manufacturing  |MOTOR VEHICLES & PASSENGER CAR BODIES  |US         |2022-12-31         |.  NET LOSS PER SHARE The Company's basic net l...  |389484         |[-0.01139928586781025, -0.029863249510526657, -...  |473                      |3636211   | Factoid question: How are net loss and common ...  |[                                                   |\" Factoid question: How are net loss and common...  |\"Answer: The Company's basic net loss per share...  | Evaluation: The context provides information a...  |1           | Evaluation: This question is useful for analys...  |4           |\n",
      "|                           |                  |                              |                         |                                       |           |                   |                                                    |               |                                                    |                         |          |Answer: The Company's basic net loss per share ...  |  \" Factoid question: How are net loss and comm...  |                                                    |                                                    |                                                    |            |                                                    |            |\n",
      "|                           |                  |                              |                         |                                       |           |                   |                                                    |               |                                                    |                         |          |                                                    |  \"Answer: The Company's basic net loss per sha...  |                                                    |                                                    |Total rating: 1                                     |            |Total rating: 4                                     |            |\n",
      "|                           |                  |                              |                         |                                       |           |                   |                                                    |               |                                                    |                         |          |                                                    |]                                                   |                                                    |                                                    |                                                    |            |                                                    |            |\n",
      "|                           |                  |                              |                         |                                       |           |                   |                                                    |               |                                                    |                         |          |                                                    |                                                    |                                                    |                                                    |Answer:::                                           |            |Explanation: While the question is useful, it c...  |            |\n",
      "|                           |                  |                              |                         |                                       |           |                   |                                                    |               |                                                    |                         |          |                                                    |                                                    |                                                    |                                                    |Evaluation: The context provides information ab...  |            |                                                    |            |\n",
      "|                           |                  |                              |                         |                                       |           |                   |                                                    |               |                                                    |                         |          |                                                    |                                                    |                                                    |                                                    |                                                    |            |                                                    |            |\n",
      "|                           |                  |                              |                         |                                       |           |                   |                                                    |               |                                                    |                         |          |                                                    |                                                    |                                                    |                                                    |Total rating: 1                                     |            |                                                    |            |\n",
      "|0001874178-23-000009_10-K  |10-K Filing Text  |RIVIAN AUTOMOTIVE, INC. / DE  |Office of Manufacturing  |MOTOR VEHICLES & PASSENGER CAR BODIES  |US         |2022-12-31         |. Such damage or injury could also lead to adve...  |116092         |[-0.001115779741667211, -0.01557418704032898, -...  |143                      |3635881   | Factoid question: What could be the potential ...  |[                                                   |\" Factoid question: What could be the potential...  |\"Answer: The business, prospects, financial con...  | Evaluation: The context provides a detailed ex...  |5           | Evaluation: This question is open-ended and re...  |5           |\n",
      "|                           |                  |                              |                         |                                       |           |                   |                                                    |               |                                                    |                         |          |Answer: The business, prospects, financial cond...  |  \" Factoid question: What could be the potenti...  |                                                    |                                                    |                                                    |            |                                                    |            |\n",
      "|                           |                  |                              |                         |                                       |           |                   |                                                    |               |                                                    |                         |          |                                                    |  \"Answer: The business, prospects, financial c...  |                                                    |                                                    |Total rating: 5                                     |            |Total rating: 5                                     |            |\n",
      "|                           |                  |                              |                         |                                       |           |                   |                                                    |               |                                                    |                         |          |                                                    |]                                                   |                                                    |                                                    |                                                    |            |                                                    |            |\n",
      "|                           |                  |                              |                         |                                       |           |                   |                                                    |               |                                                    |                         |          |                                                    |                                                    |                                                    |                                                    |                                                    |            |The question is useful in highlighting the pote...  |            |\n",
      "|0001874178-23-000009_10-K  |10-K Filing Text  |RIVIAN AUTOMOTIVE, INC. / DE  |Office of Manufacturing  |MOTOR VEHICLES & PASSENGER CAR BODIES  |US         |2022-12-31         |. We use our Investor Relations website as a me...  |55419          |[0.007679999805986881, -0.015060197561979294, -...  |70                       |3635808   | Factoid question: What is one way the company ...  |[                                                   |\" Factoid question: What is one way the company...  |\"Answer: The company uses its Investor Relation...  | Answer: The company discloses material informa...  |5           | Evaluation: This question is seeking informati...  |5           |\n",
      "|                           |                  |                              |                         |                                       |           |                   |                                                    |               |                                                    |                         |          |Answer: The company uses its Investor Relations...  |  \" Factoid question: What is one way the compa...  |                                                    |                                                    |Evaluation: The context directly answers the qu...  |            |                                                    |            |\n",
      "|                           |                  |                              |                         |                                       |           |                   |                                                    |               |                                                    |                         |          |                                                    |  \"Answer: The company uses its Investor Relati...  |                                                    |                                                    |Total rating: 5                                     |            |Total rating: 5                                     |            |\n",
      "|                           |                  |                              |                         |                                       |           |                   |                                                    |               |                                                    |                         |          |                                                    |]                                                   |                                                    |                                                    |                                                    |            |This question is extremely useful for analysts ...  |            |\n",
      "|0001874178-23-000009_10-K  |10-K Filing Text  |RIVIAN AUTOMOTIVE, INC. / DE  |Office of Manufacturing  |MOTOR VEHICLES & PASSENGER CAR BODIES  |US         |2022-12-31         |. The grant-date fair value of stock options gr...  |376076         |[-0.0316321924328804, -0.018513798713684082, -0...  |456                      |3636194   | Factoid question: How are the grant-date fair ...  |[                                                   |\" Factoid question: How are the grant-date fair...  |\"Answer: The grant-date fair value of RSUs gran...  | Answer: The grant-date fair value of RSUs gran...  |5           | Evaluation: This question is useful for analys...  |5           |\n",
      "|                           |                  |                              |                         |                                       |           |                   |                                                    |               |                                                    |                         |          |Answer: The grant-date fair value of RSUs grant...  |  \" Factoid question: How are the grant-date fa...  |                                                    |                                                    |                                                    |            |                                                    |            |\n",
      "|                           |                  |                              |                         |                                       |           |                   |                                                    |               |                                                    |                         |          |                                                    |  \"Answer: The grant-date fair value of RSUs gr...  |                                                    |                                                    |Evaluation: The context clearly states that the...  |            |Total rating: 5                                     |            |\n",
      "|                           |                  |                              |                         |                                       |           |                   |                                                    |               |                                                    |                         |          |                                                    |]                                                   |                                                    |                                                    |                                                    |            |                                                    |            |\n",
      "|                           |                  |                              |                         |                                       |           |                   |                                                    |               |                                                    |                         |          |                                                    |                                                    |                                                    |                                                    |Total rating: 5                                     |            |Note: The rating of 5 is given because the ques...  |            |\n",
      "|0001874178-23-000009_10-K  |10-K Filing Text  |RIVIAN AUTOMOTIVE, INC. / DE  |Office of Manufacturing  |MOTOR VEHICLES & PASSENGER CAR BODIES  |US         |2022-12-31         |. Any reduction, elimination, or discriminatory...  |127973         |[0.006324884947389364, -0.027103247120976448, -...  |157                      |3635895   | Factoid question: Why are certain hybrids and ...  |[                                                   |\" Factoid question: Why are certain hybrids and...  |\"Answer: This is to support transportation infr...  | Evaluation: The context explains that many sta...  |5           | Evaluation: This question is useful for analys...  |5           |\n",
      "|                           |                  |                              |                         |                                       |           |                   |                                                    |               |                                                    |                         |          |Answer: This is to support transportation infra...  |  \" Factoid question: Why are certain hybrids a...  |                                                    |                                                    |                                                    |            |                                                    |            |\n",
      "|                           |                  |                              |                         |                                       |           |                   |                                                    |               |                                                    |                         |          |                                                    |  \"Answer: This is to support transportation in...  |                                                    |                                                    |Total rating: 5                                     |            |Total rating: 5                                     |            |\n",
      "|                           |                  |                              |                         |                                       |           |                   |                                                    |               |                                                    |                         |          |                                                    |]                                                   |                                                    |                                                    |                                                    |            |                                                    |            |\n",
      "|                           |                  |                              |                         |                                       |           |                   |                                                    |               |                                                    |                         |          |                                                    |                                                    |                                                    |                                                    |Confidence: 90%                                     |            |Confidence: 90%                                     |            |\n",
      "|0001874178-23-000009_10-K  |10-K Filing Text  |RIVIAN AUTOMOTIVE, INC. / DE  |Office of Manufacturing  |MOTOR VEHICLES & PASSENGER CAR BODIES  |US         |2022-12-31         |.1** Certification of Chief Executive Officer p...  |408362         |[-0.01204388216137886, -0.008523665368556976, -...  |494                      |3636232   | Factoid question: What type of document is the...  |[                                                   |\" Factoid question: What type of document is th...  |\"Answer: The Inline XBRL Instance Document is a...  | Evaluation: The context provides information a...  |3           | Evaluation: This question is seeking to unders...  |5           |\n",
      "|                           |                  |                              |                         |                                       |           |                   |                                                    |               |                                                    |                         |          |Answer: The Inline XBRL Instance Document is an...  |  \" Factoid question: What type of document is ...  |                                                    |                                                    |                                                    |            |                                                    |            |\n",
      "|                           |                  |                              |                         |                                       |           |                   |                                                    |               |                                                    |                         |          |                                                    |  \"Answer: The Inline XBRL Instance Document is...  |                                                    |                                                    |Total rating: 3                                     |            |Total rating: 5                                     |            |\n",
      "|                           |                  |                              |                         |                                       |           |                   |                                                    |               |                                                    |                         |          |                                                    |]                                                   |                                                    |                                                    |                                                    |            |                                                    |            |\n",
      "|                           |                  |                              |                         |                                       |           |                   |                                                    |               |                                                    |                         |          |                                                    |                                                    |                                                    |                                                    |Explanation: While the context does provide som...  |            |Reference(s):                                       |            |\n",
      "|                           |                  |                              |                         |                                       |           |                   |                                                    |               |                                                    |                         |          |                                                    |                                                    |                                                    |                                                    |                                                    |            |- Inline XBRL (eXtensible Business Reporting La...  |            |\n",
      "|0001874178-23-000009_10-K  |10-K Filing Text  |RIVIAN AUTOMOTIVE, INC. / DE  |Office of Manufacturing  |MOTOR VEHICLES & PASSENGER CAR BODIES  |US         |2022-12-31         |. We market our ability to provide our customer...  |110525         |[-0.010174417868256569, -0.024404698982834816, ...  |136                      |3635874   | Factoid question: What are some of Rivian's ch...  |[                                                   |\" Factoid question: What are some of Rivian's c...  |\"Answer: Rivian offers comprehensive charging s...  | Evaluation: The context clearly states that Ri...  |5           | Evaluation: This question is useful for analys...  |4           |\n",
      "|                           |                  |                              |                         |                                       |           |                   |                                                    |               |                                                    |                         |          |Answer: Rivian offers comprehensive charging so...  |  \" Factoid question: What are some of Rivian's...  |                                                    |                                                    |                                                    |            |                                                    |            |\n",
      "|                           |                  |                              |                         |                                       |           |                   |                                                    |               |                                                    |                         |          |                                                    |  \"Answer: Rivian offers comprehensive charging...  |                                                    |                                                    |Total rating: 5                                     |            |Total rating: 4                                     |            |\n",
      "|                           |                  |                              |                         |                                       |           |                   |                                                    |               |                                                    |                         |          |                                                    |]                                                   |                                                    |                                                    |                                                    |            |                                                    |            |\n",
      "|                           |                  |                              |                         |                                       |           |                   |                                                    |               |                                                    |                         |          |                                                    |                                                    |                                                    |                                                    |                                                    |            |Note: While this question is useful, it is limi...  |            |\n",
      "--------------------------------------------------------------------------------------------------------------------------------------------------------------------------------------------------------------------------------------------------------------------------------------------------------------------------------------------------------------------------------------------------------------------------------------------------------------------------------------------------------------------------------------------------------------------------------------------------------------------------------------------------------------------------------------------------------\n",
      "\n"
     ]
    }
   ],
   "source": [
    "outdf = outdf.withColumn(\n",
    "    \"EVAL_RELEVANCE\",\n",
    "    Complete(\n",
    "        model='mixtral-8x7b',prompt = f.concat(\n",
    "            f.lit(question_relevance_critique_prompt),\n",
    "            f.col(\"GENQ\"),\n",
    "            f.lit(\"\\n Answer:::\")\n",
    "            ))\n",
    ")\n",
    "# Extracting the score by taking the rightmost character of the last part of split_rating\n",
    "outdf = outdf.withColumn(\"score_ER\", regexp_extract(col(\"EVAL_RELEVANCE\"), r\"Total rating:\\s*(\\d)\", 1))\n",
    "\n",
    "outdf.show()"
   ]
  },
  {
   "cell_type": "markdown",
   "metadata": {},
   "source": [
    "### Context Criteria"
   ]
  },
  {
   "cell_type": "code",
   "execution_count": 19,
   "metadata": {
    "metadata": {}
   },
   "outputs": [],
   "source": [
    "question_standalone_critique_prompt = \"\"\"\n",
    "You will be given a question.\n",
    "Your task is to provide a 'total rating' representing how context-independant this question is.\n",
    "Give your answer on a scale of 1 to 5, where 1 means that the question depends on additional information to be understood, and 5 means that the question makes sense by itself.\n",
    "For instance, if the question refers to a particular setting, like 'in the context' or 'in the document', the rating must be 1.\n",
    "The questions can contain obscure technical nouns or acronyms like Gradio, Hub, Hugging Face or Space and still be a 5: it must simply be clear to an operator with access to documentation what the question is about.\n",
    "\n",
    "For instance, \"What is the name of the checkpoint from which the ViT model is imported?\" should receive a 1, since there is an implicit mention of a context, thus the question is not independant from the context.\n",
    "\n",
    "Provide your answer as follows:\n",
    "\n",
    "Answer:::\n",
    "Evaluation: (your rationale for the rating, as a text)\n",
    "Total rating: (your rating, as an integer between 1 and 5)\n",
    "\n",
    "You MUST provide values for 'Evaluation:' and 'Total rating:' in your answer.\n",
    "\n",
    "Now here is the question.\n",
    "\n",
    "Question: \"\"\""
   ]
  },
  {
   "cell_type": "code",
   "execution_count": 20,
   "metadata": {
    "metadata": {}
   },
   "outputs": [
    {
     "name": "stdout",
     "output_type": "stream",
     "text": [
      "--------------------------------------------------------------------------------------------------------------------------------------------------------------------------------------------------------------------------------------------------------------------------------------------------------------------------------------------------------------------------------------------------------------------------------------------------------------------------------------------------------------------------------------------------------------------------------------------------------------------------------------------------------------------------------------------------------------------------------------------------------------------------\n",
      "|\"SEC_DOCUMENT_ID\"          |\"DOCUMENT_TYPE\"   |\"COMPANY_NAME\"                |\"SIC_CODE_CATEGORY\"      |\"SIC_CODE_DESCRIPTION\"                 |\"COUNTRY\"  |\"PERIOD_END_DATE\"  |\"CONTENT_CHUNK\"                                     |\"START_INDEX\"  |\"EMBEDDING\"                                         |\"DOCUMENT_INDEX_ROWNUM\"  |\"ROWNUM\"  |\"GENQA\"                                             |\"SPLIT_COL\"                                         |\"GENQ\"                                              |\"GENA\"                                              |\"EVAL_GROUNDNESS\"                                   |\"SCORE_EG\"  |\"EVAL_RELEVANCE\"                                    |\"SCORE_ER\"  |\"EVAL_CONTEXT\"                                      |\"SCORE_EC\"  |\n",
      "--------------------------------------------------------------------------------------------------------------------------------------------------------------------------------------------------------------------------------------------------------------------------------------------------------------------------------------------------------------------------------------------------------------------------------------------------------------------------------------------------------------------------------------------------------------------------------------------------------------------------------------------------------------------------------------------------------------------------------------------------------------------------\n",
      "|0001874178-23-000009_10-K  |10-K Filing Text  |RIVIAN AUTOMOTIVE, INC. / DE  |Office of Manufacturing  |MOTOR VEHICLES & PASSENGER CAR BODIES  |US         |2022-12-31         |rivn-20221231 UNITED STATES SECURITIES AND EXCH...  |4              |[0.0134749636054039, -0.01612430065870285, -0.0...  |1                        |3635739   | Factoid question: What is the trading symbol f...  |[                                                   |\" Factoid question: What is the trading symbol ...  |\"Answer: The trading symbol for Rivian Automoti...  | Evaluation: The context provides the trading s...  |5           | Evaluation: This question is seeking specific ...  |5           | Evaluation: This question is seeking specific ...  |5           |\n",
      "|                           |                  |                              |                         |                                       |           |                   |                                                    |               |                                                    |                         |          |Answer: The trading symbol for Rivian Automotiv...  |  \" Factoid question: What is the trading symbo...  |                                                    |                                                    |                                                    |            |                                                    |            |                                                    |            |\n",
      "|                           |                  |                              |                         |                                       |           |                   |                                                    |               |                                                    |                         |          |                                                    |  \"Answer: The trading symbol for Rivian Automo...  |                                                    |                                                    |Total rating: 5                                     |            |Total rating: 5                                     |            |Total rating: 5                                     |            |\n",
      "|                           |                  |                              |                         |                                       |           |                   |                                                    |               |                                                    |                         |          |                                                    |]                                                   |                                                    |                                                    |                                                    |            |                                                    |            |                                                    |            |\n",
      "|                           |                  |                              |                         |                                       |           |                   |                                                    |               |                                                    |                         |          |                                                    |                                                    |                                                    |                                                    |                                                    |            |Note: The trading symbol for Rivian Automotive ...  |            |Note: The trading symbol for Rivian Automotive ...  |            |\n",
      "|0001874178-23-000009_10-K  |10-K Filing Text  |RIVIAN AUTOMOTIVE, INC. / DE  |Office of Manufacturing  |MOTOR VEHICLES & PASSENGER CAR BODIES  |US         |2022-12-31         |. We do not have any control over these analyst...  |229817         |[0.014223161153495312, -0.02481968328356743, -0...  |279                      |3636017   | Factoid question: Why might demand for Rivian ...  |[                                                   |\" Factoid question: Why might demand for Rivian...  |\"Answer: Demand for Rivian Automotive's Class A...  | Evaluation: The context provides several reaso...  |5           | Evaluation: This question is useful for analys...  |5           | Evaluation: This question is useful for analys...  |5           |\n",
      "|                           |                  |                              |                         |                                       |           |                   |                                                    |               |                                                    |                         |          |Answer: Demand for Rivian Automotive's Class A ...  |  \" Factoid question: Why might demand for Rivi...  |                                                    |                                                    |                                                    |            |                                                    |            |                                                    |            |\n",
      "|                           |                  |                              |                         |                                       |           |                   |                                                    |               |                                                    |                         |          |                                                    |  \"Answer: Demand for Rivian Automotive's Class...  |                                                    |                                                    |Total rating: 5                                     |            |Total rating: 5                                     |            |Total rating: 5                                     |            |\n",
      "|                           |                  |                              |                         |                                       |           |                   |                                                    |               |                                                    |                         |          |                                                    |]                                                   |                                                    |                                                    |                                                    |            |                                                    |            |                                                    |            |\n",
      "|                           |                  |                              |                         |                                       |           |                   |                                                    |               |                                                    |                         |          |                                                    |                                                    |                                                    |                                                    |The context clearly and unambiguously answers t...  |            |Confidence: 90%                                     |            |Confidence: 90%                                     |            |\n",
      "|0001874178-23-000009_10-K  |10-K Filing Text  |RIVIAN AUTOMOTIVE, INC. / DE  |Office of Manufacturing  |MOTOR VEHICLES & PASSENGER CAR BODIES  |US         |2022-12-31         |. Our vehicles use lithium-ion battery cells, w...  |114360         |[0.019371476024389267, -0.005720599088817835, -...  |141                      |3635879   | Factoid question: What type of battery cells a...  |[                                                   |\" Factoid question: What type of battery cells ...  |\"Answer: Our vehicles use lithium-ion battery c...  | Answer: The type of battery cells used in the ...  |5           | Evaluation: This question is useful for analys...  |5           | Evaluation: This question is useful for analys...  |5           |\n",
      "|                           |                  |                              |                         |                                       |           |                   |                                                    |               |                                                    |                         |          |Answer: Our vehicles use lithium-ion battery ce...  |  \" Factoid question: What type of battery cell...  |                                                    |                                                    |                                                    |            |                                                    |            |                                                    |            |\n",
      "|                           |                  |                              |                         |                                       |           |                   |                                                    |               |                                                    |                         |          |                                                    |  \"Answer: Our vehicles use lithium-ion battery...  |                                                    |                                                    |Evaluation: The context provides a clear and di...  |            |Total rating: 5                                     |            |Total rating: 5                                     |            |\n",
      "|                           |                  |                              |                         |                                       |           |                   |                                                    |               |                                                    |                         |          |                                                    |]                                                   |                                                    |                                                    |                                                    |            |                                                    |            |                                                    |            |\n",
      "|                           |                  |                              |                         |                                       |           |                   |                                                    |               |                                                    |                         |          |                                                    |                                                    |                                                    |                                                    |Total rating: 5                                     |            |The question is open-ended and encourages a det...  |            |The question is open-ended and encourages a det...  |            |\n",
      "|0001874178-23-000009_10-K  |10-K Filing Text  |RIVIAN AUTOMOTIVE, INC. / DE  |Office of Manufacturing  |MOTOR VEHICLES & PASSENGER CAR BODIES  |US         |2022-12-31         |.  NET LOSS PER SHARE The Company's basic net l...  |389484         |[-0.01139928586781025, -0.029863249510526657, -...  |473                      |3636211   | Factoid question: How are net loss and common ...  |[                                                   |\" Factoid question: How are net loss and common...  |\"Answer: The Company's basic net loss per share...  | Evaluation: The context provides information a...  |1           | Evaluation: This question is useful for analys...  |4           | Evaluation: This question is useful for analys...  |4           |\n",
      "|                           |                  |                              |                         |                                       |           |                   |                                                    |               |                                                    |                         |          |Answer: The Company's basic net loss per share ...  |  \" Factoid question: How are net loss and comm...  |                                                    |                                                    |                                                    |            |                                                    |            |                                                    |            |\n",
      "|                           |                  |                              |                         |                                       |           |                   |                                                    |               |                                                    |                         |          |                                                    |  \"Answer: The Company's basic net loss per sha...  |                                                    |                                                    |Total rating: 1                                     |            |Total rating: 4                                     |            |Total rating: 4                                     |            |\n",
      "|                           |                  |                              |                         |                                       |           |                   |                                                    |               |                                                    |                         |          |                                                    |]                                                   |                                                    |                                                    |                                                    |            |                                                    |            |                                                    |            |\n",
      "|                           |                  |                              |                         |                                       |           |                   |                                                    |               |                                                    |                         |          |                                                    |                                                    |                                                    |                                                    |Answer:::                                           |            |Explanation: While the question is useful, it c...  |            |Explanation: While the question is useful, it c...  |            |\n",
      "|                           |                  |                              |                         |                                       |           |                   |                                                    |               |                                                    |                         |          |                                                    |                                                    |                                                    |                                                    |Evaluation: The context provides information ab...  |            |                                                    |            |                                                    |            |\n",
      "|                           |                  |                              |                         |                                       |           |                   |                                                    |               |                                                    |                         |          |                                                    |                                                    |                                                    |                                                    |                                                    |            |                                                    |            |                                                    |            |\n",
      "|                           |                  |                              |                         |                                       |           |                   |                                                    |               |                                                    |                         |          |                                                    |                                                    |                                                    |                                                    |Total rating: 1                                     |            |                                                    |            |                                                    |            |\n",
      "|0001874178-23-000009_10-K  |10-K Filing Text  |RIVIAN AUTOMOTIVE, INC. / DE  |Office of Manufacturing  |MOTOR VEHICLES & PASSENGER CAR BODIES  |US         |2022-12-31         |. Such damage or injury could also lead to adve...  |116092         |[-0.001115779741667211, -0.01557418704032898, -...  |143                      |3635881   | Factoid question: What could be the potential ...  |[                                                   |\" Factoid question: What could be the potential...  |\"Answer: The business, prospects, financial con...  | Evaluation: The context provides a detailed ex...  |5           | Evaluation: This question is open-ended and re...  |5           | Evaluation: This question is open-ended and re...  |5           |\n",
      "|                           |                  |                              |                         |                                       |           |                   |                                                    |               |                                                    |                         |          |Answer: The business, prospects, financial cond...  |  \" Factoid question: What could be the potenti...  |                                                    |                                                    |                                                    |            |                                                    |            |                                                    |            |\n",
      "|                           |                  |                              |                         |                                       |           |                   |                                                    |               |                                                    |                         |          |                                                    |  \"Answer: The business, prospects, financial c...  |                                                    |                                                    |Total rating: 5                                     |            |Total rating: 5                                     |            |Total rating: 5                                     |            |\n",
      "|                           |                  |                              |                         |                                       |           |                   |                                                    |               |                                                    |                         |          |                                                    |]                                                   |                                                    |                                                    |                                                    |            |                                                    |            |                                                    |            |\n",
      "|                           |                  |                              |                         |                                       |           |                   |                                                    |               |                                                    |                         |          |                                                    |                                                    |                                                    |                                                    |                                                    |            |The question is useful in highlighting the pote...  |            |The question is useful in highlighting the pote...  |            |\n",
      "|0001874178-23-000009_10-K  |10-K Filing Text  |RIVIAN AUTOMOTIVE, INC. / DE  |Office of Manufacturing  |MOTOR VEHICLES & PASSENGER CAR BODIES  |US         |2022-12-31         |. We use our Investor Relations website as a me...  |55419          |[0.007679999805986881, -0.015060197561979294, -...  |70                       |3635808   | Factoid question: What is one way the company ...  |[                                                   |\" Factoid question: What is one way the company...  |\"Answer: The company uses its Investor Relation...  | Answer: The company discloses material informa...  |5           | Evaluation: This question is seeking informati...  |5           | Evaluation: This question is seeking informati...  |5           |\n",
      "|                           |                  |                              |                         |                                       |           |                   |                                                    |               |                                                    |                         |          |Answer: The company uses its Investor Relations...  |  \" Factoid question: What is one way the compa...  |                                                    |                                                    |Evaluation: The context directly answers the qu...  |            |                                                    |            |                                                    |            |\n",
      "|                           |                  |                              |                         |                                       |           |                   |                                                    |               |                                                    |                         |          |                                                    |  \"Answer: The company uses its Investor Relati...  |                                                    |                                                    |Total rating: 5                                     |            |Total rating: 5                                     |            |Total rating: 5                                     |            |\n",
      "|                           |                  |                              |                         |                                       |           |                   |                                                    |               |                                                    |                         |          |                                                    |]                                                   |                                                    |                                                    |                                                    |            |This question is extremely useful for analysts ...  |            |This question is extremely useful for analysts ...  |            |\n",
      "|0001874178-23-000009_10-K  |10-K Filing Text  |RIVIAN AUTOMOTIVE, INC. / DE  |Office of Manufacturing  |MOTOR VEHICLES & PASSENGER CAR BODIES  |US         |2022-12-31         |. The grant-date fair value of stock options gr...  |376076         |[-0.0316321924328804, -0.018513798713684082, -0...  |456                      |3636194   | Factoid question: How are the grant-date fair ...  |[                                                   |\" Factoid question: How are the grant-date fair...  |\"Answer: The grant-date fair value of RSUs gran...  | Answer: The grant-date fair value of RSUs gran...  |5           | Evaluation: This question is useful for analys...  |5           | Evaluation: This question is useful for analys...  |5           |\n",
      "|                           |                  |                              |                         |                                       |           |                   |                                                    |               |                                                    |                         |          |Answer: The grant-date fair value of RSUs grant...  |  \" Factoid question: How are the grant-date fa...  |                                                    |                                                    |                                                    |            |                                                    |            |                                                    |            |\n",
      "|                           |                  |                              |                         |                                       |           |                   |                                                    |               |                                                    |                         |          |                                                    |  \"Answer: The grant-date fair value of RSUs gr...  |                                                    |                                                    |Evaluation: The context clearly states that the...  |            |Total rating: 5                                     |            |Total rating: 5                                     |            |\n",
      "|                           |                  |                              |                         |                                       |           |                   |                                                    |               |                                                    |                         |          |                                                    |]                                                   |                                                    |                                                    |                                                    |            |                                                    |            |                                                    |            |\n",
      "|                           |                  |                              |                         |                                       |           |                   |                                                    |               |                                                    |                         |          |                                                    |                                                    |                                                    |                                                    |Total rating: 5                                     |            |Note: The rating of 5 is given because the ques...  |            |Note: The rating of 5 is given because the ques...  |            |\n",
      "|0001874178-23-000009_10-K  |10-K Filing Text  |RIVIAN AUTOMOTIVE, INC. / DE  |Office of Manufacturing  |MOTOR VEHICLES & PASSENGER CAR BODIES  |US         |2022-12-31         |. Any reduction, elimination, or discriminatory...  |127973         |[0.006324884947389364, -0.027103247120976448, -...  |157                      |3635895   | Factoid question: Why are certain hybrids and ...  |[                                                   |\" Factoid question: Why are certain hybrids and...  |\"Answer: This is to support transportation infr...  | Evaluation: The context explains that many sta...  |5           | Evaluation: This question is useful for analys...  |5           | Evaluation: This question is useful for analys...  |5           |\n",
      "|                           |                  |                              |                         |                                       |           |                   |                                                    |               |                                                    |                         |          |Answer: This is to support transportation infra...  |  \" Factoid question: Why are certain hybrids a...  |                                                    |                                                    |                                                    |            |                                                    |            |                                                    |            |\n",
      "|                           |                  |                              |                         |                                       |           |                   |                                                    |               |                                                    |                         |          |                                                    |  \"Answer: This is to support transportation in...  |                                                    |                                                    |Total rating: 5                                     |            |Total rating: 5                                     |            |Total rating: 5                                     |            |\n",
      "|                           |                  |                              |                         |                                       |           |                   |                                                    |               |                                                    |                         |          |                                                    |]                                                   |                                                    |                                                    |                                                    |            |                                                    |            |                                                    |            |\n",
      "|                           |                  |                              |                         |                                       |           |                   |                                                    |               |                                                    |                         |          |                                                    |                                                    |                                                    |                                                    |Confidence: 90%                                     |            |Confidence: 90%                                     |            |Confidence: 90%                                     |            |\n",
      "|0001874178-23-000009_10-K  |10-K Filing Text  |RIVIAN AUTOMOTIVE, INC. / DE  |Office of Manufacturing  |MOTOR VEHICLES & PASSENGER CAR BODIES  |US         |2022-12-31         |.1** Certification of Chief Executive Officer p...  |408362         |[-0.01204388216137886, -0.008523665368556976, -...  |494                      |3636232   | Factoid question: What type of document is the...  |[                                                   |\" Factoid question: What type of document is th...  |\"Answer: The Inline XBRL Instance Document is a...  | Evaluation: The context provides information a...  |3           | Evaluation: This question is seeking to unders...  |5           | Evaluation: This question is seeking to unders...  |5           |\n",
      "|                           |                  |                              |                         |                                       |           |                   |                                                    |               |                                                    |                         |          |Answer: The Inline XBRL Instance Document is an...  |  \" Factoid question: What type of document is ...  |                                                    |                                                    |                                                    |            |                                                    |            |                                                    |            |\n",
      "|                           |                  |                              |                         |                                       |           |                   |                                                    |               |                                                    |                         |          |                                                    |  \"Answer: The Inline XBRL Instance Document is...  |                                                    |                                                    |Total rating: 3                                     |            |Total rating: 5                                     |            |Total rating: 5                                     |            |\n",
      "|                           |                  |                              |                         |                                       |           |                   |                                                    |               |                                                    |                         |          |                                                    |]                                                   |                                                    |                                                    |                                                    |            |                                                    |            |                                                    |            |\n",
      "|                           |                  |                              |                         |                                       |           |                   |                                                    |               |                                                    |                         |          |                                                    |                                                    |                                                    |                                                    |Explanation: While the context does provide som...  |            |Reference(s):                                       |            |Reference(s):                                       |            |\n",
      "|                           |                  |                              |                         |                                       |           |                   |                                                    |               |                                                    |                         |          |                                                    |                                                    |                                                    |                                                    |                                                    |            |- Inline XBRL (eXtensible Business Reporting La...  |            |- Inline XBRL (eXtensible Business Reporting La...  |            |\n",
      "|0001874178-23-000009_10-K  |10-K Filing Text  |RIVIAN AUTOMOTIVE, INC. / DE  |Office of Manufacturing  |MOTOR VEHICLES & PASSENGER CAR BODIES  |US         |2022-12-31         |. We market our ability to provide our customer...  |110525         |[-0.010174417868256569, -0.024404698982834816, ...  |136                      |3635874   | Factoid question: What are some of Rivian's ch...  |[                                                   |\" Factoid question: What are some of Rivian's c...  |\"Answer: Rivian offers comprehensive charging s...  | Evaluation: The context clearly states that Ri...  |5           | Evaluation: This question is useful for analys...  |4           | Evaluation: This question is useful for analys...  |4           |\n",
      "|                           |                  |                              |                         |                                       |           |                   |                                                    |               |                                                    |                         |          |Answer: Rivian offers comprehensive charging so...  |  \" Factoid question: What are some of Rivian's...  |                                                    |                                                    |                                                    |            |                                                    |            |                                                    |            |\n",
      "|                           |                  |                              |                         |                                       |           |                   |                                                    |               |                                                    |                         |          |                                                    |  \"Answer: Rivian offers comprehensive charging...  |                                                    |                                                    |Total rating: 5                                     |            |Total rating: 4                                     |            |Total rating: 4                                     |            |\n",
      "|                           |                  |                              |                         |                                       |           |                   |                                                    |               |                                                    |                         |          |                                                    |]                                                   |                                                    |                                                    |                                                    |            |                                                    |            |                                                    |            |\n",
      "|                           |                  |                              |                         |                                       |           |                   |                                                    |               |                                                    |                         |          |                                                    |                                                    |                                                    |                                                    |                                                    |            |Note: While this question is useful, it is limi...  |            |Note: While this question is useful, it is limi...  |            |\n",
      "--------------------------------------------------------------------------------------------------------------------------------------------------------------------------------------------------------------------------------------------------------------------------------------------------------------------------------------------------------------------------------------------------------------------------------------------------------------------------------------------------------------------------------------------------------------------------------------------------------------------------------------------------------------------------------------------------------------------------------------------------------------------------\n",
      "\n"
     ]
    }
   ],
   "source": [
    "outdf = outdf.withColumn(\n",
    "    \"EVAL_CONTEXT\",\n",
    "    Complete(\n",
    "        model='mixtral-8x7b',prompt = f.concat(\n",
    "            f.lit(question_relevance_critique_prompt),\n",
    "            f.col(\"GENQ\"),\n",
    "            f.lit(\"\\n Answer:::\")\n",
    "            ))\n",
    ")\n",
    "\n",
    "# Extracting the score by taking the rightmost character of the last part of split_rating\n",
    "outdf = outdf.withColumn(\"score_EC\", regexp_extract(col(\"EVAL_CONTEXT\"), r\"Total rating:\\s*(\\d)\", 1))\n",
    "\n",
    "# Show results to verify\n",
    "outdf.show()"
   ]
  },
  {
   "cell_type": "code",
   "execution_count": 21,
   "metadata": {
    "metadata": {}
   },
   "outputs": [],
   "source": [
    "outdf.write.saveAsTable(\"RAJIV.PUBLIC.CONTENT_CHUNKS_10K_GQA_All\", mode=\"overwrite\")"
   ]
  },
  {
   "cell_type": "markdown",
   "metadata": {},
   "source": [
    "Let's keep only the questions that have scored well, by filtering on the score. This part may error on you if the scoring wasn't done correctly. I need to rework this scoring to be more robust. Sometimes the models don't output a number and this affects the following filtering."
   ]
  },
  {
   "cell_type": "code",
   "execution_count": 23,
   "metadata": {
    "metadata": {}
   },
   "outputs": [
    {
     "name": "stdout",
     "output_type": "stream",
     "text": [
      "28\n"
     ]
    }
   ],
   "source": [
    "# Assuming 'outdf' is your DataFrame\n",
    "filtered_df = outdf.filter(\n",
    "    col(\"SCORE_EC\").isin([\"4\", \"5\"]) &\n",
    "    col(\"SCORE_ER\").isin([\"4\", \"5\"]) &\n",
    "    col(\"SCORE_EG\").isin([\"4\", \"5\"])\n",
    ")\n",
    "\n",
    "# To count the number of rows in the filtered DataFrame\n",
    "row_count = filtered_df.count()\n",
    "print(row_count)"
   ]
  },
  {
   "cell_type": "code",
   "execution_count": 24,
   "metadata": {
    "metadata": {}
   },
   "outputs": [],
   "source": [
    "selected_df = filtered_df.select(\"CONTENT_CHUNK\", \"GENQ\", \"GENA\")\n",
    "# Now, to save this DataFrame as a new table in Snowflake\n",
    "selected_df.write.mode(\"overwrite\").saveAsTable(\"RAJIV.PUBLIC.CONTENT_CHUNKS_10K_GQA\")"
   ]
  },
  {
   "cell_type": "markdown",
   "metadata": {},
   "source": [
    "## 3. Get Predictions for Synthetic Questions"
   ]
  },
  {
   "cell_type": "code",
   "execution_count": 25,
   "metadata": {
    "metadata": {}
   },
   "outputs": [],
   "source": [
    "from snowflake.snowpark.functions import col\n",
    "import snowflake.snowpark.functions as f\n",
    "from snowflake.snowpark.functions import col, split, lit, regexp_extract\n",
    "from snowflake.cortex import Complete"
   ]
  },
  {
   "cell_type": "markdown",
   "metadata": {},
   "source": [
    "Let's get predictions for the snythetic questions we have already created."
   ]
  },
  {
   "cell_type": "code",
   "execution_count": 26,
   "metadata": {
    "metadata": {}
   },
   "outputs": [
    {
     "data": {
      "text/html": [
       "<div>\n",
       "<style scoped>\n",
       "    .dataframe tbody tr th:only-of-type {\n",
       "        vertical-align: middle;\n",
       "    }\n",
       "\n",
       "    .dataframe tbody tr th {\n",
       "        vertical-align: top;\n",
       "    }\n",
       "\n",
       "    .dataframe thead th {\n",
       "        text-align: right;\n",
       "    }\n",
       "</style>\n",
       "<table border=\"1\" class=\"dataframe\">\n",
       "  <thead>\n",
       "    <tr style=\"text-align: right;\">\n",
       "      <th></th>\n",
       "      <th>CONTENT_CHUNK</th>\n",
       "      <th>GENQ</th>\n",
       "      <th>GENA</th>\n",
       "    </tr>\n",
       "  </thead>\n",
       "  <tbody>\n",
       "    <tr>\n",
       "      <th>0</th>\n",
       "      <td>rivn-20221231 UNITED STATES SECURITIES AND EXC...</td>\n",
       "      <td>\" Factoid question: What is the trading symbol...</td>\n",
       "      <td>\"Answer: The trading symbol for Rivian Automot...</td>\n",
       "    </tr>\n",
       "    <tr>\n",
       "      <th>1</th>\n",
       "      <td>. We do not have any control over these analys...</td>\n",
       "      <td>\" Factoid question: Why might demand for Rivia...</td>\n",
       "      <td>\"Answer: Demand for Rivian Automotive's Class ...</td>\n",
       "    </tr>\n",
       "    <tr>\n",
       "      <th>2</th>\n",
       "      <td>. Our vehicles use lithium-ion battery cells, ...</td>\n",
       "      <td>\" Factoid question: What type of battery cells...</td>\n",
       "      <td>\"Answer: Our vehicles use lithium-ion battery ...</td>\n",
       "    </tr>\n",
       "    <tr>\n",
       "      <th>3</th>\n",
       "      <td>. Such damage or injury could also lead to adv...</td>\n",
       "      <td>\" Factoid question: What could be the potentia...</td>\n",
       "      <td>\"Answer: The business, prospects, financial co...</td>\n",
       "    </tr>\n",
       "    <tr>\n",
       "      <th>4</th>\n",
       "      <td>. We use our Investor Relations website as a m...</td>\n",
       "      <td>\" Factoid question: What is one way the compan...</td>\n",
       "      <td>\"Answer: The company uses its Investor Relatio...</td>\n",
       "    </tr>\n",
       "  </tbody>\n",
       "</table>\n",
       "</div>"
      ],
      "text/plain": [
       "                                       CONTENT_CHUNK  \\\n",
       "0  rivn-20221231 UNITED STATES SECURITIES AND EXC...   \n",
       "1  . We do not have any control over these analys...   \n",
       "2  . Our vehicles use lithium-ion battery cells, ...   \n",
       "3  . Such damage or injury could also lead to adv...   \n",
       "4  . We use our Investor Relations website as a m...   \n",
       "\n",
       "                                                GENQ  \\\n",
       "0  \" Factoid question: What is the trading symbol...   \n",
       "1  \" Factoid question: Why might demand for Rivia...   \n",
       "2  \" Factoid question: What type of battery cells...   \n",
       "3  \" Factoid question: What could be the potentia...   \n",
       "4  \" Factoid question: What is one way the compan...   \n",
       "\n",
       "                                                GENA  \n",
       "0  \"Answer: The trading symbol for Rivian Automot...  \n",
       "1  \"Answer: Demand for Rivian Automotive's Class ...  \n",
       "2  \"Answer: Our vehicles use lithium-ion battery ...  \n",
       "3  \"Answer: The business, prospects, financial co...  \n",
       "4  \"Answer: The company uses its Investor Relatio...  "
      ]
     },
     "execution_count": 26,
     "metadata": {},
     "output_type": "execute_result"
    }
   ],
   "source": [
    "gen_qa = session.table(\"RAJIV.PUBLIC.CONTENT_CHUNKS_10K_GQA\")\n",
    "df_gen_qa = gen_qa.toPandas()\n",
    "df_gen_qa.head()"
   ]
  },
  {
   "cell_type": "code",
   "execution_count": 27,
   "metadata": {
    "metadata": {}
   },
   "outputs": [],
   "source": [
    "def get_response(session, question):\n",
    "    # Prepare the SQL command\n",
    "    sql_command = f\"\"\"\n",
    "    WITH question AS (\n",
    "        SELECT '{question.replace(\"'\", \"''\")}' AS question,\n",
    "               snowflake.cortex.embed_text('e5-base-v2', question) AS embedding\n",
    "    ),\n",
    "    context AS (\n",
    "        SELECT content_chunk AS context,\n",
    "               sec_document_id,\n",
    "               start_index AS document_index\n",
    "        FROM RAJIV.PUBLIC.CONTENT_CHUNKS_10K AS content,\n",
    "             question\n",
    "        WHERE company_name = 'RIVIAN AUTOMOTIVE, INC. / DE'\n",
    "        ORDER BY vector_cosine_distance(content.embedding, question.embedding) DESC\n",
    "        LIMIT 1\n",
    "    ),\n",
    "    response AS (\n",
    "        SELECT snowflake.cortex.complete('mistral-7b',\n",
    "                                         'Use only the context provided to answer the question.' ||\n",
    "                                         '### ' || 'Context: ' || context.context ||\n",
    "                                         '### ' || 'Question: ' || question.question ||\n",
    "                                         'Answer: ') AS response\n",
    "        FROM context, question\n",
    "    )\n",
    "    SELECT response FROM response\n",
    "    \"\"\"\n",
    "\n",
    "    #print(\"Executing SQL command:\", sql_command)  # Log the SQL command\n",
    "\n",
    "    # Execute the SQL command\n",
    "    result = session.sql(sql_command).collect()\n",
    "\n",
    "    if result:\n",
    "        return result[0][0]\n",
    "    else:\n",
    "        return \"No suitable answer found.\"\n"
   ]
  },
  {
   "cell_type": "code",
   "execution_count": 28,
   "metadata": {
    "metadata": {}
   },
   "outputs": [
    {
     "name": "stdout",
     "output_type": "stream",
     "text": [
      "                                        CONTENT_CHUNK  \\\n",
      "0   rivn-20221231 UNITED STATES SECURITIES AND EXC...   \n",
      "1   . We do not have any control over these analys...   \n",
      "2   . Our vehicles use lithium-ion battery cells, ...   \n",
      "3   . Such damage or injury could also lead to adv...   \n",
      "4   . We use our Investor Relations website as a m...   \n",
      "5   . The grant-date fair value of stock options g...   \n",
      "6   . Any reduction, elimination, or discriminator...   \n",
      "7   . We market our ability to provide our custome...   \n",
      "8   . We primarily rely on Amazon Web Services in ...   \n",
      "9   . In addition, our independent registered publ...   \n",
      "10  . Errors in the design, implementation or exec...   \n",
      "11  . The Company is subject to taxation and files...   \n",
      "12  . Item 9B. Other Information None. Item 9C. Di...   \n",
      "13  . For example, we will not be able to utilize ...   \n",
      "14  . As our vehicles are produced, we will need t...   \n",
      "15  . These services will generate long-term brand...   \n",
      "16  . In 2021, changes to the SAFE Vehicles rule w...   \n",
      "17  .   Our executive officers, directors, and pri...   \n",
      "18  . Environmental, health and safety laws, and r...   \n",
      "19  . The Court denied the petition by Order dated...   \n",
      "20  . In designing and evaluating the disclosure c...   \n",
      "21  . We have incurred net losses since our incept...   \n",
      "22  . Threats to networks and information technolo...   \n",
      "23  . We are subject to anti-corruption, anti-brib...   \n",
      "24  . Stock options granted under the 2015 Stock P...   \n",
      "25  .0   % $ 1,250   11.3   % Total long-term debt...   \n",
      "26  . Therefore, the automated and manual process ...   \n",
      "27  . We have limited experience in the actual pro...   \n",
      "\n",
      "                                                 GENQ  \\\n",
      "0   \" Factoid question: What is the trading symbol...   \n",
      "1   \" Factoid question: Why might demand for Rivia...   \n",
      "2   \" Factoid question: What type of battery cells...   \n",
      "3   \" Factoid question: What could be the potentia...   \n",
      "4   \" Factoid question: What is one way the compan...   \n",
      "5   \" Factoid question: How are the grant-date fai...   \n",
      "6   \" Factoid question: Why are certain hybrids an...   \n",
      "7   \" Factoid question: What are some of Rivian's ...   \n",
      "8   \" Factoid question: Who provides cloud computi...   \n",
      "9   \" Factoid question: What was the opinion of th...   \n",
      "10  \" Factoid question: What are some potential ri...   \n",
      "11  \" Factoid question: When did the 2021 Incentiv...   \n",
      "12  \" Factoid question: When will the information ...   \n",
      "13  \" Factoid question: What could affect a manufa...   \n",
      "14  \" Factoid question: How can inadequate warrant...   \n",
      "15  \" Factoid question: What connection do Rivian'...   \n",
      "16  \" Factoid question: When were fuel economy sta...   \n",
      "17  \" Factoid question: Who holds voting power rep...   \n",
      "18  \" Factoid question: What are the potential con...   \n",
      "19  \" Factoid question: When did five individuals ...   \n",
      "20  \" Factoid question: Were the Company's disclos...   \n",
      "21  \" Factoid question: How much was the net loss ...   \n",
      "22  \" Factoid question: Who are some of the entiti...   \n",
      "23  \" Factoid question: What is the U.S. law that ...   \n",
      "24  \" Factoid question: When did stock options and...   \n",
      "25  \" Factoid question: When did the Company pay o...   \n",
      "26  \" Factoid question: Did KPMG LLP express an ad...   \n",
      "27  \" Factoid question: What are some challenges R...   \n",
      "\n",
      "                                                 GENA  \\\n",
      "0   \"Answer: The trading symbol for Rivian Automot...   \n",
      "1   \"Answer: Demand for Rivian Automotive's Class ...   \n",
      "2   \"Answer: Our vehicles use lithium-ion battery ...   \n",
      "3   \"Answer: The business, prospects, financial co...   \n",
      "4   \"Answer: The company uses its Investor Relatio...   \n",
      "5   \"Answer: The grant-date fair value of RSUs gra...   \n",
      "6   \"Answer: This is to support transportation inf...   \n",
      "7   \"Answer: Rivian offers comprehensive charging ...   \n",
      "8   \"Answer: Amazon Web Services primarily provide...   \n",
      "9   \"Answer: The independent registered public acc...   \n",
      "10  \"Answer: Errors in design, implementation, or ...   \n",
      "11  \"Answer: The 2021 Incentive Award Plan became ...   \n",
      "12  \"Answer: The information will be included in t...   \n",
      "13  \"Answer: Regulatory limitations could affect a...   \n",
      "14  \"Answer: Inadequate warranty reserves can mate...   \n",
      "15  \"Answer: Rivian's vehicles use the Combined Ch...   \n",
      "16  \"Answer: Fuel economy standards were last made...   \n",
      "17  \"Answer: Our executive officers, directors, an...   \n",
      "18  \"Answer: Failures to comply with environmental...   \n",
      "19                     \"Answer: On October 21, 2022.\"   \n",
      "20  \"Answer: No, the Company's disclosure controls...   \n",
      "21  \"Answer: The net loss for the company in 2022 ...   \n",
      "22  \"Answer: Traditional computer \\\"hackers,\\\" mal...   \n",
      "23  \"Answer: The U.S. Foreign Corrupt Practices Ac...   \n",
      "24  \"Answer: Stock options and RSUs granted under ...   \n",
      "25  \"Answer: The Company paid all outstanding amou...   \n",
      "26  \"Answer: Yes, according to the context, KPMG L...   \n",
      "27  \"Answer: Challenges include charging station p...   \n",
      "\n",
      "                                             RESPONSE  \n",
      "0                                                RIVN  \n",
      "1    Demand for Rivian Automotive's Class A common...  \n",
      "2    The vehicles use lithium-ion battery cells. I...  \n",
      "3    The potential consequences for the business i...  \n",
      "4    The company discloses material information to...  \n",
      "5    The grant-date fair value of Restricted Stock...  \n",
      "6    Certain hybrids and EVs are subject to additi...  \n",
      "7    Rivian offers comprehensive charging solution...  \n",
      "8    Amazon Web Services (AWS) provides cloud comp...  \n",
      "9    The independent registered public accounting ...  \n",
      "10   Advanced driver assistance technologies come ...  \n",
      "11   The context does not provide information on w...  \n",
      "12   The information about Rivian Automotive Inc.'...  \n",
      "13   A manufacturer's ability to sell vehicles dir...  \n",
      "14   Inadequate warranty reserves can have a mater...  \n",
      "15   Rivian's vehicles can be charged using variou...  \n",
      "16   The fuel economy standards were made more str...  \n",
      "17   The executive officers, directors, and stockh...  \n",
      "18   Non-compliance with environmental, health and...  \n",
      "19   Five individuals filed a Petition for Writ of...  \n",
      "20   No, the Company's disclosure controls and pro...  \n",
      "21   The net loss for the company in 2022 was $6.8...  \n",
      "22   The entities that pose threats to information...  \n",
      "23   The U.S. law that prohibits offering, promisi...  \n",
      "24   Stock options and RSUs granted under the 2015...  \n",
      "25   The Company paid all outstanding amounts rela...  \n",
      "26   Yes, according to the context provided, KPMG ...  \n",
      "27   Rivian may face several challenges in providi...  \n"
     ]
    }
   ],
   "source": [
    "import pandas as pd\n",
    "\n",
    "# Assume 'session' is your Snowflake session object and 'df_gen_qa' is your pandas DataFrame\n",
    "df_gen_qa['RESPONSE'] = df_gen_qa['GENQ'].apply(lambda question: get_response(session, question))\n",
    "\n",
    "# Now df_gen_qa has an additional column 'Response' with the answers\n",
    "print(df_gen_qa)\n"
   ]
  },
  {
   "cell_type": "code",
   "execution_count": 29,
   "metadata": {
    "metadata": {}
   },
   "outputs": [
    {
     "data": {
      "text/html": [
       "<div>\n",
       "<style scoped>\n",
       "    .dataframe tbody tr th:only-of-type {\n",
       "        vertical-align: middle;\n",
       "    }\n",
       "\n",
       "    .dataframe tbody tr th {\n",
       "        vertical-align: top;\n",
       "    }\n",
       "\n",
       "    .dataframe thead th {\n",
       "        text-align: right;\n",
       "    }\n",
       "</style>\n",
       "<table border=\"1\" class=\"dataframe\">\n",
       "  <thead>\n",
       "    <tr style=\"text-align: right;\">\n",
       "      <th></th>\n",
       "      <th>CONTENT_CHUNK</th>\n",
       "      <th>GENQ</th>\n",
       "      <th>GENA</th>\n",
       "      <th>RESPONSE</th>\n",
       "    </tr>\n",
       "  </thead>\n",
       "  <tbody>\n",
       "    <tr>\n",
       "      <th>0</th>\n",
       "      <td>rivn-20221231 UNITED STATES SECURITIES AND EXC...</td>\n",
       "      <td>\" Factoid question: What is the trading symbol...</td>\n",
       "      <td>\"Answer: The trading symbol for Rivian Automot...</td>\n",
       "      <td>RIVN</td>\n",
       "    </tr>\n",
       "    <tr>\n",
       "      <th>1</th>\n",
       "      <td>. We do not have any control over these analys...</td>\n",
       "      <td>\" Factoid question: Why might demand for Rivia...</td>\n",
       "      <td>\"Answer: Demand for Rivian Automotive's Class ...</td>\n",
       "      <td>Demand for Rivian Automotive's Class A common...</td>\n",
       "    </tr>\n",
       "    <tr>\n",
       "      <th>2</th>\n",
       "      <td>. Our vehicles use lithium-ion battery cells, ...</td>\n",
       "      <td>\" Factoid question: What type of battery cells...</td>\n",
       "      <td>\"Answer: Our vehicles use lithium-ion battery ...</td>\n",
       "      <td>The vehicles use lithium-ion battery cells. I...</td>\n",
       "    </tr>\n",
       "    <tr>\n",
       "      <th>3</th>\n",
       "      <td>. Such damage or injury could also lead to adv...</td>\n",
       "      <td>\" Factoid question: What could be the potentia...</td>\n",
       "      <td>\"Answer: The business, prospects, financial co...</td>\n",
       "      <td>The potential consequences for the business i...</td>\n",
       "    </tr>\n",
       "    <tr>\n",
       "      <th>4</th>\n",
       "      <td>. We use our Investor Relations website as a m...</td>\n",
       "      <td>\" Factoid question: What is one way the compan...</td>\n",
       "      <td>\"Answer: The company uses its Investor Relatio...</td>\n",
       "      <td>The company discloses material information to...</td>\n",
       "    </tr>\n",
       "  </tbody>\n",
       "</table>\n",
       "</div>"
      ],
      "text/plain": [
       "                                       CONTENT_CHUNK  \\\n",
       "0  rivn-20221231 UNITED STATES SECURITIES AND EXC...   \n",
       "1  . We do not have any control over these analys...   \n",
       "2  . Our vehicles use lithium-ion battery cells, ...   \n",
       "3  . Such damage or injury could also lead to adv...   \n",
       "4  . We use our Investor Relations website as a m...   \n",
       "\n",
       "                                                GENQ  \\\n",
       "0  \" Factoid question: What is the trading symbol...   \n",
       "1  \" Factoid question: Why might demand for Rivia...   \n",
       "2  \" Factoid question: What type of battery cells...   \n",
       "3  \" Factoid question: What could be the potentia...   \n",
       "4  \" Factoid question: What is one way the compan...   \n",
       "\n",
       "                                                GENA  \\\n",
       "0  \"Answer: The trading symbol for Rivian Automot...   \n",
       "1  \"Answer: Demand for Rivian Automotive's Class ...   \n",
       "2  \"Answer: Our vehicles use lithium-ion battery ...   \n",
       "3  \"Answer: The business, prospects, financial co...   \n",
       "4  \"Answer: The company uses its Investor Relatio...   \n",
       "\n",
       "                                            RESPONSE  \n",
       "0                                               RIVN  \n",
       "1   Demand for Rivian Automotive's Class A common...  \n",
       "2   The vehicles use lithium-ion battery cells. I...  \n",
       "3   The potential consequences for the business i...  \n",
       "4   The company discloses material information to...  "
      ]
     },
     "execution_count": 29,
     "metadata": {},
     "output_type": "execute_result"
    }
   ],
   "source": [
    "df_gen_qa.head()"
   ]
  },
  {
   "cell_type": "code",
   "execution_count": 30,
   "metadata": {
    "metadata": {}
   },
   "outputs": [],
   "source": [
    "snowpark_df = session.createDataFrame(df_gen_qa)\n",
    "snowpark_df.write.saveAsTable(\"RAJIV.PUBLIC.CONTENT_CHUNKS_10K_GQA\", mode=\"overwrite\")"
   ]
  },
  {
   "cell_type": "markdown",
   "metadata": {},
   "source": [
    "## 4. Evaluate Performance on Synthetic Questions\n",
    "\n",
    "Let's now start to analyze the results. In this notebooks, I use one criteria, but three are many more criteria you can use to evaluate the performance of the RAG model. For example, [Ragas](https://docs.ragas.io/en/stable/getstarted/evaluation.html#get-started-evaluation) does provides several metrics to evaluate various aspects of your RAG systems:\n",
    "\n",
    "Retriever: Offers context_precision and context_recall that measure the performance of your retrieval system.\n",
    "\n",
    "Generator (LLM): Provides faithfulness that measures hallucinations and answer_relevancy that measures how relevant the answers are to the question."
   ]
  },
  {
   "cell_type": "code",
   "execution_count": 31,
   "metadata": {
    "metadata": {}
   },
   "outputs": [
    {
     "name": "stdout",
     "output_type": "stream",
     "text": [
      "----------------------------------------------------------------------------------------------------------------------------------------------------------------\n",
      "|\"GENQ\"                                              |\"GENA\"                                              |\"RESPONSE\"                                          |\n",
      "----------------------------------------------------------------------------------------------------------------------------------------------------------------\n",
      "|\" Factoid question: What is the trading symbol ...  |\"Answer: The trading symbol for Rivian Automoti...  | RIVN                                               |\n",
      "|\" Factoid question: Why might demand for Rivian...  |\"Answer: Demand for Rivian Automotive's Class A...  | Demand for Rivian Automotive's Class A common ...  |\n",
      "|\" Factoid question: What type of battery cells ...  |\"Answer: Our vehicles use lithium-ion battery c...  | The vehicles use lithium-ion battery cells. If...  |\n",
      "|\" Factoid question: What could be the potential...  |\"Answer: The business, prospects, financial con...  | The potential consequences for the business if...  |\n",
      "|\" Factoid question: What is one way the company...  |\"Answer: The company uses its Investor Relation...  | The company discloses material information to ...  |\n",
      "|\" Factoid question: How are the grant-date fair...  |\"Answer: The grant-date fair value of RSUs gran...  | The grant-date fair value of Restricted Stock ...  |\n",
      "|\" Factoid question: Why are certain hybrids and...  |\"Answer: This is to support transportation infr...  | Certain hybrids and EVs are subject to additio...  |\n",
      "|\" Factoid question: What are some of Rivian's c...  |\"Answer: Rivian offers comprehensive charging s...  | Rivian offers comprehensive charging solutions...  |\n",
      "|\" Factoid question: Who provides cloud computin...  |\"Answer: Amazon Web Services primarily provides...  | Amazon Web Services (AWS) provides cloud compu...  |\n",
      "|\" Factoid question: What was the opinion of the...  |\"Answer: The independent registered public acco...  | The independent registered public accounting f...  |\n",
      "----------------------------------------------------------------------------------------------------------------------------------------------------------------\n",
      "\n"
     ]
    }
   ],
   "source": [
    "snowpark_df = session.table(\"RAJIV.PUBLIC.CONTENT_CHUNKS_10K_GQA\").select(\"GENQ\", \"GENA\", \"RESPONSE\")\n",
    "snowpark_df.show()"
   ]
  },
  {
   "cell_type": "code",
   "execution_count": 32,
   "metadata": {
    "metadata": {}
   },
   "outputs": [],
   "source": [
    "EVALUATION_PROMPT = \"\"\"###Task Description:\n",
    "An instruction (might include an Input inside it), a response to evaluate, a reference answer that gets a score of 5, and a score rubric representing a evaluation criteria are given.\n",
    "1. Write a detailed feedback that assess the quality of the response strictly based on the given score rubric, not evaluating in general.\n",
    "2. After writing a feedback, write a score that is an integer between 1 and 5. You should refer to the score rubric.\n",
    "3. The output format should look as follows: \\\"Feedback: {{write a feedback for criteria}} [RESULT] {{an integer number between 1 and 5}}\\\"\n",
    "4. Please do not generate any other opening, closing, and explanations. Be sure to include [RESULT] in your output.\n",
    "\n",
    "###The instruction to evaluate:\n",
    "{instruction}\n",
    "\n",
    "###Response to evaluate:\n",
    "{response}\n",
    "\n",
    "###Reference Answer (Score 5):\n",
    "{reference_answer}\n",
    "\n",
    "###Score Rubrics:\n",
    "[Is the response correct, accurate, and factual based on the reference answer?]\n",
    "Score 1: The response is completely incorrect, inaccurate, and/or not factual.\n",
    "Score 2: The response is mostly incorrect, inaccurate, and/or not factual.\n",
    "Score 3: The response is somewhat correct, accurate, and/or factual.\n",
    "Score 4: The response is mostly correct, accurate, and factual.\n",
    "Score 5: The response is completely correct, accurate, and factual.\n",
    "\n",
    "Answer:::\n",
    "Feedback: (your feedback for the rating, as a text)\n",
    "Total score: (your score, as an integer between 1 and 5)\n",
    "\"\"\""
   ]
  },
  {
   "cell_type": "code",
   "execution_count": 33,
   "metadata": {
    "metadata": {}
   },
   "outputs": [],
   "source": [
    "part0 = \"\"\"###Task Description:\n",
    "An instruction (might include an Input inside it), a response to evaluate, a reference answer that gets a score of 5, and a score rubric representing a evaluation criteria are given.\n",
    "1. Write a detailed feedback that assess the quality of the response strictly based on the given score rubric, not evaluating in general.\n",
    "2. After writing a feedback, write a score that is an integer between 1 and 5. You should refer to the score rubric.\n",
    "3. The output format should look as follows: \\\"Feedback: {{write a feedback for criteria}} [RESULT] {{an integer number between 1 and 5}}\\\"\n",
    "4. Please do not generate any other opening, closing, and explanations. Be sure to include [RESULT] in your output.\n",
    "\n",
    "###The instruction to evaluate: \"\"\"\n",
    "part1 = \"\"\"###Response to evaluate: \"\"\"\n",
    "\n",
    "part2 = \"\"\"###Reference Answer (Score 5): \"\"\""
   ]
  },
  {
   "cell_type": "code",
   "execution_count": 34,
   "metadata": {
    "metadata": {}
   },
   "outputs": [],
   "source": [
    "part3 = \"\"\"###Score Rubrics:\n",
    "[Is the response correct, accurate, and factual based on the reference answer?]\n",
    "Score 1: The response is completely incorrect, inaccurate, and/or not factual.\n",
    "Score 2: The response is mostly incorrect, inaccurate, and/or not factual.\n",
    "Score 3: The response is somewhat correct, accurate, and/or factual.\n",
    "Score 4: The response is mostly correct, accurate, and factual.\n",
    "Score 5: The response is completely correct, accurate, and factual.\n",
    "\n",
    "Answer:::\n",
    "Feedback: (your feedback for the rating, as a text)\n",
    "Total score: (an integer between 1 and 5)\"\"\""
   ]
  },
  {
   "cell_type": "code",
   "execution_count": 35,
   "metadata": {
    "metadata": {}
   },
   "outputs": [
    {
     "name": "stdout",
     "output_type": "stream",
     "text": [
      "------------------------------------------------------------------------------------------------------------------------------------------------------------------------------------------------------------------------------------\n",
      "|\"GENQ\"                                              |\"GENA\"                                              |\"RESPONSE\"                                          |\"EVAL_CRITIQUE\"                                     |\"SCORE_EVAL\"  |\n",
      "------------------------------------------------------------------------------------------------------------------------------------------------------------------------------------------------------------------------------------\n",
      "|\" Factoid question: What is the trading symbol ...  |\"Answer: The trading symbol for Rivian Automoti...  | RIVN                                               |                                                    |5             |\n",
      "|                                                    |                                                    |                                                    |                                                    |              |\n",
      "|                                                    |                                                    |                                                    |Feedback: The response is completely correct, a...  |              |\n",
      "|\" Factoid question: Why might demand for Rivian...  |\"Answer: Demand for Rivian Automotive's Class A...  | Demand for Rivian Automotive's Class A common ...  |                                                    |4             |\n",
      "|                                                    |                                                    |                                                    |                                                    |              |\n",
      "|                                                    |                                                    |                                                    |Feedback: The response is mostly correct, accur...  |              |\n",
      "|                                                    |                                                    |                                                    |[RESULT] Total score: 4                             |              |\n",
      "|\" Factoid question: What type of battery cells ...  |\"Answer: Our vehicles use lithium-ion battery c...  | The vehicles use lithium-ion battery cells. If...  |                                                    |5             |\n",
      "|                                                    |                                                    |                                                    |                                                    |              |\n",
      "|                                                    |                                                    |                                                    |Feedback: The response is completely correct, a...  |              |\n",
      "|\" Factoid question: What could be the potential...  |\"Answer: The business, prospects, financial con...  | The potential consequences for the business if...  |                                                    |              |\n",
      "|                                                    |                                                    |                                                    |                                                    |              |\n",
      "|                                                    |                                                    |                                                    |Feedback: The response is mostly correct, accur...  |              |\n",
      "|                                                    |                                                    |                                                    |[RESULT] 4                                          |              |\n",
      "|\" Factoid question: What is one way the company...  |\"Answer: The company uses its Investor Relation...  | The company discloses material information to ...  |                                                    |5             |\n",
      "|                                                    |                                                    |                                                    |                                                    |              |\n",
      "|                                                    |                                                    |                                                    |Feedback: The response is completely correct, a...  |              |\n",
      "|\" Factoid question: How are the grant-date fair...  |\"Answer: The grant-date fair value of RSUs gran...  | The grant-date fair value of Restricted Stock ...  |                                                    |5             |\n",
      "|                                                    |                                                    |                                                    |                                                    |              |\n",
      "|                                                    |                                                    |                                                    |Feedback: The response is completely correct, a...  |              |\n",
      "|\" Factoid question: Why are certain hybrids and...  |\"Answer: This is to support transportation infr...  | Certain hybrids and EVs are subject to additio...  |                                                    |5             |\n",
      "|                                                    |                                                    |                                                    |                                                    |              |\n",
      "|                                                    |                                                    |                                                    |Feedback: The response is completely correct, a...  |              |\n",
      "|\" Factoid question: What are some of Rivian's c...  |\"Answer: Rivian offers comprehensive charging s...  | Rivian offers comprehensive charging solutions...  |                                                    |5             |\n",
      "|                                                    |                                                    |                                                    |                                                    |              |\n",
      "|                                                    |                                                    |                                                    |Feedback: The response is completely correct, a...  |              |\n",
      "|\" Factoid question: Who provides cloud computin...  |\"Answer: Amazon Web Services primarily provides...  | Amazon Web Services (AWS) provides cloud compu...  |                                                    |5             |\n",
      "|                                                    |                                                    |                                                    |                                                    |              |\n",
      "|                                                    |                                                    |                                                    |Feedback: The response is completely correct, a...  |              |\n",
      "|\" Factoid question: What was the opinion of the...  |\"Answer: The independent registered public acco...  | The independent registered public accounting f...  |                                                    |5             |\n",
      "|                                                    |                                                    |                                                    |                                                    |              |\n",
      "|                                                    |                                                    |                                                    |Feedback: The response is completely correct, a...  |              |\n",
      "------------------------------------------------------------------------------------------------------------------------------------------------------------------------------------------------------------------------------------\n",
      "\n"
     ]
    }
   ],
   "source": [
    "from snowflake.snowpark.functions import col, regexp_extract, coalesce, lit\n",
    "\n",
    "snowpark_df = snowpark_df.withColumn(\n",
    "    \"EVAL_CRITIQUE\",\n",
    "    Complete(\n",
    "        model='mistral-large',prompt = f.concat(\n",
    "            f.lit(part0),\n",
    "            f.col(\"GENQ\"),\n",
    "            f.lit(part1),\n",
    "            f.col(\"RESPONSE\"),\n",
    "            f.lit(part2),\n",
    "            f.col(\"GENA\"),\n",
    "            f.lit(part3)\n",
    "            ))\n",
    ")\n",
    "\n",
    "# Extracting the score by taking the rightmost character of the last part of split_rating\n",
    "#snowpark_df = snowpark_df.withColumn(\"SCORE_EVAL\", regexp_extract(col(\"EVAL_CRITIQUE\"), r\"Total score:\\s*(\\d)\", 1).cast(\"int\"))\n",
    "snowpark_df = snowpark_df.withColumn(\"SCORE_EVAL\",\n",
    "    coalesce(regexp_extract(col(\"EVAL_CRITIQUE\"), r\"Total score:\\s*(\\d)\", 1), lit(\"0\")))\n",
    "\n",
    "snowpark_df.write.mode(\"overwrite\").save_as_table(\"RAJIV.PUBLIC.CONTENT_CHUNKS_10K_GQA\")\n",
    "# Show results to verify\n",
    "snowpark_df.show()"
   ]
  },
  {
   "cell_type": "markdown",
   "metadata": {},
   "source": [
    "#### Pulling into pandas for the final calculations"
   ]
  },
  {
   "cell_type": "code",
   "execution_count": 36,
   "metadata": {
    "metadata": {}
   },
   "outputs": [],
   "source": [
    "output = snowpark_df.toPandas()"
   ]
  },
  {
   "cell_type": "code",
   "execution_count": 37,
   "metadata": {
    "metadata": {}
   },
   "outputs": [],
   "source": [
    "output['SCORE_EVAL'] = pd.to_numeric(output['SCORE_EVAL'], errors='coerce')"
   ]
  },
  {
   "cell_type": "code",
   "execution_count": 38,
   "metadata": {
    "metadata": {}
   },
   "outputs": [
    {
     "name": "stdout",
     "output_type": "stream",
     "text": [
      "count    17.000000\n",
      "mean      4.823529\n",
      "std       0.727607\n",
      "min       2.000000\n",
      "25%       5.000000\n",
      "50%       5.000000\n",
      "75%       5.000000\n",
      "max       5.000000\n",
      "Name: SCORE_EVAL, dtype: float64\n"
     ]
    }
   ],
   "source": [
    "summary_stats = output['SCORE_EVAL'].describe()\n",
    "print(summary_stats)"
   ]
  },
  {
   "cell_type": "code",
   "execution_count": 39,
   "metadata": {
    "metadata": {}
   },
   "outputs": [
    {
     "data": {
      "image/png": "[encoded data removed]",
      "text/plain": [
       "<Figure size 640x480 with 1 Axes>"
      ]
     },
     "metadata": {},
     "output_type": "display_data"
    }
   ],
   "source": [
    "import matplotlib.pyplot as plt\n",
    "\n",
    "# Plotting histogram\n",
    "plt.hist(output['SCORE_EVAL'], bins=range(1, 7), edgecolor='black', align='left')  # bins from 1 to 5\n",
    "plt.xlabel('Score')\n",
    "plt.ylabel('Frequency')\n",
    "plt.title('Histogram of SCORE_EVAL')\n",
    "plt.xticks(range(1, 6))  # Setting x-ticks to show each score\n",
    "plt.show()"
   ]
  },
  {
   "cell_type": "markdown",
   "metadata": {},
   "source": [
    "We can calculate an accuracy here to use as a baseline. Next we can start improving parts of the model and verify the accuracy goes up. Start digging into why the model was inaccurate in some cases!"
   ]
  },
  {
   "cell_type": "code",
   "execution_count": 40,
   "metadata": {
    "metadata": {}
   },
   "outputs": [
    {
     "name": "stdout",
     "output_type": "stream",
     "text": [
      "0.9558823529411765\n"
     ]
    }
   ],
   "source": [
    "scores = (output[\"SCORE_EVAL\"] - 1) / 4\n",
    "print (scores.mean())"
   ]
  }
 ],
 "metadata": {
  "kernelspec": {
   "display_name": "hf_public",
   "language": "python",
   "name": "python3"
  },
  "language_info": {
   "codemirror_mode": {
    "name": "ipython",
    "version": 3
   },
   "file_extension": ".py",
   "mimetype": "text/x-python",
   "name": "python",
   "nbconvert_exporter": "python",
   "pygments_lexer": "ipython3",
   "version": "3.8.-1"
  }
 },
 "nbformat": 4,
 "nbformat_minor": 2
}
