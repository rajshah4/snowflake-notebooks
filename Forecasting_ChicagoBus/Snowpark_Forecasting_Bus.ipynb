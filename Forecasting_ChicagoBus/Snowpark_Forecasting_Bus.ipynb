{
 "cells": [
  {
   "attachments": {},
   "cell_type": "markdown",
   "id": "5f02f3fc",
   "metadata": {},
   "source": [
    "# Snowflake ML Intro Notebook - ML Forecasting\n",
    "This notebook introduces several key features of Snowflake ML in the process of training a machine learning model for forecasting Chicago bus ridership.\n",
    "\n",
    "\n",
    "* Establish secure connection to Snowflake\n",
    "* Load features and target from Snowflake table into Snowpark DataFrame\n",
    "* Prepare features for model training\n",
    "* Train ML model using Snowpark ML distributed processing\n",
    "* Save the model to the Snowflake Model Registry\n",
    "* Run model predictions inside Snowflake\n",
    "\n",
    "This notebook is intended to highlight Snowflake functionality and should not be taken as a best practice for time series forecasting. \n",
    "\n",
    "[Get Notebook](https://github.com/rajshah4/snowflake-notebooks/blob/main/Forecasting_ChicagoBus/Snowpark_Forecasting_Bus.ipynb)  \n",
    "\n",
    "[Go to folder with dataset](https://github.com/rajshah4/snowflake-notebooks/blob/main/Forecasting_ChicagoBus/)  \n",
    "\n",
    "[See more snowflake notebooks from raj](https://github.com/rajshah4/snowflake-notebooks/)"
   ]
  },
  {
   "attachments": {},
   "cell_type": "markdown",
   "id": "6e2e1c4a",
   "metadata": {},
   "source": [
    "## 1. Setup Environment"
   ]
  },
  {
   "cell_type": "code",
   "execution_count": 26,
   "id": "persistent-reasoning",
   "metadata": {
    "papermill": {
     "duration": 0.872363,
     "end_time": "2021-05-15T09:33:41.413139",
     "exception": false,
     "start_time": "2021-05-15T09:33:40.540776",
     "status": "completed"
    },
    "tags": []
   },
   "outputs": [
    {
     "name": "stdout",
     "output_type": "stream",
     "text": [
      "3.11.7 (main, Dec 15 2023, 12:09:56) [Clang 14.0.6 ]\n"
     ]
    }
   ],
   "source": [
    "# Snowflake connector\n",
    "from snowflake import connector\n",
    "#from snowflake.ml.utils import connection_params\n",
    "\n",
    "# Snowpark for Python\n",
    "from snowflake.snowpark.session import Session\n",
    "from snowflake.snowpark.types import Variant\n",
    "from snowflake.snowpark.version import VERSION\n",
    "from snowflake.snowpark import functions as F\n",
    "from snowflake.snowpark.types import *\n",
    "\n",
    "# Snowpark ML\n",
    "from snowflake.ml.modeling.compose import ColumnTransformer\n",
    "from snowflake.ml.modeling.pipeline import Pipeline\n",
    "from snowflake.ml.modeling.preprocessing import StandardScaler, OrdinalEncoder\n",
    "from snowflake.ml.modeling.impute import SimpleImputer\n",
    "from snowflake.ml.modeling.model_selection import GridSearchCV\n",
    "from snowflake.ml.modeling.xgboost import XGBRegressor\n",
    "from snowflake.ml import version\n",
    "mlversion = version.VERSION\n",
    "\n",
    "\n",
    "# Misc\n",
    "import pandas as pd\n",
    "import json\n",
    "import logging \n",
    "logger = logging.getLogger(\"snowflake.snowpark.session\")\n",
    "logger.setLevel(logging.ERROR)\n",
    "\n",
    "import sys\n",
    "print(sys.version) ##Last run used Python 3.11\n"
   ]
  },
  {
   "attachments": {},
   "cell_type": "markdown",
   "id": "b855e80e",
   "metadata": {},
   "source": [
    "## Establish Secure Connection to Snowflake\n",
    "\n",
    "Using the Snowpark Python API, it’s quick and easy to establish a secure connection between Snowflake and Notebook. I prefer using a `toml` configuration file [as documented here](https://docs.snowflake.com/en/developer-guide/snowflake-python-api/snowflake-python-connecting-snowflake).\n",
    " *Note: Other connection options include Username/Password, MFA, OAuth, Okta, SSO*\n",
    "\n",
    "I recently moved to using [private / public key pair](https://docs.snowflake.com/en/user-guide/key-pair-auth) for authentication. This is more secure than using a password. I also don't have to log into MFA everytime I run the notebook.\n",
    "\n",
    "The creds.json should look like this:\n",
    "```\n",
    "{\n",
    "    \"account\": \"awb99999\",\n",
    "    \"user\": \"your_user_name\",\n",
    "    \"password\": \"your_password\",\n",
    "    \"warehouse\": \"your_warehouse\"\n",
    "  }"
   ]
  },
  {
   "cell_type": "code",
   "execution_count": 27,
   "id": "953f6906",
   "metadata": {},
   "outputs": [],
   "source": [
    "from snowflake.snowpark import Session\n",
    "from cryptography.hazmat.primitives import serialization\n",
    "from cryptography.hazmat.backends import default_backend\n",
    "\n",
    "with open('../../creds.json') as f:\n",
    "    data = json.load(f)\n",
    "    USERNAME = data['user']\n",
    "    SF_ACCOUNT = data['account']\n",
    "    SF_WH = data['warehouse']\n",
    "    passphrase = data['passphrase']\n",
    "\n",
    "# Read the private key from the .p8 file\n",
    "with open('../../rsa_key.p8', 'rb') as key_file:\n",
    "    private_key = key_file.read()\n",
    "\n",
    "# If the private key is encrypted, load it with a passphrase\n",
    "# Replace 'your_key_passphrase' with your actual passphrase if needed\n",
    "private_key_obj = serialization.load_pem_private_key(\n",
    "    private_key,\n",
    "    password=passphrase.encode() if passphrase else None,\n",
    "    backend=default_backend()\n",
    ")\n",
    "\n",
    "# Define connection parameters including the private key\n",
    "CONNECTION_PARAMETERS = {\n",
    "    'user': USERNAME,\n",
    "    'account': SF_ACCOUNT,\n",
    "    'private_key': private_key_obj,\n",
    "    'warehouse': SF_WH,\n",
    "}\n",
    "\n",
    "# Create a session with the specified connection parameters\n",
    "session = Session.builder.configs(CONNECTION_PARAMETERS).create()"
   ]
  },
  {
   "cell_type": "markdown",
   "id": "c333eb49",
   "metadata": {},
   "source": [
    "Verify everything is connected. I like to do this to remind people to make sure they are using the latest versions."
   ]
  },
  {
   "cell_type": "code",
   "execution_count": 28,
   "id": "4fb1f7af",
   "metadata": {},
   "outputs": [
    {
     "name": "stdout",
     "output_type": "stream",
     "text": [
      "User                        : RSHAH\n",
      "Role                        : \"RAJIV\"\n",
      "Database                    : \"RAJIV\"\n",
      "Schema                      : \"PUBLIC\"\n",
      "Warehouse                   : \"RAJIV\"\n",
      "Snowflake version           : 8.28.0\n",
      "Snowpark for Python version : 1.15.0\n",
      "Snowflake ML version        : 1.5.3\n"
     ]
    }
   ],
   "source": [
    "snowflake_environment = session.sql('select current_user(), current_version()').collect()\n",
    "snowpark_version = VERSION\n",
    "\n",
    "# Current Environment Details\n",
    "print('User                        : {}'.format(snowflake_environment[0][0]))\n",
    "print('Role                        : {}'.format(session.get_current_role()))\n",
    "print('Database                    : {}'.format(session.get_current_database()))\n",
    "print('Schema                      : {}'.format(session.get_current_schema()))\n",
    "print('Warehouse                   : {}'.format(session.get_current_warehouse()))\n",
    "print('Snowflake version           : {}'.format(snowflake_environment[0][1]))\n",
    "print('Snowpark for Python version : {}.{}.{}'.format(snowpark_version[0],snowpark_version[1],snowpark_version[2]))\n",
    "print('Snowflake ML version        : {}.{}.{}'.format(mlversion[0],mlversion[2],mlversion[4]))\n"
   ]
  },
  {
   "cell_type": "markdown",
   "id": "11c437e4",
   "metadata": {},
   "source": [
    "Throughout this notebook, I will change warehouse sizes. For this notebook warehouse size really doesn't matter much, but I want people to understand how easily and quickly you can change the warehouse size. This is one of my favorite features of Snowflake, just how its always ready for me."
   ]
  },
  {
   "cell_type": "code",
   "execution_count": 29,
   "id": "e11789e5",
   "metadata": {},
   "outputs": [
    {
     "data": {
      "text/plain": [
       "[Row(status='Statement executed successfully.')]"
      ]
     },
     "execution_count": 29,
     "metadata": {},
     "output_type": "execute_result"
    }
   ],
   "source": [
    "session.sql(\"create or replace warehouse snowpark_opt_wh with warehouse_size = 'SMALL'\").collect()\n",
    "session.sql(\"USE SCHEMA PUBLIC\").collect()"
   ]
  },
  {
   "attachments": {},
   "cell_type": "markdown",
   "id": "2817d70c",
   "metadata": {},
   "source": [
    "## 2. Load Data in Snowflake "
   ]
  },
  {
   "cell_type": "markdown",
   "id": "df957705",
   "metadata": {},
   "source": [
    "Let's get the data (900k rows) and also make the column names all upper cases. It's easier to work with columns names that aren't case sensitive."
   ]
  },
  {
   "cell_type": "code",
   "execution_count": 30,
   "id": "8dfb28da",
   "metadata": {},
   "outputs": [
    {
     "name": "stdout",
     "output_type": "stream",
     "text": [
      "(893603, 4)\n",
      "ROUTE      object\n",
      "DATE       object\n",
      "DAYTYPE    object\n",
      "RIDES       int64\n",
      "dtype: object\n"
     ]
    },
    {
     "data": {
      "text/html": [
       "<div>\n",
       "<style scoped>\n",
       "    .dataframe tbody tr th:only-of-type {\n",
       "        vertical-align: middle;\n",
       "    }\n",
       "\n",
       "    .dataframe tbody tr th {\n",
       "        vertical-align: top;\n",
       "    }\n",
       "\n",
       "    .dataframe thead th {\n",
       "        text-align: right;\n",
       "    }\n",
       "</style>\n",
       "<table border=\"1\" class=\"dataframe\">\n",
       "  <thead>\n",
       "    <tr style=\"text-align: right;\">\n",
       "      <th></th>\n",
       "      <th>ROUTE</th>\n",
       "      <th>DATE</th>\n",
       "      <th>DAYTYPE</th>\n",
       "      <th>RIDES</th>\n",
       "    </tr>\n",
       "  </thead>\n",
       "  <tbody>\n",
       "    <tr>\n",
       "      <th>0</th>\n",
       "      <td>3</td>\n",
       "      <td>01/01/2001</td>\n",
       "      <td>U</td>\n",
       "      <td>7354</td>\n",
       "    </tr>\n",
       "    <tr>\n",
       "      <th>1</th>\n",
       "      <td>4</td>\n",
       "      <td>01/01/2001</td>\n",
       "      <td>U</td>\n",
       "      <td>9288</td>\n",
       "    </tr>\n",
       "    <tr>\n",
       "      <th>2</th>\n",
       "      <td>6</td>\n",
       "      <td>01/01/2001</td>\n",
       "      <td>U</td>\n",
       "      <td>6048</td>\n",
       "    </tr>\n",
       "    <tr>\n",
       "      <th>3</th>\n",
       "      <td>8</td>\n",
       "      <td>01/01/2001</td>\n",
       "      <td>U</td>\n",
       "      <td>6309</td>\n",
       "    </tr>\n",
       "    <tr>\n",
       "      <th>4</th>\n",
       "      <td>9</td>\n",
       "      <td>01/01/2001</td>\n",
       "      <td>U</td>\n",
       "      <td>11207</td>\n",
       "    </tr>\n",
       "  </tbody>\n",
       "</table>\n",
       "</div>"
      ],
      "text/plain": [
       "  ROUTE        DATE DAYTYPE  RIDES\n",
       "0     3  01/01/2001       U   7354\n",
       "1     4  01/01/2001       U   9288\n",
       "2     6  01/01/2001       U   6048\n",
       "3     8  01/01/2001       U   6309\n",
       "4     9  01/01/2001       U  11207"
      ]
     },
     "execution_count": 30,
     "metadata": {},
     "output_type": "execute_result"
    }
   ],
   "source": [
    "df_clean = pd.read_csv('CTA_Daily_Totals_by_Route.csv')\n",
    "df_clean.columns = df_clean.columns.str.upper()\n",
    "print (df_clean.shape)\n",
    "print (df_clean.dtypes)\n",
    "df_clean.head()"
   ]
  },
  {
   "cell_type": "markdown",
   "id": "d3c72b14",
   "metadata": {},
   "source": [
    "Let's create a Snowpark dataframe and split the data for test/train. This operation is done inside Snowflake and not in your local environment. We will also save this as a table so we don't ever have to manually upload this dataset again.\n",
    "\n",
    "PRO TIP -- Snowpark will inherit the schema of a pandas dataframe into Snowflake. Either change your schema before importing or after it has landed in snowflake. People that put models into production are very careful about data types."
   ]
  },
  {
   "cell_type": "code",
   "execution_count": 31,
   "id": "77038199",
   "metadata": {},
   "outputs": [
    {
     "name": "stdout",
     "output_type": "stream",
     "text": [
      "StructType([StructField('ROUTE', StringType(16777216), nullable=True), StructField('DATE', StringType(16777216), nullable=True), StructField('DAYTYPE', StringType(16777216), nullable=True), StructField('RIDES', LongType(), nullable=True)])\n"
     ]
    }
   ],
   "source": [
    "input_df = session.create_dataframe(df_clean)\n",
    "schema = input_df.schema\n",
    "print(schema)"
   ]
  },
  {
   "cell_type": "code",
   "execution_count": 32,
   "id": "9a6209bd",
   "metadata": {},
   "outputs": [],
   "source": [
    "input_df.write.mode('overwrite').save_as_table('CHICAGO_BUS_RIDES')"
   ]
  },
  {
   "cell_type": "markdown",
   "id": "da3ac037",
   "metadata": {},
   "source": [
    "Let's read from the table, since that is generally what you will be doing in production. We have 893,000 rows of ridership data."
   ]
  },
  {
   "cell_type": "code",
   "execution_count": 33,
   "id": "b2b86720",
   "metadata": {},
   "outputs": [
    {
     "name": "stdout",
     "output_type": "stream",
     "text": [
      "893603\n",
      "----------------------------------------------\n",
      "|\"ROUTE\"  |\"DATE\"      |\"DAYTYPE\"  |\"RIDES\"  |\n",
      "----------------------------------------------\n",
      "|3        |01/01/2001  |U          |7354     |\n",
      "|4        |01/01/2001  |U          |9288     |\n",
      "|6        |01/01/2001  |U          |6048     |\n",
      "|8        |01/01/2001  |U          |6309     |\n",
      "|9        |01/01/2001  |U          |11207    |\n",
      "|10       |01/01/2001  |U          |385      |\n",
      "|11       |01/01/2001  |U          |610      |\n",
      "|12       |01/01/2001  |U          |3678     |\n",
      "|18       |01/01/2001  |U          |375      |\n",
      "|20       |01/01/2001  |U          |7096     |\n",
      "----------------------------------------------\n",
      "\n"
     ]
    }
   ],
   "source": [
    "df = session.read.table('CHICAGO_BUS_RIDES')\n",
    "print (df.count())\n",
    "df.show()"
   ]
  },
  {
   "cell_type": "markdown",
   "id": "4cdb214c",
   "metadata": {},
   "source": [
    "## 3. Distributed Feature Engineering\n",
    "\n",
    "Let's add the Day of the week and then Aggregate the data by day.\n",
    "Let's join in weather data\n",
    "\n",
    "These operations are done inside the Snowpark warehouse which provides improved performance and scalability with distributed execution for these scikit-learn preprocessing functions. This dataset uses SMALL, but you can always move up to larger ones including Snowpark Optimized warehouses (16x memory per node than a standard warehouse), e.g., `session.sql(\"create or replace warehouse snowpark_opt_wh with warehouse_size = 'MEDIUM' warehouse_type = 'SNOWPARK-OPTIMIZED'\").collect()`"
   ]
  },
  {
   "cell_type": "code",
   "execution_count": 34,
   "id": "894622be",
   "metadata": {},
   "outputs": [
    {
     "data": {
      "text/plain": [
       "[Row(status='Warehouse SNOWPARK_OPT_WH successfully created.')]"
      ]
     },
     "execution_count": 34,
     "metadata": {},
     "output_type": "execute_result"
    }
   ],
   "source": [
    "session.sql(\"create or replace warehouse snowpark_opt_wh with warehouse_size = 'MEDIUM' warehouse_type = 'SNOWPARK-OPTIMIZED'\").collect()"
   ]
  },
  {
   "cell_type": "markdown",
   "id": "ea566df4",
   "metadata": {},
   "source": [
    "Simple feature engineering"
   ]
  },
  {
   "cell_type": "code",
   "execution_count": 35,
   "id": "50e5d5e9",
   "metadata": {},
   "outputs": [
    {
     "name": "stdout",
     "output_type": "stream",
     "text": [
      "-----------------------------------------------------------------------\n",
      "|\"ROUTE\"  |\"DAYTYPE\"  |\"RIDES\"  |\"DATE\"               |\"DAY_OF_WEEK\"  |\n",
      "-----------------------------------------------------------------------\n",
      "|3        |U          |7354     |2001-01-01 00:00:00  |1              |\n",
      "|4        |U          |9288     |2001-01-01 00:00:00  |1              |\n",
      "|6        |U          |6048     |2001-01-01 00:00:00  |1              |\n",
      "|8        |U          |6309     |2001-01-01 00:00:00  |1              |\n",
      "|9        |U          |11207    |2001-01-01 00:00:00  |1              |\n",
      "|10       |U          |385      |2001-01-01 00:00:00  |1              |\n",
      "|11       |U          |610      |2001-01-01 00:00:00  |1              |\n",
      "|12       |U          |3678     |2001-01-01 00:00:00  |1              |\n",
      "|18       |U          |375      |2001-01-01 00:00:00  |1              |\n",
      "|20       |U          |7096     |2001-01-01 00:00:00  |1              |\n",
      "-----------------------------------------------------------------------\n",
      "\n"
     ]
    }
   ],
   "source": [
    "from snowflake.snowpark.functions import col, to_timestamp, dayofweek, month,sum, listagg, lag\n",
    "from snowflake.snowpark import Window\n",
    "\n",
    "df = df.with_column('DATE', to_timestamp(col('DATE'), 'MM/DD/YYYY'))\n",
    "\n",
    "# Add a new column for the day of the week\n",
    "# The day of week is represented as an integer, with 0 = Sunday, 1 = Monday, ..., 6 = Saturday\n",
    "df = df.with_column('DAY_OF_WEEK', dayofweek(col('DATE')))\n",
    "\n",
    "# Show the resulting dataframe\n",
    "df.show()"
   ]
  },
  {
   "cell_type": "markdown",
   "id": "c6f61feb",
   "metadata": {},
   "source": [
    "A bit more feature engineering, but again, this is very familiar syntax."
   ]
  },
  {
   "cell_type": "code",
   "execution_count": 36,
   "id": "0022d07b",
   "metadata": {},
   "outputs": [
    {
     "name": "stdout",
     "output_type": "stream",
     "text": [
      "7364\n",
      "--------------------------------------------------------------------------------------------------\n",
      "|\"DATE\"               |\"DAY_OF_WEEK\"  |\"MONTH\"  |\"DAYTYPE\"  |\"TOTAL_RIDERS\"  |\"PREV_DAY_RIDERS\"  |\n",
      "--------------------------------------------------------------------------------------------------\n",
      "|2001-01-01 00:00:00  |1              |1        |U          |295439          |NULL               |\n",
      "|2001-01-02 00:00:00  |2              |1        |W          |776862          |295439             |\n",
      "|2001-01-03 00:00:00  |3              |1        |W          |820048          |776862             |\n",
      "|2001-01-04 00:00:00  |4              |1        |W          |867675          |820048             |\n",
      "|2001-01-05 00:00:00  |5              |1        |W          |887519          |867675             |\n",
      "|2001-01-06 00:00:00  |6              |1        |A          |575407          |887519             |\n",
      "|2001-01-07 00:00:00  |0              |1        |U          |374435          |575407             |\n",
      "|2001-01-08 00:00:00  |1              |1        |W          |980660          |374435             |\n",
      "|2001-01-09 00:00:00  |2              |1        |W          |974858          |980660             |\n",
      "|2001-01-10 00:00:00  |3              |1        |W          |980656          |974858             |\n",
      "--------------------------------------------------------------------------------------------------\n",
      "\n",
      "None\n"
     ]
    }
   ],
   "source": [
    "# Add a new column for the month\n",
    "df = df.with_column('MONTH', month(col('DATE')))\n",
    "\n",
    "# Group by DATE, DAY_OF_WEEK, and MONTH, then aggregate\n",
    "total_riders = df.group_by('DATE','DAY_OF_WEEK','MONTH').agg(\n",
    "    F.listagg('DAYTYPE', is_distinct=True).alias('DAYTYPE'),\n",
    "    F.sum('RIDES').alias('TOTAL_RIDERS')\n",
    ").order_by('DATE')\n",
    "\n",
    "#Define a window specification\n",
    "window_spec = Window.order_by('DATE')\n",
    "\n",
    "# Add a lagged column for total ridership of the previous day\n",
    "total_riders = total_riders.with_column('PREV_DAY_RIDERS', lag(col('TOTAL_RIDERS'), 1).over(window_spec))\n",
    "\n",
    "# Show the resulting dataframe\n",
    "print (total_riders.count())\n",
    "print (total_riders.show())"
   ]
  },
  {
   "cell_type": "markdown",
   "id": "1a03d95b",
   "metadata": {},
   "source": [
    "### Also, you can use ChatGPT to generate the code for you.\n",
    "\n",
    " <img src=\"fe_forecasting.png\" alt=\"Forecasting Visualization\" width=\"600\"/>"
   ]
  },
  {
   "cell_type": "markdown",
   "id": "4e52f46a",
   "metadata": {},
   "source": [
    "## Join in the Weather Data from the Snowflake Marketplace\n",
    "\n",
    "Instead of downloading data and building pipelines, Snowflake has a lot of useful data, including weather data in it's Marketplace. This means the data is only a SQL query away. \n",
    "\n",
    " [Cybersyn Weather](https://app.snowflake.com/marketplace/listing/GZTSZAS2KIM/cybersyn-inc-weather-environmental-essentials?search=weather)\n",
    "\n",
    "SQL QUERY: \n",
    "```\n",
    "SELECT\n",
    "  ts.noaa_weather_station_id,\n",
    "  ts.DATE,\n",
    "  COALESCE(MAX(CASE WHEN ts.variable = 'minimum_temperature' THEN ts.Value ELSE NULL END), 0) AS minimum_temperature,\n",
    "  COALESCE(MAX(CASE WHEN ts.variable = 'precipitation' THEN ts.Value ELSE NULL END), 0) AS precipitation,\n",
    "  COALESCE(MAX(CASE WHEN ts.variable = 'maximum_temperature' THEN ts.Value ELSE NULL END), 0) AS maximum_temperature\n",
    "FROM\n",
    "  cybersyn.noaa_weather_metrics_timeseries AS ts\n",
    "JOIN\n",
    "  cybersyn.noaa_weather_station_index AS idx\n",
    "ON\n",
    "  (ts.noaa_weather_station_id = idx.noaa_weather_station_id)\n",
    "WHERE\n",
    "  idx.NOAA_WEATHER_STATION_ID = 'USW00014819'\n",
    "  AND (ts.VARIABLE = 'minimum_temperature' OR ts.VARIABLE = 'precipitation' OR ts.VARIABLE = 'maximum_temperature')\n",
    "GROUP BY\n",
    "  ts.noaa_weather_station_id,\n",
    "  ts.DATE\n",
    "LIMIT 1000;\n",
    "```\n"
   ]
  },
  {
   "cell_type": "code",
   "execution_count": 37,
   "id": "b56ea3fe",
   "metadata": {},
   "outputs": [
    {
     "name": "stdout",
     "output_type": "stream",
     "text": [
      "------------------------------------------------------------------------------------------------------------\n",
      "|\"NOAA_WEATHER_STATION_ID\"  |\"DATE\"      |\"MINIMUM_TEMPERATURE\"  |\"MAXIMUM_TEMPERATURE\"  |\"PRECIPITATION\"  |\n",
      "------------------------------------------------------------------------------------------------------------\n",
      "|USW00014819                |2019-07-16  |22.2                   |28.9                   |3.8              |\n",
      "|USW00014819                |2002-01-06  |-3.9                   |3.3                    |0.0              |\n",
      "|USW00014819                |2008-03-17  |-0.5                   |4.4                    |2.0              |\n",
      "|USW00014819                |2000-01-29  |-6.7                   |-2.2                   |0.0              |\n",
      "|USW00014819                |2004-06-12  |16.7                   |26.7                   |6.6              |\n",
      "|USW00014819                |2017-07-15  |16.1                   |28.3                   |0.0              |\n",
      "|USW00014819                |2001-10-22  |12.2                   |18.9                   |2.3              |\n",
      "|USW00014819                |2021-05-01  |6.1                    |28.3                   |0.0              |\n",
      "|USW00014819                |2016-11-29  |7.2                    |14.4                   |0.0              |\n",
      "|USW00014819                |2020-08-01  |18.3                   |26.1                   |5.1              |\n",
      "------------------------------------------------------------------------------------------------------------\n",
      "\n"
     ]
    }
   ],
   "source": [
    "weather = session.read.table('CHICAGO_WEATHER')\n",
    "\n",
    "from snowflake.snowpark.types import DoubleType\n",
    "weather = weather.withColumn('MINIMUM_TEMPERATURE', weather['MINIMUM_TEMPERATURE'].cast(DoubleType()))\n",
    "weather = weather.withColumn('MAXIMUM_TEMPERATURE', weather['MAXIMUM_TEMPERATURE'].cast(DoubleType()))\n",
    "weather = weather.withColumn('PRECIPITATION', weather['PRECIPITATION'].cast(DoubleType()))\n",
    "\n",
    "weather.show()"
   ]
  },
  {
   "cell_type": "code",
   "execution_count": 38,
   "id": "027f9449",
   "metadata": {},
   "outputs": [
    {
     "name": "stdout",
     "output_type": "stream",
     "text": [
      "-------------------------------------------------------------------------------------------------------------------------------------------------------------------------------------------------------------\n",
      "|\"NOAA_WEATHER_STATION_ID\"  |\"DATEW\"     |\"MINIMUM_TEMPERATURE\"  |\"MAXIMUM_TEMPERATURE\"  |\"PRECIPITATION\"  |\"DATE\"               |\"DAY_OF_WEEK\"  |\"MONTH\"  |\"DAYTYPE\"  |\"TOTAL_RIDERS\"  |\"PREV_DAY_RIDERS\"  |\n",
      "-------------------------------------------------------------------------------------------------------------------------------------------------------------------------------------------------------------\n",
      "|USW00014819                |2015-03-31  |5.0                    |13.9                   |0.0              |2015-03-31 00:00:00  |2              |3        |W          |916779          |895068             |\n",
      "|USW00014819                |2007-12-11  |-1.6                   |1.1                    |17.3             |2007-12-11 00:00:00  |2              |12       |W          |998861          |1032787            |\n",
      "|USW00014819                |2019-11-09  |-2.1                   |8.9                    |0.0              |2019-11-09 00:00:00  |6              |11       |A          |476467          |715070             |\n",
      "|USW00014819                |2001-08-17  |15.6                   |26.1                   |0.0              |2001-08-17 00:00:00  |5              |8        |W          |926053          |798214             |\n",
      "|USW00014819                |2014-03-21  |0.6                    |14.4                   |0.0              |2014-03-21 00:00:00  |5              |3        |W          |952403          |949030             |\n",
      "|USW00014819                |2012-01-04  |-3.2                   |6.1                    |0.0              |2012-01-04 00:00:00  |3              |1        |W          |837018          |808010             |\n",
      "|USW00014819                |2019-05-31  |16.1                   |28.3                   |0.0              |2019-05-31 00:00:00  |5              |5        |W          |810422          |788977             |\n",
      "|USW00014819                |2020-12-15  |-5.5                   |1.1                    |0.0              |2020-12-15 00:00:00  |2              |12       |W          |270178          |267286             |\n",
      "|USW00014819                |2007-02-06  |-19.9                  |-12.1                  |2.0              |2007-02-06 00:00:00  |2              |2        |W          |842501          |748487             |\n",
      "|USW00014819                |2015-10-08  |12.8                   |26.1                   |0.0              |2015-10-08 00:00:00  |4              |10       |W          |953375          |964003             |\n",
      "-------------------------------------------------------------------------------------------------------------------------------------------------------------------------------------------------------------\n",
      "\n"
     ]
    }
   ],
   "source": [
    "# Perform the join operation\n",
    "joined_df = weather.join(\n",
    "    total_riders,\n",
    "    weather[\"DATE\"] == total_riders[\"DATE\"],\n",
    "    \"inner\",  # This is the type of join: inner, outer, left, right,\n",
    "    lsuffix=\"w\"\n",
    ")\n",
    "# Show the result of the join\n",
    "joined_df.show()"
   ]
  },
  {
   "cell_type": "code",
   "execution_count": 39,
   "id": "c5237c42",
   "metadata": {},
   "outputs": [],
   "source": [
    "## Dropping any null values\n",
    "from snowflake.snowpark.functions import col, is_null\n",
    "\n",
    "# Create a filter condition for non-finite values across all columns\n",
    "non_finite_filter = None\n",
    "\n",
    "# Iterate over all columns and update the filter condition\n",
    "for column in joined_df.columns:\n",
    "    current_filter = is_null(col(column))\n",
    "    non_finite_filter = current_filter if non_finite_filter is None else (non_finite_filter | current_filter)\n",
    "\n",
    "# Apply the filter to the DataFrame to exclude rows with any non-finite values\n",
    "df_filtered = joined_df.filter(~non_finite_filter)"
   ]
  },
  {
   "cell_type": "code",
   "execution_count": 40,
   "id": "96a10c75",
   "metadata": {},
   "outputs": [],
   "source": [
    "#Split the data into training and test sets\n",
    "train = df_filtered.filter(col('DATE') < '2019-01-01')\n",
    "test = df_filtered.filter(col('DATE') >= '2019-01-01')"
   ]
  },
  {
   "cell_type": "code",
   "execution_count": 41,
   "id": "db5114b0",
   "metadata": {},
   "outputs": [
    {
     "name": "stdout",
     "output_type": "stream",
     "text": [
      "6570\n",
      "790\n"
     ]
    }
   ],
   "source": [
    "print (train.count())\n",
    "print (test.count())"
   ]
  },
  {
   "cell_type": "markdown",
   "id": "774e0c4f",
   "metadata": {},
   "source": [
    "## 4. Distributed Feature Engineering in a Pipeline\n",
    "\n",
    "Feature engineering + XGBoost"
   ]
  },
  {
   "cell_type": "code",
   "execution_count": 42,
   "id": "dc637e73",
   "metadata": {},
   "outputs": [
    {
     "data": {
      "text/plain": [
       "[Row(status='Statement executed successfully.')]"
      ]
     },
     "execution_count": 42,
     "metadata": {},
     "output_type": "execute_result"
    }
   ],
   "source": [
    "session.sql(\"create or replace warehouse snowpark_opt_wh with warehouse_size = 'MEDIUM' warehouse_type = 'SNOWPARK-OPTIMIZED'\").collect()\n",
    "session.sql(\"alter warehouse snowpark_opt_wh set max_concurrency_level = 1\").collect()"
   ]
  },
  {
   "cell_type": "code",
   "execution_count": 43,
   "id": "ad265fe5",
   "metadata": {},
   "outputs": [],
   "source": [
    " ## Distributed Preprocessing - 25X to 50X faster\n",
    "numeric_features = ['DAY_OF_WEEK','MONTH','PREV_DAY_RIDERS','MINIMUM_TEMPERATURE','MAXIMUM_TEMPERATURE','PRECIPITATION']\n",
    "numeric_transformer = Pipeline(steps=[('scaler', StandardScaler())])\n",
    "\n",
    "categorical_cols = ['DAYTYPE']\n",
    "categorical_transformer = Pipeline(steps=[\n",
    "    ('imputer', SimpleImputer(strategy='most_frequent')),\n",
    "    ('onehot', OrdinalEncoder(handle_unknown='use_encoded_value',unknown_value=-99999))\n",
    "])\n",
    "\n",
    "preprocessor = ColumnTransformer(\n",
    "    transformers=[\n",
    "        ('num', numeric_transformer, numeric_features),\n",
    "        ('cat', categorical_transformer, categorical_cols)\n",
    "        ])\n",
    "\n",
    "pipeline = Pipeline(steps=[('preprocessor', preprocessor),('model', XGBRegressor())])"
   ]
  },
  {
   "cell_type": "markdown",
   "id": "35dca763",
   "metadata": {},
   "source": [
    "## 5. Distributed Training\n",
    "\n",
    "These operations are done inside the Snowpark warehouse which provides improved performance and scalability with distributed execution for these scikit-learn preprocessing functions and XGBoost training (and many other types of models)."
   ]
  },
  {
   "cell_type": "code",
   "execution_count": 44,
   "id": "a1c973e3",
   "metadata": {},
   "outputs": [
    {
     "data": {
      "text/plain": [
       "<snowflake.ml.modeling.model_selection.grid_search_cv.GridSearchCV at 0x178d570d0>"
      ]
     },
     "execution_count": 44,
     "metadata": {},
     "output_type": "execute_result"
    }
   ],
   "source": [
    " ## Distributed HyperParameter Optimization\n",
    "hyper_param = dict(\n",
    "        model__max_depth=[2,4],\n",
    "        model__learning_rate=[0.1,0.3],\n",
    "    )\n",
    "\n",
    "xg_model = GridSearchCV(\n",
    "    estimator=pipeline,\n",
    "    param_grid=hyper_param,\n",
    "    #cv=5,\n",
    "    input_cols=numeric_features + categorical_cols,\n",
    "    label_cols=['TOTAL_RIDERS'],\n",
    "    output_cols=[\"TOTAL_RIDERS_FORECAST\"],\n",
    ")\n",
    "\n",
    "# Fit and Score\n",
    "xg_model.fit(train)\n",
    "##Takes 25 seconds"
   ]
  },
  {
   "cell_type": "markdown",
   "id": "a1788805",
   "metadata": {},
   "source": [
    "## 6. Model Evaluation\n",
    "Look at the results of the mode. cv_results is a dictionary, where each key is a string describing one of the metrics or parameters, and the corresponding value is an array with one entry per combination of parameters"
   ]
  },
  {
   "cell_type": "code",
   "execution_count": 45,
   "id": "5d0e9845",
   "metadata": {},
   "outputs": [
    {
     "data": {
      "text/plain": [
       "[Row(status='Warehouse SNOWPARK_OPT_WH successfully created.')]"
      ]
     },
     "execution_count": 45,
     "metadata": {},
     "output_type": "execute_result"
    }
   ],
   "source": [
    "session.sql(\"create or replace warehouse snowpark_opt_wh with warehouse_size = 'SMALL'\").collect()"
   ]
  },
  {
   "cell_type": "code",
   "execution_count": 46,
   "id": "70d680fd",
   "metadata": {},
   "outputs": [
    {
     "name": "stdout",
     "output_type": "stream",
     "text": [
      "Parameters: {'model__learning_rate': 0.1, 'model__max_depth': 2}\n",
      "Mean Test Score: 0.9278266662014456\n",
      "\n",
      "Parameters: {'model__learning_rate': 0.1, 'model__max_depth': 4}\n",
      "Mean Test Score: 0.9433662473371583\n",
      "\n",
      "Parameters: {'model__learning_rate': 0.3, 'model__max_depth': 2}\n",
      "Mean Test Score: 0.9362543384643969\n",
      "\n",
      "Parameters: {'model__learning_rate': 0.3, 'model__max_depth': 4}\n",
      "Mean Test Score: 0.9415270224989747\n",
      "\n"
     ]
    }
   ],
   "source": [
    "cv_results = xg_model.to_sklearn().cv_results_\n",
    "\n",
    "for i in range(len(cv_results['params'])):\n",
    "    print(f\"Parameters: {cv_results['params'][i]}\")\n",
    "    print(f\"Mean Test Score: {cv_results['mean_test_score'][i]}\")\n",
    "    print()"
   ]
  },
  {
   "cell_type": "markdown",
   "id": "38c34113",
   "metadata": {},
   "source": [
    "Look at the accuracy of the model"
   ]
  },
  {
   "cell_type": "code",
   "execution_count": 47,
   "id": "73c36d50",
   "metadata": {},
   "outputs": [
    {
     "name": "stdout",
     "output_type": "stream",
     "text": [
      "MSE: 183320.1351068038\n",
      "---------------------------------------------------------\n",
      "|\"DATEW\"     |\"TOTAL_RIDERS\"  |\"TOTAL_RIDERS_FORECAST\"  |\n",
      "---------------------------------------------------------\n",
      "|2019-04-29  |724030          |754318.0625              |\n",
      "|2019-09-26  |847678          |867119.5                 |\n",
      "|2019-11-04  |842258          |880534.5                 |\n",
      "|2019-05-14  |805097          |879244.5625              |\n",
      "|2020-09-02  |331911          |732801.25                |\n",
      "|2020-08-02  |167939          |328907.53125             |\n",
      "|2020-10-11  |179814          |349278.6875              |\n",
      "|2019-03-02  |449896          |495247.125               |\n",
      "|2019-01-21  |442612          |632009.875               |\n",
      "|2020-06-02  |153682          |752729.8125              |\n",
      "---------------------------------------------------------\n",
      "\n"
     ]
    }
   ],
   "source": [
    "from snowflake.ml.modeling.metrics import mean_absolute_error\n",
    "testpreds = xg_model.predict(test)\n",
    "print('MSE:', mean_absolute_error(df=testpreds, y_true_col_names='TOTAL_RIDERS', y_pred_col_names='\"TOTAL_RIDERS_FORECAST\"'))\n",
    "testpreds.select(\"DATEW\", \"TOTAL_RIDERS\", \"TOTAL_RIDERS_FORECAST\").show(10)         "
   ]
  },
  {
   "cell_type": "markdown",
   "id": "a93fa47b",
   "metadata": {},
   "source": [
    "Materialize the results to a table"
   ]
  },
  {
   "cell_type": "markdown",
   "id": "5d5f7177",
   "metadata": {},
   "source": []
  },
  {
   "cell_type": "code",
   "execution_count": 48,
   "id": "d9489eb7",
   "metadata": {},
   "outputs": [],
   "source": [
    "testpreds.write.save_as_table(table_name='CHICAGO_BUS_RIDES_FORECAST', mode='overwrite')"
   ]
  },
  {
   "cell_type": "markdown",
   "id": "d39e5be6",
   "metadata": {},
   "source": [
    "Using metrics from snowpark so calculation is done inside snowflake"
   ]
  },
  {
   "cell_type": "markdown",
   "id": "a39a775d",
   "metadata": {},
   "source": [
    "## 7. Save to the Model Registry and use for Predictions (Python & SQL)\n",
    "\n",
    "Connect to the registry"
   ]
  },
  {
   "cell_type": "code",
   "execution_count": 49,
   "id": "c97f06d1",
   "metadata": {},
   "outputs": [],
   "source": [
    "from snowflake.ml.registry import Registry\n",
    "reg = Registry(session=session, database_name=\"RAJIV\", schema_name=\"PUBLIC\")"
   ]
  },
  {
   "cell_type": "code",
   "execution_count": 50,
   "id": "99012d7d",
   "metadata": {},
   "outputs": [
    {
     "name": "stderr",
     "output_type": "stream",
     "text": [
      "/Users/rajishah/anaconda3/envs/working311/lib/python3.11/contextlib.py:137: UserWarning: `relax_version` is not set and therefore defaulted to True. Dependency version constraints relaxed from ==x.y.z to >=x.y, <(x+1). To use specific dependency versions for compatibility, reproducibility, etc., set `options={'relax_version': False}` when logging the model.\n",
      "  return next(self.gen)\n",
      "/Users/rajishah/anaconda3/envs/working311/lib/python3.11/site-packages/snowflake/ml/model/_packager/model_packager.py:92: UserWarning: Inferring model signature from sample input or providing model signature for Snowpark ML Modeling model is not required. Model signature will automatically be inferred during fitting. \n",
      "  handler.save_model(\n"
     ]
    }
   ],
   "source": [
    "model_ref = reg.log_model(\n",
    "    model_name=\"Forecasting_Bus_Ridership\",\n",
    "    version_name=\"v47\",    \n",
    "    model=xg_model,\n",
    "    conda_dependencies=[\"scikit-learn\",\"xgboost\"],\n",
    "    sample_input_data=train,\n",
    "    comment=\"XGBoost model, run 45, Jul 12\"\n",
    ")"
   ]
  },
  {
   "cell_type": "code",
   "execution_count": 51,
   "id": "3ac62368",
   "metadata": {},
   "outputs": [
    {
     "data": {
      "text/html": [
       "<div>\n",
       "<style scoped>\n",
       "    .dataframe tbody tr th:only-of-type {\n",
       "        vertical-align: middle;\n",
       "    }\n",
       "\n",
       "    .dataframe tbody tr th {\n",
       "        vertical-align: top;\n",
       "    }\n",
       "\n",
       "    .dataframe thead th {\n",
       "        text-align: right;\n",
       "    }\n",
       "</style>\n",
       "<table border=\"1\" class=\"dataframe\">\n",
       "  <thead>\n",
       "    <tr style=\"text-align: right;\">\n",
       "      <th></th>\n",
       "      <th>created_on</th>\n",
       "      <th>name</th>\n",
       "      <th>model_type</th>\n",
       "      <th>database_name</th>\n",
       "      <th>schema_name</th>\n",
       "      <th>comment</th>\n",
       "      <th>owner</th>\n",
       "      <th>default_version_name</th>\n",
       "      <th>versions</th>\n",
       "      <th>aliases</th>\n",
       "    </tr>\n",
       "  </thead>\n",
       "  <tbody>\n",
       "    <tr>\n",
       "      <th>0</th>\n",
       "      <td>2024-05-22 09:20:01.649000-07:00</td>\n",
       "      <td>ALLMINILML6V2</td>\n",
       "      <td>USER_MODEL</td>\n",
       "      <td>RAJIV</td>\n",
       "      <td>PUBLIC</td>\n",
       "      <td>None</td>\n",
       "      <td>RAJIV</td>\n",
       "      <td>SELFISH_SEAL_3</td>\n",
       "      <td>[\"SELFISH_SEAL_3\"]</td>\n",
       "      <td>{\"DEFAULT\":\"SELFISH_SEAL_3\",\"FIRST\":\"SELFISH_S...</td>\n",
       "    </tr>\n",
       "    <tr>\n",
       "      <th>1</th>\n",
       "      <td>2024-05-22 08:31:21.415000-07:00</td>\n",
       "      <td>ALL_MINILM_L6_V2</td>\n",
       "      <td>USER_MODEL</td>\n",
       "      <td>RAJIV</td>\n",
       "      <td>PUBLIC</td>\n",
       "      <td>None</td>\n",
       "      <td>RAJIV</td>\n",
       "      <td>V_1</td>\n",
       "      <td>[\"V_1\",\"V_2\",\"V_3\",\"V_4\",\"V_5\",\"V_7\",\"V_8\"]</td>\n",
       "      <td>{\"DEFAULT\":\"V_1\",\"FIRST\":\"V_1\",\"LAST\":\"V_8\"}</td>\n",
       "    </tr>\n",
       "    <tr>\n",
       "      <th>2</th>\n",
       "      <td>2024-01-23 18:58:41.929000-08:00</td>\n",
       "      <td>DIABETES_XGBOOSTER</td>\n",
       "      <td>USER_MODEL</td>\n",
       "      <td>RAJIV</td>\n",
       "      <td>PUBLIC</td>\n",
       "      <td>None</td>\n",
       "      <td>RAJIV</td>\n",
       "      <td>V2</td>\n",
       "      <td>[\"V2\",\"V3\",\"V4\",\"V5\",\"V7\"]</td>\n",
       "      <td>{\"DEFAULT\":\"V2\",\"FIRST\":\"V2\",\"LAST\":\"V7\"}</td>\n",
       "    </tr>\n",
       "    <tr>\n",
       "      <th>3</th>\n",
       "      <td>2024-02-19 17:12:27.005000-08:00</td>\n",
       "      <td>E5_BASE_V2</td>\n",
       "      <td>USER_MODEL</td>\n",
       "      <td>RAJIV</td>\n",
       "      <td>PUBLIC</td>\n",
       "      <td>None</td>\n",
       "      <td>RAJIV</td>\n",
       "      <td>V1</td>\n",
       "      <td>[\"V1\"]</td>\n",
       "      <td>{\"DEFAULT\":\"V1\",\"FIRST\":\"V1\",\"LAST\":\"V1\"}</td>\n",
       "    </tr>\n",
       "    <tr>\n",
       "      <th>4</th>\n",
       "      <td>2024-02-07 13:00:56.292000-08:00</td>\n",
       "      <td>FINBERT</td>\n",
       "      <td>USER_MODEL</td>\n",
       "      <td>RAJIV</td>\n",
       "      <td>PUBLIC</td>\n",
       "      <td>None</td>\n",
       "      <td>RAJIV</td>\n",
       "      <td>V1</td>\n",
       "      <td>[\"V1\"]</td>\n",
       "      <td>{\"DEFAULT\":\"V1\",\"FIRST\":\"V1\",\"LAST\":\"V1\"}</td>\n",
       "    </tr>\n",
       "    <tr>\n",
       "      <th>5</th>\n",
       "      <td>2024-02-26 18:55:00.548000-08:00</td>\n",
       "      <td>FORECASTING_BUS_RIDERSHIP</td>\n",
       "      <td>USER_MODEL</td>\n",
       "      <td>RAJIV</td>\n",
       "      <td>PUBLIC</td>\n",
       "      <td>None</td>\n",
       "      <td>RAJIV</td>\n",
       "      <td>V7</td>\n",
       "      <td>[\"V10\",\"V13\",\"V19\",\"V20\",\"V21\",\"V24\",\"V25\",\"V2...</td>\n",
       "      <td>{\"DEFAULT\":\"V7\",\"FIRST\":\"V7\",\"LAST\":\"V47\"}</td>\n",
       "    </tr>\n",
       "    <tr>\n",
       "      <th>6</th>\n",
       "      <td>2024-02-19 17:19:12.122000-08:00</td>\n",
       "      <td>MINILMV2</td>\n",
       "      <td>USER_MODEL</td>\n",
       "      <td>RAJIV</td>\n",
       "      <td>PUBLIC</td>\n",
       "      <td>None</td>\n",
       "      <td>RAJIV</td>\n",
       "      <td>V1</td>\n",
       "      <td>[\"V1\",\"V2\",\"V4\",\"V5\"]</td>\n",
       "      <td>{\"DEFAULT\":\"V1\",\"FIRST\":\"V1\",\"LAST\":\"V5\"}</td>\n",
       "    </tr>\n",
       "    <tr>\n",
       "      <th>7</th>\n",
       "      <td>2024-02-07 13:14:44.823000-08:00</td>\n",
       "      <td>MPNET_BASE</td>\n",
       "      <td>USER_MODEL</td>\n",
       "      <td>RAJIV</td>\n",
       "      <td>PUBLIC</td>\n",
       "      <td>None</td>\n",
       "      <td>RAJIV</td>\n",
       "      <td>V1</td>\n",
       "      <td>[\"V1\",\"V2\",\"V3\"]</td>\n",
       "      <td>{\"DEFAULT\":\"V1\",\"FIRST\":\"V1\",\"LAST\":\"V3\"}</td>\n",
       "    </tr>\n",
       "    <tr>\n",
       "      <th>8</th>\n",
       "      <td>2024-05-22 08:48:25.195000-07:00</td>\n",
       "      <td>MULTILINGUAL_E5_SMALL</td>\n",
       "      <td>USER_MODEL</td>\n",
       "      <td>RAJIV</td>\n",
       "      <td>PUBLIC</td>\n",
       "      <td>None</td>\n",
       "      <td>RAJIV</td>\n",
       "      <td>BAD_ROBIN_2</td>\n",
       "      <td>[\"BAD_ROBIN_2\",\"GENTLE_TREEFROG_2\"]</td>\n",
       "      <td>{\"DEFAULT\":\"BAD_ROBIN_2\",\"FIRST\":\"BAD_ROBIN_2\"...</td>\n",
       "    </tr>\n",
       "    <tr>\n",
       "      <th>9</th>\n",
       "      <td>2024-05-22 09:06:18.337000-07:00</td>\n",
       "      <td>MULTILINGUAL_E5_SMALL_CUSTOM</td>\n",
       "      <td>USER_MODEL</td>\n",
       "      <td>RAJIV</td>\n",
       "      <td>PUBLIC</td>\n",
       "      <td>None</td>\n",
       "      <td>RAJIV</td>\n",
       "      <td>SHARP_WOLVERINE_1</td>\n",
       "      <td>[\"COLD_EGRET_3\",\"SHARP_WOLVERINE_1\"]</td>\n",
       "      <td>{\"DEFAULT\":\"SHARP_WOLVERINE_1\",\"FIRST\":\"SHARP_...</td>\n",
       "    </tr>\n",
       "    <tr>\n",
       "      <th>10</th>\n",
       "      <td>2024-01-25 14:54:04.655000-08:00</td>\n",
       "      <td>TPCDS_XGBOOST_DEMO</td>\n",
       "      <td>USER_MODEL</td>\n",
       "      <td>RAJIV</td>\n",
       "      <td>PUBLIC</td>\n",
       "      <td>None</td>\n",
       "      <td>RAJIV</td>\n",
       "      <td>V5</td>\n",
       "      <td>[\"V5\",\"V6\",\"V7\",\"V8\",\"V9\"]</td>\n",
       "      <td>{\"DEFAULT\":\"V5\",\"FIRST\":\"V5\",\"LAST\":\"V9\"}</td>\n",
       "    </tr>\n",
       "    <tr>\n",
       "      <th>11</th>\n",
       "      <td>2024-01-23 18:49:09.294000-08:00</td>\n",
       "      <td>XGBOOSTER</td>\n",
       "      <td>USER_MODEL</td>\n",
       "      <td>RAJIV</td>\n",
       "      <td>PUBLIC</td>\n",
       "      <td>None</td>\n",
       "      <td>RAJIV</td>\n",
       "      <td>V1</td>\n",
       "      <td>[\"V1\",\"V2\"]</td>\n",
       "      <td>{\"DEFAULT\":\"V1\",\"FIRST\":\"V1\",\"LAST\":\"V2\"}</td>\n",
       "    </tr>\n",
       "  </tbody>\n",
       "</table>\n",
       "</div>"
      ],
      "text/plain": [
       "                         created_on                          name  model_type  \\\n",
       "0  2024-05-22 09:20:01.649000-07:00                 ALLMINILML6V2  USER_MODEL   \n",
       "1  2024-05-22 08:31:21.415000-07:00              ALL_MINILM_L6_V2  USER_MODEL   \n",
       "2  2024-01-23 18:58:41.929000-08:00            DIABETES_XGBOOSTER  USER_MODEL   \n",
       "3  2024-02-19 17:12:27.005000-08:00                    E5_BASE_V2  USER_MODEL   \n",
       "4  2024-02-07 13:00:56.292000-08:00                       FINBERT  USER_MODEL   \n",
       "5  2024-02-26 18:55:00.548000-08:00     FORECASTING_BUS_RIDERSHIP  USER_MODEL   \n",
       "6  2024-02-19 17:19:12.122000-08:00                      MINILMV2  USER_MODEL   \n",
       "7  2024-02-07 13:14:44.823000-08:00                    MPNET_BASE  USER_MODEL   \n",
       "8  2024-05-22 08:48:25.195000-07:00         MULTILINGUAL_E5_SMALL  USER_MODEL   \n",
       "9  2024-05-22 09:06:18.337000-07:00  MULTILINGUAL_E5_SMALL_CUSTOM  USER_MODEL   \n",
       "10 2024-01-25 14:54:04.655000-08:00            TPCDS_XGBOOST_DEMO  USER_MODEL   \n",
       "11 2024-01-23 18:49:09.294000-08:00                     XGBOOSTER  USER_MODEL   \n",
       "\n",
       "   database_name schema_name comment  owner default_version_name  \\\n",
       "0          RAJIV      PUBLIC    None  RAJIV       SELFISH_SEAL_3   \n",
       "1          RAJIV      PUBLIC    None  RAJIV                  V_1   \n",
       "2          RAJIV      PUBLIC    None  RAJIV                   V2   \n",
       "3          RAJIV      PUBLIC    None  RAJIV                   V1   \n",
       "4          RAJIV      PUBLIC    None  RAJIV                   V1   \n",
       "5          RAJIV      PUBLIC    None  RAJIV                   V7   \n",
       "6          RAJIV      PUBLIC    None  RAJIV                   V1   \n",
       "7          RAJIV      PUBLIC    None  RAJIV                   V1   \n",
       "8          RAJIV      PUBLIC    None  RAJIV          BAD_ROBIN_2   \n",
       "9          RAJIV      PUBLIC    None  RAJIV    SHARP_WOLVERINE_1   \n",
       "10         RAJIV      PUBLIC    None  RAJIV                   V5   \n",
       "11         RAJIV      PUBLIC    None  RAJIV                   V1   \n",
       "\n",
       "                                             versions  \\\n",
       "0                                  [\"SELFISH_SEAL_3\"]   \n",
       "1         [\"V_1\",\"V_2\",\"V_3\",\"V_4\",\"V_5\",\"V_7\",\"V_8\"]   \n",
       "2                          [\"V2\",\"V3\",\"V4\",\"V5\",\"V7\"]   \n",
       "3                                              [\"V1\"]   \n",
       "4                                              [\"V1\"]   \n",
       "5   [\"V10\",\"V13\",\"V19\",\"V20\",\"V21\",\"V24\",\"V25\",\"V2...   \n",
       "6                               [\"V1\",\"V2\",\"V4\",\"V5\"]   \n",
       "7                                    [\"V1\",\"V2\",\"V3\"]   \n",
       "8                 [\"BAD_ROBIN_2\",\"GENTLE_TREEFROG_2\"]   \n",
       "9                [\"COLD_EGRET_3\",\"SHARP_WOLVERINE_1\"]   \n",
       "10                         [\"V5\",\"V6\",\"V7\",\"V8\",\"V9\"]   \n",
       "11                                        [\"V1\",\"V2\"]   \n",
       "\n",
       "                                              aliases  \n",
       "0   {\"DEFAULT\":\"SELFISH_SEAL_3\",\"FIRST\":\"SELFISH_S...  \n",
       "1        {\"DEFAULT\":\"V_1\",\"FIRST\":\"V_1\",\"LAST\":\"V_8\"}  \n",
       "2           {\"DEFAULT\":\"V2\",\"FIRST\":\"V2\",\"LAST\":\"V7\"}  \n",
       "3           {\"DEFAULT\":\"V1\",\"FIRST\":\"V1\",\"LAST\":\"V1\"}  \n",
       "4           {\"DEFAULT\":\"V1\",\"FIRST\":\"V1\",\"LAST\":\"V1\"}  \n",
       "5          {\"DEFAULT\":\"V7\",\"FIRST\":\"V7\",\"LAST\":\"V47\"}  \n",
       "6           {\"DEFAULT\":\"V1\",\"FIRST\":\"V1\",\"LAST\":\"V5\"}  \n",
       "7           {\"DEFAULT\":\"V1\",\"FIRST\":\"V1\",\"LAST\":\"V3\"}  \n",
       "8   {\"DEFAULT\":\"BAD_ROBIN_2\",\"FIRST\":\"BAD_ROBIN_2\"...  \n",
       "9   {\"DEFAULT\":\"SHARP_WOLVERINE_1\",\"FIRST\":\"SHARP_...  \n",
       "10          {\"DEFAULT\":\"V5\",\"FIRST\":\"V5\",\"LAST\":\"V9\"}  \n",
       "11          {\"DEFAULT\":\"V1\",\"FIRST\":\"V1\",\"LAST\":\"V2\"}  "
      ]
     },
     "execution_count": 51,
     "metadata": {},
     "output_type": "execute_result"
    }
   ],
   "source": [
    "reg.show_models()"
   ]
  },
  {
   "cell_type": "markdown",
   "id": "46750d4e",
   "metadata": {},
   "source": [
    "Let's retrieve the model from the registry"
   ]
  },
  {
   "cell_type": "code",
   "execution_count": 52,
   "id": "16f2b93f",
   "metadata": {},
   "outputs": [],
   "source": [
    "reg_model = reg.get_model(\"Forecasting_Bus_Ridership\").version(\"v47\")"
   ]
  },
  {
   "cell_type": "markdown",
   "id": "d2ad7e11",
   "metadata": {},
   "source": [
    "Here is an example of exporting from the model registry"
   ]
  },
  {
   "cell_type": "code",
   "execution_count": 53,
   "id": "b893a350",
   "metadata": {},
   "outputs": [],
   "source": [
    "#reg_model.export(\"/Users/rajishah/Code/snowflake-notebooks/Forecasting_ChicagoBus/model\")"
   ]
  },
  {
   "cell_type": "markdown",
   "id": "68bc70af",
   "metadata": {},
   "source": [
    "Let's do predictions inside the warehouse"
   ]
  },
  {
   "cell_type": "code",
   "execution_count": 54,
   "id": "bf7f3388",
   "metadata": {},
   "outputs": [
    {
     "name": "stdout",
     "output_type": "stream",
     "text": [
      "---------------------------------------------------------\n",
      "|\"DATEW\"     |\"TOTAL_RIDERS\"  |\"TOTAL_RIDERS_FORECAST\"  |\n",
      "---------------------------------------------------------\n",
      "|2019-01-01  |247279          |290942.375               |\n",
      "|2019-01-02  |585996          |668251.3125              |\n",
      "|2019-01-03  |660631          |767229.875               |\n",
      "|2019-01-04  |662011          |759055.3125              |\n",
      "|2019-01-05  |440848          |491881.78125             |\n",
      "|2019-01-06  |316844          |351156.84375             |\n",
      "|2019-01-07  |717818          |762515.625               |\n",
      "|2019-01-08  |779946          |879376.0625              |\n",
      "|2019-01-09  |743021          |790567.625               |\n",
      "|2019-01-10  |743075          |764690.8125              |\n",
      "---------------------------------------------------------\n",
      "\n"
     ]
    }
   ],
   "source": [
    "remote_prediction = reg_model.run(test, function_name='predict')\n",
    "remote_prediction.sort(\"DATEW\").select(\"DATEW\",\"TOTAL_RIDERS\",\"TOTAL_RIDERS_FORECAST\").show(10)"
   ]
  },
  {
   "cell_type": "markdown",
   "id": "9c615b1b",
   "metadata": {},
   "source": [
    "If you look in the activity view, you can find the SQL which will run a bit faster.  This SQL command is showing the result in a snowflake dataframe. You could use `collect` to pull the info out into your local session.\n",
    "\n",
    "Modify the SQL with by adding in your specific model with this line: `WITH MODEL_VERSION_ALIAS AS MODEL RAJIV.PUBLIC.DIABETES_XGBOOSTER VERSION V7` and updating the location of your target predictions which is located here: `SNOWPARK_ML_MODEL_INFERENCE_INPUT`"
   ]
  },
  {
   "cell_type": "code",
   "execution_count": 55,
   "id": "19ab86b4",
   "metadata": {},
   "outputs": [],
   "source": [
    "sqlquery = \"\"\"SELECT \"DATEW\", \"TOTAL_RIDERS\",  CAST (\"TMP_RESULT\"['TOTAL_RIDERS_FORECAST'] AS DOUBLE) AS \"TOTAL_RIDERS_FORECAST\" FROM (WITH SNOWPARK_ML_MODEL_INFERENCE_INPUT AS (SELECT  *  FROM ( SELECT  *  FROM (( SELECT \"NOAA_WEATHER_STATION_ID\" AS \"NOAA_WEATHER_STATION_ID\", \"DATE\" AS \"DATEW\", \"MINIMUM_TEMPERATURE\" AS \"MINIMUM_TEMPERATURE\", \"MAXIMUM_TEMPERATURE\" AS \"MAXIMUM_TEMPERATURE\", \"PRECIPITATION\" AS \"PRECIPITATION\" FROM ( SELECT \"NOAA_WEATHER_STATION_ID\", \"DATE\",  CAST (\"MINIMUM_TEMPERATURE\" AS DOUBLE) AS \"MINIMUM_TEMPERATURE\",  CAST (\"MAXIMUM_TEMPERATURE\" AS DOUBLE) AS \"MAXIMUM_TEMPERATURE\",  CAST (\"PRECIPITATION\" AS DOUBLE) AS \"PRECIPITATION\" FROM CHICAGO_WEATHER)) AS SNOWPARK_LEFT INNER JOIN ( SELECT \"DATE\" AS \"DATE\", \"DAY_OF_WEEK\" AS \"DAY_OF_WEEK\", \"MONTH\" AS \"MONTH\", \"DAYTYPE\" AS \"DAYTYPE\", \"TOTAL_RIDERS\" AS \"TOTAL_RIDERS\", \"PREV_DAY_RIDERS\" AS \"PREV_DAY_RIDERS\" FROM ( SELECT \"DATE\", \"DAY_OF_WEEK\", \"MONTH\", \"DAYTYPE\", \"TOTAL_RIDERS\", LAG(\"TOTAL_RIDERS\", 1, NULL) OVER (  ORDER BY \"DATE\" ASC NULLS FIRST ) AS \"PREV_DAY_RIDERS\" FROM ( SELECT \"DATE\", \"DAY_OF_WEEK\", \"MONTH\",  LISTAGG ( DISTINCT \"DAYTYPE\", '') AS \"DAYTYPE\", sum(\"RIDES\") AS \"TOTAL_RIDERS\" FROM ( SELECT \"ROUTE\", \"DAYTYPE\", \"RIDES\", \"DATE\", dayofweek(\"DATE\") AS \"DAY_OF_WEEK\", month(\"DATE\") AS \"MONTH\" FROM ( SELECT \"ROUTE\", \"DAYTYPE\", \"RIDES\", to_timestamp(\"DATE\", 'MM/DD/YYYY') AS \"DATE\" FROM CHICAGO_BUS_RIDES)) GROUP BY \"DATE\", \"DAY_OF_WEEK\", \"MONTH\") ORDER BY \"DATE\" ASC NULLS FIRST)) AS SNOWPARK_RIGHT ON (\"DATEW\" = \"DATE\"))) WHERE (NOT ((((((((((\"NOAA_WEATHER_STATION_ID\" IS NULL OR \"DATEW\" IS NULL) OR \"MINIMUM_TEMPERATURE\" IS NULL) OR \"MAXIMUM_TEMPERATURE\" IS NULL) OR \"PRECIPITATION\" IS NULL) OR \"DATE\" IS NULL) OR \"DAY_OF_WEEK\" IS NULL) OR \"MONTH\" IS NULL) OR \"DAYTYPE\" IS NULL) OR \"TOTAL_RIDERS\" IS NULL) OR \"PREV_DAY_RIDERS\" IS NULL) AND (\"DATE\" >= '2019-01-01'))),MODEL_VERSION_ALIAS AS MODEL RAJIV.PUBLIC.FORECASTING_BUS_RIDERSHIP VERSION V27\n",
    "                SELECT *,\n",
    "                    MODEL_VERSION_ALIAS!PREDICT(DAY_OF_WEEK, MONTH, PREV_DAY_RIDERS, MINIMUM_TEMPERATURE, MAXIMUM_TEMPERATURE, PRECIPITATION, DAYTYPE) AS TMP_RESULT\n",
    "                FROM SNOWPARK_ML_MODEL_INFERENCE_INPUT) ORDER BY \"DATEW\" ASC NULLS FIRST LIMIT 10\"\"\""
   ]
  },
  {
   "cell_type": "code",
   "execution_count": 56,
   "id": "6d60a60b",
   "metadata": {},
   "outputs": [
    {
     "name": "stdout",
     "output_type": "stream",
     "text": [
      "---------------------------------------------------------\n",
      "|\"DATEW\"     |\"TOTAL_RIDERS\"  |\"TOTAL_RIDERS_FORECAST\"  |\n",
      "---------------------------------------------------------\n",
      "|2019-01-01  |247279          |290942.375               |\n",
      "|2019-01-02  |585996          |668251.3125              |\n",
      "|2019-01-03  |660631          |767229.875               |\n",
      "|2019-01-04  |662011          |759055.3125              |\n",
      "|2019-01-05  |440848          |491881.78125             |\n",
      "|2019-01-06  |316844          |351156.84375             |\n",
      "|2019-01-07  |717818          |762515.625               |\n",
      "|2019-01-08  |779946          |879376.0625              |\n",
      "|2019-01-09  |743021          |790567.625               |\n",
      "|2019-01-10  |743075          |764690.8125              |\n",
      "---------------------------------------------------------\n",
      "\n"
     ]
    }
   ],
   "source": [
    "results = session.sql(sqlquery).show()"
   ]
  },
  {
   "cell_type": "code",
   "execution_count": 57,
   "id": "0412e19f",
   "metadata": {},
   "outputs": [
    {
     "name": "stdout",
     "output_type": "stream",
     "text": [
      "-------------------------------------------------------------------------------------------------------------------------------------------------------------------------------------------------------------\n",
      "|\"NOAA_WEATHER_STATION_ID\"  |\"DATEW\"     |\"MINIMUM_TEMPERATURE\"  |\"MAXIMUM_TEMPERATURE\"  |\"PRECIPITATION\"  |\"DATE\"               |\"DAY_OF_WEEK\"  |\"MONTH\"  |\"DAYTYPE\"  |\"TOTAL_RIDERS\"  |\"PREV_DAY_RIDERS\"  |\n",
      "-------------------------------------------------------------------------------------------------------------------------------------------------------------------------------------------------------------\n",
      "|USW00014819                |2020-07-03  |20.6                   |31.7                   |0.0              |2020-07-03 00:00:00  |5              |7        |U          |270792          |316747             |\n",
      "|USW00014819                |2021-02-09  |-16.0                  |-7.1                   |0.0              |2021-02-09 00:00:00  |2              |2        |W          |258202          |240644             |\n",
      "|USW00014819                |2020-04-04  |2.2                    |13.3                   |2.0              |2020-04-04 00:00:00  |6              |4        |A          |153561          |239180             |\n",
      "|USW00014819                |2020-12-18  |-4.3                   |2.8                    |0.0              |2020-12-18 00:00:00  |5              |12       |W          |281184          |271043             |\n",
      "|USW00014819                |2019-03-21  |2.8                    |7.8                    |0.0              |2019-03-21 00:00:00  |4              |3        |W          |791505          |779764             |\n",
      "|USW00014819                |2019-09-19  |17.8                   |29.4                   |0.0              |2019-09-19 00:00:00  |4              |9        |W          |842073          |852242             |\n",
      "|USW00014819                |2019-02-11  |-1.6                   |0.0                    |4.8              |2019-02-11 00:00:00  |1              |2        |W          |775564          |295038             |\n",
      "|USW00014819                |2019-10-11  |3.9                    |20.0                   |11.7             |2019-10-11 00:00:00  |5              |10       |W          |773303          |850944             |\n",
      "|USW00014819                |2020-10-05  |2.2                    |17.2                   |0.0              |2020-10-05 00:00:00  |1              |10       |W          |323561          |178613             |\n",
      "|USW00014819                |2020-01-23  |-1.0                   |2.2                    |2.3              |2020-01-23 00:00:00  |4              |1        |W          |761208          |789261             |\n",
      "-------------------------------------------------------------------------------------------------------------------------------------------------------------------------------------------------------------\n",
      "\n"
     ]
    }
   ],
   "source": [
    "test.show()"
   ]
  },
  {
   "cell_type": "markdown",
   "id": "5f392487",
   "metadata": {},
   "source": [
    "Let's calculate and save the metrics to the registry"
   ]
  },
  {
   "cell_type": "code",
   "execution_count": 58,
   "id": "a6bea723",
   "metadata": {},
   "outputs": [],
   "source": [
    "from snowflake.ml.modeling.metrics import mean_absolute_error\n",
    "testpreds = reg_model.run(test, function_name='predict')\n",
    "mae = mean_absolute_error(df=testpreds, y_true_col_names='TOTAL_RIDERS', y_pred_col_names='\"TOTAL_RIDERS_FORECAST\"')\n",
    "reg_model.set_metric(\"MAE\", value=mae)"
   ]
  },
  {
   "cell_type": "code",
   "execution_count": 59,
   "id": "5c587021",
   "metadata": {},
   "outputs": [
    {
     "data": {
      "text/plain": [
       "{'MAE': 183320.1351068038}"
      ]
     },
     "execution_count": 59,
     "metadata": {},
     "output_type": "execute_result"
    }
   ],
   "source": [
    "reg_model.show_metrics()"
   ]
  },
  {
   "cell_type": "code",
   "execution_count": 60,
   "id": "00315bbd",
   "metadata": {},
   "outputs": [
    {
     "data": {
      "text/plain": [
       "[Row(status='Warehouse SNOWPARK_OPT_WH successfully created.')]"
      ]
     },
     "execution_count": 60,
     "metadata": {},
     "output_type": "execute_result"
    }
   ],
   "source": [
    "session.sql(\"create or replace warehouse snowpark_opt_wh with warehouse_size = 'SMALL'\").collect()"
   ]
  },
  {
   "cell_type": "code",
   "execution_count": 61,
   "id": "6b233260",
   "metadata": {},
   "outputs": [],
   "source": [
    "#session.close()"
   ]
  }
 ],
 "metadata": {
  "kernelspec": {
   "display_name": "Python 3.8.13 ('snowpark')",
   "language": "python",
   "name": "python3"
  },
  "language_info": {
   "codemirror_mode": {
    "name": "ipython",
    "version": 3
   },
   "file_extension": ".py",
   "mimetype": "text/x-python",
   "name": "python",
   "nbconvert_exporter": "python",
   "pygments_lexer": "ipython3",
   "version": "3.11.7"
  },
  "papermill": {
   "default_parameters": {},
   "duration": 41.012855,
   "end_time": "2021-05-15T09:34:14.646782",
   "environment_variables": {},
   "exception": null,
   "input_path": "__notebook__.ipynb",
   "output_path": "__notebook__.ipynb",
   "parameters": {},
   "start_time": "2021-05-15T09:33:33.633927",
   "version": "2.3.3"
  },
  "vscode": {
   "interpreter": {
    "hash": "4fb0a37530c0004d75c43dbcefc0b8b6ea2fdc6f87c96f7fd6f8cf43b3f551c7"
   }
  },
  "widgets": {
   "application/vnd.jupyter.widget-state+json": {
    "state": {
     "03486abb248b48dcae43183c9ffb112a": {
      "model_module": "@jupyter-widgets/controls",
      "model_module_version": "1.5.0",
      "model_name": "DescriptionStyleModel",
      "state": {
       "_model_module": "@jupyter-widgets/controls",
       "_model_module_version": "1.5.0",
       "_model_name": "DescriptionStyleModel",
       "_view_count": null,
       "_view_module": "@jupyter-widgets/base",
       "_view_module_version": "1.2.0",
       "_view_name": "StyleView",
       "description_width": ""
      }
     },
     "0539c58479b749dd99898d49f43ebcef": {
      "model_module": "@jupyter-widgets/controls",
      "model_module_version": "1.5.0",
      "model_name": "FloatProgressModel",
      "state": {
       "_dom_classes": [],
       "_model_module": "@jupyter-widgets/controls",
       "_model_module_version": "1.5.0",
       "_model_name": "FloatProgressModel",
       "_view_count": null,
       "_view_module": "@jupyter-widgets/controls",
       "_view_module_version": "1.5.0",
       "_view_name": "ProgressView",
       "bar_style": "success",
       "description": "",
       "description_tooltip": null,
       "layout": "IPY_MODEL_d097f3c35ec644bfa231be2d2fd50129",
       "max": 1,
       "min": 0,
       "orientation": "horizontal",
       "style": "IPY_MODEL_0be3e122c58347b79c67cbdfc6939065",
       "value": 1
      }
     },
     "0be3e122c58347b79c67cbdfc6939065": {
      "model_module": "@jupyter-widgets/controls",
      "model_module_version": "1.5.0",
      "model_name": "ProgressStyleModel",
      "state": {
       "_model_module": "@jupyter-widgets/controls",
       "_model_module_version": "1.5.0",
       "_model_name": "ProgressStyleModel",
       "_view_count": null,
       "_view_module": "@jupyter-widgets/base",
       "_view_module_version": "1.2.0",
       "_view_name": "StyleView",
       "bar_color": null,
       "description_width": ""
      }
     },
     "0debf43d9ebe494fa0871bc085432a31": {
      "model_module": "@jupyter-widgets/controls",
      "model_module_version": "1.5.0",
      "model_name": "HBoxModel",
      "state": {
       "_dom_classes": [],
       "_model_module": "@jupyter-widgets/controls",
       "_model_module_version": "1.5.0",
       "_model_name": "HBoxModel",
       "_view_count": null,
       "_view_module": "@jupyter-widgets/controls",
       "_view_module_version": "1.5.0",
       "_view_name": "HBoxView",
       "box_style": "",
       "children": [
        "IPY_MODEL_7ea526b1e9bd43cdb270777b5f62a95e",
        "IPY_MODEL_0539c58479b749dd99898d49f43ebcef",
        "IPY_MODEL_5f80a955ced34cef86bc307a7a17ad50"
       ],
       "layout": "IPY_MODEL_4cea8ab8f6094c87a13a8b690c87c778"
      }
     },
     "106409d46bfe43f19cfedaa975ba2cc8": {
      "model_module": "@jupyter-widgets/controls",
      "model_module_version": "1.5.0",
      "model_name": "HBoxModel",
      "state": {
       "_dom_classes": [],
       "_model_module": "@jupyter-widgets/controls",
       "_model_module_version": "1.5.0",
       "_model_name": "HBoxModel",
       "_view_count": null,
       "_view_module": "@jupyter-widgets/controls",
       "_view_module_version": "1.5.0",
       "_view_name": "HBoxView",
       "box_style": "",
       "children": [
        "IPY_MODEL_79579de4686940fb87277980fb3b9033",
        "IPY_MODEL_1ee9a30ab6f14e9f890b0bc1aabad3db",
        "IPY_MODEL_60a533bb74804344b7e871fbf50d7630"
       ],
       "layout": "IPY_MODEL_b810367f103a4e4e9c5be322df67d4c9"
      }
     },
     "137e5d876fda44a481e04a46ce3d52c5": {
      "model_module": "@jupyter-widgets/base",
      "model_module_version": "1.2.0",
      "model_name": "LayoutModel",
      "state": {
       "_model_module": "@jupyter-widgets/base",
       "_model_module_version": "1.2.0",
       "_model_name": "LayoutModel",
       "_view_count": null,
       "_view_module": "@jupyter-widgets/base",
       "_view_module_version": "1.2.0",
       "_view_name": "LayoutView",
       "align_content": null,
       "align_items": null,
       "align_self": null,
       "border": null,
       "bottom": null,
       "display": null,
       "flex": null,
       "flex_flow": null,
       "grid_area": null,
       "grid_auto_columns": null,
       "grid_auto_flow": null,
       "grid_auto_rows": null,
       "grid_column": null,
       "grid_gap": null,
       "grid_row": null,
       "grid_template_areas": null,
       "grid_template_columns": null,
       "grid_template_rows": null,
       "height": null,
       "justify_content": null,
       "justify_items": null,
       "left": null,
       "margin": null,
       "max_height": null,
       "max_width": null,
       "min_height": null,
       "min_width": null,
       "object_fit": null,
       "object_position": null,
       "order": null,
       "overflow": null,
       "overflow_x": null,
       "overflow_y": null,
       "padding": null,
       "right": null,
       "top": null,
       "visibility": null,
       "width": null
      }
     },
     "1ee9a30ab6f14e9f890b0bc1aabad3db": {
      "model_module": "@jupyter-widgets/controls",
      "model_module_version": "1.5.0",
      "model_name": "FloatProgressModel",
      "state": {
       "_dom_classes": [],
       "_model_module": "@jupyter-widgets/controls",
       "_model_module_version": "1.5.0",
       "_model_name": "FloatProgressModel",
       "_view_count": null,
       "_view_module": "@jupyter-widgets/controls",
       "_view_module_version": "1.5.0",
       "_view_name": "ProgressView",
       "bar_style": "success",
       "description": "",
       "description_tooltip": null,
       "layout": "IPY_MODEL_896278c20baf49bc9483c86dbe28e6db",
       "max": 1,
       "min": 0,
       "orientation": "horizontal",
       "style": "IPY_MODEL_214ce6435877469e8aec9b089f0a5b2b",
       "value": 1
      }
     },
     "214ce6435877469e8aec9b089f0a5b2b": {
      "model_module": "@jupyter-widgets/controls",
      "model_module_version": "1.5.0",
      "model_name": "ProgressStyleModel",
      "state": {
       "_model_module": "@jupyter-widgets/controls",
       "_model_module_version": "1.5.0",
       "_model_name": "ProgressStyleModel",
       "_view_count": null,
       "_view_module": "@jupyter-widgets/base",
       "_view_module_version": "1.2.0",
       "_view_name": "StyleView",
       "bar_color": null,
       "description_width": ""
      }
     },
     "22828e38a6f84e388c66ed37fd49e1a3": {
      "model_module": "@jupyter-widgets/base",
      "model_module_version": "1.2.0",
      "model_name": "LayoutModel",
      "state": {
       "_model_module": "@jupyter-widgets/base",
       "_model_module_version": "1.2.0",
       "_model_name": "LayoutModel",
       "_view_count": null,
       "_view_module": "@jupyter-widgets/base",
       "_view_module_version": "1.2.0",
       "_view_name": "LayoutView",
       "align_content": null,
       "align_items": null,
       "align_self": null,
       "border": null,
       "bottom": null,
       "display": null,
       "flex": null,
       "flex_flow": null,
       "grid_area": null,
       "grid_auto_columns": null,
       "grid_auto_flow": null,
       "grid_auto_rows": null,
       "grid_column": null,
       "grid_gap": null,
       "grid_row": null,
       "grid_template_areas": null,
       "grid_template_columns": null,
       "grid_template_rows": null,
       "height": null,
       "justify_content": null,
       "justify_items": null,
       "left": null,
       "margin": null,
       "max_height": null,
       "max_width": null,
       "min_height": null,
       "min_width": null,
       "object_fit": null,
       "object_position": null,
       "order": null,
       "overflow": null,
       "overflow_x": null,
       "overflow_y": null,
       "padding": null,
       "right": null,
       "top": null,
       "visibility": null,
       "width": null
      }
     },
     "2476936f36354c0582cf209811858769": {
      "model_module": "@jupyter-widgets/controls",
      "model_module_version": "1.5.0",
      "model_name": "ProgressStyleModel",
      "state": {
       "_model_module": "@jupyter-widgets/controls",
       "_model_module_version": "1.5.0",
       "_model_name": "ProgressStyleModel",
       "_view_count": null,
       "_view_module": "@jupyter-widgets/base",
       "_view_module_version": "1.2.0",
       "_view_name": "StyleView",
       "bar_color": null,
       "description_width": ""
      }
     },
     "3047235624bd4df4b992d459afbad807": {
      "model_module": "@jupyter-widgets/base",
      "model_module_version": "1.2.0",
      "model_name": "LayoutModel",
      "state": {
       "_model_module": "@jupyter-widgets/base",
       "_model_module_version": "1.2.0",
       "_model_name": "LayoutModel",
       "_view_count": null,
       "_view_module": "@jupyter-widgets/base",
       "_view_module_version": "1.2.0",
       "_view_name": "LayoutView",
       "align_content": null,
       "align_items": null,
       "align_self": null,
       "border": null,
       "bottom": null,
       "display": null,
       "flex": null,
       "flex_flow": null,
       "grid_area": null,
       "grid_auto_columns": null,
       "grid_auto_flow": null,
       "grid_auto_rows": null,
       "grid_column": null,
       "grid_gap": null,
       "grid_row": null,
       "grid_template_areas": null,
       "grid_template_columns": null,
       "grid_template_rows": null,
       "height": null,
       "justify_content": null,
       "justify_items": null,
       "left": null,
       "margin": null,
       "max_height": null,
       "max_width": null,
       "min_height": null,
       "min_width": null,
       "object_fit": null,
       "object_position": null,
       "order": null,
       "overflow": null,
       "overflow_x": null,
       "overflow_y": null,
       "padding": null,
       "right": null,
       "top": null,
       "visibility": null,
       "width": null
      }
     },
     "3c0e879486d5463db0fa09977f4f5e7b": {
      "model_module": "@jupyter-widgets/base",
      "model_module_version": "1.2.0",
      "model_name": "LayoutModel",
      "state": {
       "_model_module": "@jupyter-widgets/base",
       "_model_module_version": "1.2.0",
       "_model_name": "LayoutModel",
       "_view_count": null,
       "_view_module": "@jupyter-widgets/base",
       "_view_module_version": "1.2.0",
       "_view_name": "LayoutView",
       "align_content": null,
       "align_items": null,
       "align_self": null,
       "border": null,
       "bottom": null,
       "display": null,
       "flex": null,
       "flex_flow": null,
       "grid_area": null,
       "grid_auto_columns": null,
       "grid_auto_flow": null,
       "grid_auto_rows": null,
       "grid_column": null,
       "grid_gap": null,
       "grid_row": null,
       "grid_template_areas": null,
       "grid_template_columns": null,
       "grid_template_rows": null,
       "height": null,
       "justify_content": null,
       "justify_items": null,
       "left": null,
       "margin": null,
       "max_height": null,
       "max_width": null,
       "min_height": null,
       "min_width": null,
       "object_fit": null,
       "object_position": null,
       "order": null,
       "overflow": null,
       "overflow_x": null,
       "overflow_y": null,
       "padding": null,
       "right": null,
       "top": null,
       "visibility": null,
       "width": null
      }
     },
     "421538af4b344eb285a1049283fceb43": {
      "model_module": "@jupyter-widgets/base",
      "model_module_version": "1.2.0",
      "model_name": "LayoutModel",
      "state": {
       "_model_module": "@jupyter-widgets/base",
       "_model_module_version": "1.2.0",
       "_model_name": "LayoutModel",
       "_view_count": null,
       "_view_module": "@jupyter-widgets/base",
       "_view_module_version": "1.2.0",
       "_view_name": "LayoutView",
       "align_content": null,
       "align_items": null,
       "align_self": null,
       "border": null,
       "bottom": null,
       "display": null,
       "flex": null,
       "flex_flow": null,
       "grid_area": null,
       "grid_auto_columns": null,
       "grid_auto_flow": null,
       "grid_auto_rows": null,
       "grid_column": null,
       "grid_gap": null,
       "grid_row": null,
       "grid_template_areas": null,
       "grid_template_columns": null,
       "grid_template_rows": null,
       "height": null,
       "justify_content": null,
       "justify_items": null,
       "left": null,
       "margin": null,
       "max_height": null,
       "max_width": null,
       "min_height": null,
       "min_width": null,
       "object_fit": null,
       "object_position": null,
       "order": null,
       "overflow": null,
       "overflow_x": null,
       "overflow_y": null,
       "padding": null,
       "right": null,
       "top": null,
       "visibility": null,
       "width": null
      }
     },
     "4cea8ab8f6094c87a13a8b690c87c778": {
      "model_module": "@jupyter-widgets/base",
      "model_module_version": "1.2.0",
      "model_name": "LayoutModel",
      "state": {
       "_model_module": "@jupyter-widgets/base",
       "_model_module_version": "1.2.0",
       "_model_name": "LayoutModel",
       "_view_count": null,
       "_view_module": "@jupyter-widgets/base",
       "_view_module_version": "1.2.0",
       "_view_name": "LayoutView",
       "align_content": null,
       "align_items": null,
       "align_self": null,
       "border": null,
       "bottom": null,
       "display": null,
       "flex": null,
       "flex_flow": null,
       "grid_area": null,
       "grid_auto_columns": null,
       "grid_auto_flow": null,
       "grid_auto_rows": null,
       "grid_column": null,
       "grid_gap": null,
       "grid_row": null,
       "grid_template_areas": null,
       "grid_template_columns": null,
       "grid_template_rows": null,
       "height": null,
       "justify_content": null,
       "justify_items": null,
       "left": null,
       "margin": null,
       "max_height": null,
       "max_width": null,
       "min_height": null,
       "min_width": null,
       "object_fit": null,
       "object_position": null,
       "order": null,
       "overflow": null,
       "overflow_x": null,
       "overflow_y": null,
       "padding": null,
       "right": null,
       "top": null,
       "visibility": null,
       "width": null
      }
     },
     "59f46be901ef49cea5e361a23bc258f0": {
      "model_module": "@jupyter-widgets/base",
      "model_module_version": "1.2.0",
      "model_name": "LayoutModel",
      "state": {
       "_model_module": "@jupyter-widgets/base",
       "_model_module_version": "1.2.0",
       "_model_name": "LayoutModel",
       "_view_count": null,
       "_view_module": "@jupyter-widgets/base",
       "_view_module_version": "1.2.0",
       "_view_name": "LayoutView",
       "align_content": null,
       "align_items": null,
       "align_self": null,
       "border": null,
       "bottom": null,
       "display": null,
       "flex": null,
       "flex_flow": null,
       "grid_area": null,
       "grid_auto_columns": null,
       "grid_auto_flow": null,
       "grid_auto_rows": null,
       "grid_column": null,
       "grid_gap": null,
       "grid_row": null,
       "grid_template_areas": null,
       "grid_template_columns": null,
       "grid_template_rows": null,
       "height": null,
       "justify_content": null,
       "justify_items": null,
       "left": null,
       "margin": null,
       "max_height": null,
       "max_width": null,
       "min_height": null,
       "min_width": null,
       "object_fit": null,
       "object_position": null,
       "order": null,
       "overflow": null,
       "overflow_x": null,
       "overflow_y": null,
       "padding": null,
       "right": null,
       "top": null,
       "visibility": null,
       "width": null
      }
     },
     "5f80a955ced34cef86bc307a7a17ad50": {
      "model_module": "@jupyter-widgets/controls",
      "model_module_version": "1.5.0",
      "model_name": "HTMLModel",
      "state": {
       "_dom_classes": [],
       "_model_module": "@jupyter-widgets/controls",
       "_model_module_version": "1.5.0",
       "_model_name": "HTMLModel",
       "_view_count": null,
       "_view_module": "@jupyter-widgets/controls",
       "_view_module_version": "1.5.0",
       "_view_name": "HTMLView",
       "description": "",
       "description_tooltip": null,
       "layout": "IPY_MODEL_c800f4d86d7f4cb595f97bdd36d14c8f",
       "placeholder": "​",
       "style": "IPY_MODEL_ebd7ac3b623a410a88be5c4d72e48986",
       "value": " 1/1 [00:00&lt;00:00,  1.66it/s]"
      }
     },
     "5faebb75f07148fca515e5e4d72a9e26": {
      "model_module": "@jupyter-widgets/base",
      "model_module_version": "1.2.0",
      "model_name": "LayoutModel",
      "state": {
       "_model_module": "@jupyter-widgets/base",
       "_model_module_version": "1.2.0",
       "_model_name": "LayoutModel",
       "_view_count": null,
       "_view_module": "@jupyter-widgets/base",
       "_view_module_version": "1.2.0",
       "_view_name": "LayoutView",
       "align_content": null,
       "align_items": null,
       "align_self": null,
       "border": null,
       "bottom": null,
       "display": null,
       "flex": null,
       "flex_flow": null,
       "grid_area": null,
       "grid_auto_columns": null,
       "grid_auto_flow": null,
       "grid_auto_rows": null,
       "grid_column": null,
       "grid_gap": null,
       "grid_row": null,
       "grid_template_areas": null,
       "grid_template_columns": null,
       "grid_template_rows": null,
       "height": null,
       "justify_content": null,
       "justify_items": null,
       "left": null,
       "margin": null,
       "max_height": null,
       "max_width": null,
       "min_height": null,
       "min_width": null,
       "object_fit": null,
       "object_position": null,
       "order": null,
       "overflow": null,
       "overflow_x": null,
       "overflow_y": null,
       "padding": null,
       "right": null,
       "top": null,
       "visibility": null,
       "width": null
      }
     },
     "60a533bb74804344b7e871fbf50d7630": {
      "model_module": "@jupyter-widgets/controls",
      "model_module_version": "1.5.0",
      "model_name": "HTMLModel",
      "state": {
       "_dom_classes": [],
       "_model_module": "@jupyter-widgets/controls",
       "_model_module_version": "1.5.0",
       "_model_name": "HTMLModel",
       "_view_count": null,
       "_view_module": "@jupyter-widgets/controls",
       "_view_module_version": "1.5.0",
       "_view_name": "HTMLView",
       "description": "",
       "description_tooltip": null,
       "layout": "IPY_MODEL_3c0e879486d5463db0fa09977f4f5e7b",
       "placeholder": "​",
       "style": "IPY_MODEL_98f6f531ccd643d09a69140d13b76379",
       "value": " 1/1 [00:02&lt;00:00,  2.40s/it]"
      }
     },
     "6379beb1c16740269e13f8731b3b5f8b": {
      "model_module": "@jupyter-widgets/controls",
      "model_module_version": "1.5.0",
      "model_name": "HBoxModel",
      "state": {
       "_dom_classes": [],
       "_model_module": "@jupyter-widgets/controls",
       "_model_module_version": "1.5.0",
       "_model_name": "HBoxModel",
       "_view_count": null,
       "_view_module": "@jupyter-widgets/controls",
       "_view_module_version": "1.5.0",
       "_view_name": "HBoxView",
       "box_style": "",
       "children": [
        "IPY_MODEL_837225552aef4717b0ab001ff292f72d",
        "IPY_MODEL_997750a67ac645548adf9d6cc5a2c1dd",
        "IPY_MODEL_bd972d756dfe46978be7bb973f690392"
       ],
       "layout": "IPY_MODEL_ab6133b8ef4f45cfa84344f070d4447f"
      }
     },
     "731d09ee1159493095283eac20e86c4d": {
      "model_module": "@jupyter-widgets/controls",
      "model_module_version": "1.5.0",
      "model_name": "FloatProgressModel",
      "state": {
       "_dom_classes": [],
       "_model_module": "@jupyter-widgets/controls",
       "_model_module_version": "1.5.0",
       "_model_name": "FloatProgressModel",
       "_view_count": null,
       "_view_module": "@jupyter-widgets/controls",
       "_view_module_version": "1.5.0",
       "_view_name": "ProgressView",
       "bar_style": "success",
       "description": "",
       "description_tooltip": null,
       "layout": "IPY_MODEL_5faebb75f07148fca515e5e4d72a9e26",
       "max": 17,
       "min": 0,
       "orientation": "horizontal",
       "style": "IPY_MODEL_2476936f36354c0582cf209811858769",
       "value": 17
      }
     },
     "74d2f123669f4151bf9fd59456f355ba": {
      "model_module": "@jupyter-widgets/controls",
      "model_module_version": "1.5.0",
      "model_name": "HBoxModel",
      "state": {
       "_dom_classes": [],
       "_model_module": "@jupyter-widgets/controls",
       "_model_module_version": "1.5.0",
       "_model_name": "HBoxModel",
       "_view_count": null,
       "_view_module": "@jupyter-widgets/controls",
       "_view_module_version": "1.5.0",
       "_view_name": "HBoxView",
       "box_style": "",
       "children": [
        "IPY_MODEL_a06bfab18f1d49a6a4c0a87c360992c8",
        "IPY_MODEL_731d09ee1159493095283eac20e86c4d",
        "IPY_MODEL_cbd80b044afc4e96b1667ab76a3a1f74"
       ],
       "layout": "IPY_MODEL_7a11aa9b2ecb445a8fc14cc89f06ea13"
      }
     },
     "79579de4686940fb87277980fb3b9033": {
      "model_module": "@jupyter-widgets/controls",
      "model_module_version": "1.5.0",
      "model_name": "HTMLModel",
      "state": {
       "_dom_classes": [],
       "_model_module": "@jupyter-widgets/controls",
       "_model_module_version": "1.5.0",
       "_model_name": "HTMLModel",
       "_view_count": null,
       "_view_module": "@jupyter-widgets/controls",
       "_view_module_version": "1.5.0",
       "_view_name": "HTMLView",
       "description": "",
       "description_tooltip": null,
       "layout": "IPY_MODEL_b0c4c0c11c45494db725902cd5bfb08c",
       "placeholder": "​",
       "style": "IPY_MODEL_f53f890fe98e493a96efcc400345b6b2",
       "value": "Generate report structure: 100%"
      }
     },
     "7a11aa9b2ecb445a8fc14cc89f06ea13": {
      "model_module": "@jupyter-widgets/base",
      "model_module_version": "1.2.0",
      "model_name": "LayoutModel",
      "state": {
       "_model_module": "@jupyter-widgets/base",
       "_model_module_version": "1.2.0",
       "_model_name": "LayoutModel",
       "_view_count": null,
       "_view_module": "@jupyter-widgets/base",
       "_view_module_version": "1.2.0",
       "_view_name": "LayoutView",
       "align_content": null,
       "align_items": null,
       "align_self": null,
       "border": null,
       "bottom": null,
       "display": null,
       "flex": null,
       "flex_flow": null,
       "grid_area": null,
       "grid_auto_columns": null,
       "grid_auto_flow": null,
       "grid_auto_rows": null,
       "grid_column": null,
       "grid_gap": null,
       "grid_row": null,
       "grid_template_areas": null,
       "grid_template_columns": null,
       "grid_template_rows": null,
       "height": null,
       "justify_content": null,
       "justify_items": null,
       "left": null,
       "margin": null,
       "max_height": null,
       "max_width": null,
       "min_height": null,
       "min_width": null,
       "object_fit": null,
       "object_position": null,
       "order": null,
       "overflow": null,
       "overflow_x": null,
       "overflow_y": null,
       "padding": null,
       "right": null,
       "top": null,
       "visibility": null,
       "width": null
      }
     },
     "7ea526b1e9bd43cdb270777b5f62a95e": {
      "model_module": "@jupyter-widgets/controls",
      "model_module_version": "1.5.0",
      "model_name": "HTMLModel",
      "state": {
       "_dom_classes": [],
       "_model_module": "@jupyter-widgets/controls",
       "_model_module_version": "1.5.0",
       "_model_name": "HTMLModel",
       "_view_count": null,
       "_view_module": "@jupyter-widgets/controls",
       "_view_module_version": "1.5.0",
       "_view_name": "HTMLView",
       "description": "",
       "description_tooltip": null,
       "layout": "IPY_MODEL_ca8a709aac3f4afe9aac06b72112076f",
       "placeholder": "​",
       "style": "IPY_MODEL_c33355f13dfd4f4599031ef8f8db5f53",
       "value": "Render HTML: 100%"
      }
     },
     "837225552aef4717b0ab001ff292f72d": {
      "model_module": "@jupyter-widgets/controls",
      "model_module_version": "1.5.0",
      "model_name": "HTMLModel",
      "state": {
       "_dom_classes": [],
       "_model_module": "@jupyter-widgets/controls",
       "_model_module_version": "1.5.0",
       "_model_name": "HTMLModel",
       "_view_count": null,
       "_view_module": "@jupyter-widgets/controls",
       "_view_module_version": "1.5.0",
       "_view_name": "HTMLView",
       "description": "",
       "description_tooltip": null,
       "layout": "IPY_MODEL_59f46be901ef49cea5e361a23bc258f0",
       "placeholder": "​",
       "style": "IPY_MODEL_a4c35dfafabb40199a5c4c0ce5a14b0c",
       "value": "Export report to file: 100%"
      }
     },
     "896278c20baf49bc9483c86dbe28e6db": {
      "model_module": "@jupyter-widgets/base",
      "model_module_version": "1.2.0",
      "model_name": "LayoutModel",
      "state": {
       "_model_module": "@jupyter-widgets/base",
       "_model_module_version": "1.2.0",
       "_model_name": "LayoutModel",
       "_view_count": null,
       "_view_module": "@jupyter-widgets/base",
       "_view_module_version": "1.2.0",
       "_view_name": "LayoutView",
       "align_content": null,
       "align_items": null,
       "align_self": null,
       "border": null,
       "bottom": null,
       "display": null,
       "flex": null,
       "flex_flow": null,
       "grid_area": null,
       "grid_auto_columns": null,
       "grid_auto_flow": null,
       "grid_auto_rows": null,
       "grid_column": null,
       "grid_gap": null,
       "grid_row": null,
       "grid_template_areas": null,
       "grid_template_columns": null,
       "grid_template_rows": null,
       "height": null,
       "justify_content": null,
       "justify_items": null,
       "left": null,
       "margin": null,
       "max_height": null,
       "max_width": null,
       "min_height": null,
       "min_width": null,
       "object_fit": null,
       "object_position": null,
       "order": null,
       "overflow": null,
       "overflow_x": null,
       "overflow_y": null,
       "padding": null,
       "right": null,
       "top": null,
       "visibility": null,
       "width": null
      }
     },
     "98f6f531ccd643d09a69140d13b76379": {
      "model_module": "@jupyter-widgets/controls",
      "model_module_version": "1.5.0",
      "model_name": "DescriptionStyleModel",
      "state": {
       "_model_module": "@jupyter-widgets/controls",
       "_model_module_version": "1.5.0",
       "_model_name": "DescriptionStyleModel",
       "_view_count": null,
       "_view_module": "@jupyter-widgets/base",
       "_view_module_version": "1.2.0",
       "_view_name": "StyleView",
       "description_width": ""
      }
     },
     "997750a67ac645548adf9d6cc5a2c1dd": {
      "model_module": "@jupyter-widgets/controls",
      "model_module_version": "1.5.0",
      "model_name": "FloatProgressModel",
      "state": {
       "_dom_classes": [],
       "_model_module": "@jupyter-widgets/controls",
       "_model_module_version": "1.5.0",
       "_model_name": "FloatProgressModel",
       "_view_count": null,
       "_view_module": "@jupyter-widgets/controls",
       "_view_module_version": "1.5.0",
       "_view_name": "ProgressView",
       "bar_style": "success",
       "description": "",
       "description_tooltip": null,
       "layout": "IPY_MODEL_3047235624bd4df4b992d459afbad807",
       "max": 1,
       "min": 0,
       "orientation": "horizontal",
       "style": "IPY_MODEL_f71a3435837f4fdd8eee21023f928dc2",
       "value": 1
      }
     },
     "a06bfab18f1d49a6a4c0a87c360992c8": {
      "model_module": "@jupyter-widgets/controls",
      "model_module_version": "1.5.0",
      "model_name": "HTMLModel",
      "state": {
       "_dom_classes": [],
       "_model_module": "@jupyter-widgets/controls",
       "_model_module_version": "1.5.0",
       "_model_name": "HTMLModel",
       "_view_count": null,
       "_view_module": "@jupyter-widgets/controls",
       "_view_module_version": "1.5.0",
       "_view_name": "HTMLView",
       "description": "",
       "description_tooltip": null,
       "layout": "IPY_MODEL_137e5d876fda44a481e04a46ce3d52c5",
       "placeholder": "​",
       "style": "IPY_MODEL_a757f29997924f8d97c5b33d53a151cd",
       "value": "Summarize dataset: 100%"
      }
     },
     "a4c35dfafabb40199a5c4c0ce5a14b0c": {
      "model_module": "@jupyter-widgets/controls",
      "model_module_version": "1.5.0",
      "model_name": "DescriptionStyleModel",
      "state": {
       "_model_module": "@jupyter-widgets/controls",
       "_model_module_version": "1.5.0",
       "_model_name": "DescriptionStyleModel",
       "_view_count": null,
       "_view_module": "@jupyter-widgets/base",
       "_view_module_version": "1.2.0",
       "_view_name": "StyleView",
       "description_width": ""
      }
     },
     "a757f29997924f8d97c5b33d53a151cd": {
      "model_module": "@jupyter-widgets/controls",
      "model_module_version": "1.5.0",
      "model_name": "DescriptionStyleModel",
      "state": {
       "_model_module": "@jupyter-widgets/controls",
       "_model_module_version": "1.5.0",
       "_model_name": "DescriptionStyleModel",
       "_view_count": null,
       "_view_module": "@jupyter-widgets/base",
       "_view_module_version": "1.2.0",
       "_view_name": "StyleView",
       "description_width": ""
      }
     },
     "ab6133b8ef4f45cfa84344f070d4447f": {
      "model_module": "@jupyter-widgets/base",
      "model_module_version": "1.2.0",
      "model_name": "LayoutModel",
      "state": {
       "_model_module": "@jupyter-widgets/base",
       "_model_module_version": "1.2.0",
       "_model_name": "LayoutModel",
       "_view_count": null,
       "_view_module": "@jupyter-widgets/base",
       "_view_module_version": "1.2.0",
       "_view_name": "LayoutView",
       "align_content": null,
       "align_items": null,
       "align_self": null,
       "border": null,
       "bottom": null,
       "display": null,
       "flex": null,
       "flex_flow": null,
       "grid_area": null,
       "grid_auto_columns": null,
       "grid_auto_flow": null,
       "grid_auto_rows": null,
       "grid_column": null,
       "grid_gap": null,
       "grid_row": null,
       "grid_template_areas": null,
       "grid_template_columns": null,
       "grid_template_rows": null,
       "height": null,
       "justify_content": null,
       "justify_items": null,
       "left": null,
       "margin": null,
       "max_height": null,
       "max_width": null,
       "min_height": null,
       "min_width": null,
       "object_fit": null,
       "object_position": null,
       "order": null,
       "overflow": null,
       "overflow_x": null,
       "overflow_y": null,
       "padding": null,
       "right": null,
       "top": null,
       "visibility": null,
       "width": null
      }
     },
     "b0c4c0c11c45494db725902cd5bfb08c": {
      "model_module": "@jupyter-widgets/base",
      "model_module_version": "1.2.0",
      "model_name": "LayoutModel",
      "state": {
       "_model_module": "@jupyter-widgets/base",
       "_model_module_version": "1.2.0",
       "_model_name": "LayoutModel",
       "_view_count": null,
       "_view_module": "@jupyter-widgets/base",
       "_view_module_version": "1.2.0",
       "_view_name": "LayoutView",
       "align_content": null,
       "align_items": null,
       "align_self": null,
       "border": null,
       "bottom": null,
       "display": null,
       "flex": null,
       "flex_flow": null,
       "grid_area": null,
       "grid_auto_columns": null,
       "grid_auto_flow": null,
       "grid_auto_rows": null,
       "grid_column": null,
       "grid_gap": null,
       "grid_row": null,
       "grid_template_areas": null,
       "grid_template_columns": null,
       "grid_template_rows": null,
       "height": null,
       "justify_content": null,
       "justify_items": null,
       "left": null,
       "margin": null,
       "max_height": null,
       "max_width": null,
       "min_height": null,
       "min_width": null,
       "object_fit": null,
       "object_position": null,
       "order": null,
       "overflow": null,
       "overflow_x": null,
       "overflow_y": null,
       "padding": null,
       "right": null,
       "top": null,
       "visibility": null,
       "width": null
      }
     },
     "b810367f103a4e4e9c5be322df67d4c9": {
      "model_module": "@jupyter-widgets/base",
      "model_module_version": "1.2.0",
      "model_name": "LayoutModel",
      "state": {
       "_model_module": "@jupyter-widgets/base",
       "_model_module_version": "1.2.0",
       "_model_name": "LayoutModel",
       "_view_count": null,
       "_view_module": "@jupyter-widgets/base",
       "_view_module_version": "1.2.0",
       "_view_name": "LayoutView",
       "align_content": null,
       "align_items": null,
       "align_self": null,
       "border": null,
       "bottom": null,
       "display": null,
       "flex": null,
       "flex_flow": null,
       "grid_area": null,
       "grid_auto_columns": null,
       "grid_auto_flow": null,
       "grid_auto_rows": null,
       "grid_column": null,
       "grid_gap": null,
       "grid_row": null,
       "grid_template_areas": null,
       "grid_template_columns": null,
       "grid_template_rows": null,
       "height": null,
       "justify_content": null,
       "justify_items": null,
       "left": null,
       "margin": null,
       "max_height": null,
       "max_width": null,
       "min_height": null,
       "min_width": null,
       "object_fit": null,
       "object_position": null,
       "order": null,
       "overflow": null,
       "overflow_x": null,
       "overflow_y": null,
       "padding": null,
       "right": null,
       "top": null,
       "visibility": null,
       "width": null
      }
     },
     "bd972d756dfe46978be7bb973f690392": {
      "model_module": "@jupyter-widgets/controls",
      "model_module_version": "1.5.0",
      "model_name": "HTMLModel",
      "state": {
       "_dom_classes": [],
       "_model_module": "@jupyter-widgets/controls",
       "_model_module_version": "1.5.0",
       "_model_name": "HTMLModel",
       "_view_count": null,
       "_view_module": "@jupyter-widgets/controls",
       "_view_module_version": "1.5.0",
       "_view_name": "HTMLView",
       "description": "",
       "description_tooltip": null,
       "layout": "IPY_MODEL_22828e38a6f84e388c66ed37fd49e1a3",
       "placeholder": "​",
       "style": "IPY_MODEL_ca9b1619f3f348178c14a36e88ae3d9b",
       "value": " 1/1 [00:00&lt;00:00, 33.29it/s]"
      }
     },
     "c33355f13dfd4f4599031ef8f8db5f53": {
      "model_module": "@jupyter-widgets/controls",
      "model_module_version": "1.5.0",
      "model_name": "DescriptionStyleModel",
      "state": {
       "_model_module": "@jupyter-widgets/controls",
       "_model_module_version": "1.5.0",
       "_model_name": "DescriptionStyleModel",
       "_view_count": null,
       "_view_module": "@jupyter-widgets/base",
       "_view_module_version": "1.2.0",
       "_view_name": "StyleView",
       "description_width": ""
      }
     },
     "c800f4d86d7f4cb595f97bdd36d14c8f": {
      "model_module": "@jupyter-widgets/base",
      "model_module_version": "1.2.0",
      "model_name": "LayoutModel",
      "state": {
       "_model_module": "@jupyter-widgets/base",
       "_model_module_version": "1.2.0",
       "_model_name": "LayoutModel",
       "_view_count": null,
       "_view_module": "@jupyter-widgets/base",
       "_view_module_version": "1.2.0",
       "_view_name": "LayoutView",
       "align_content": null,
       "align_items": null,
       "align_self": null,
       "border": null,
       "bottom": null,
       "display": null,
       "flex": null,
       "flex_flow": null,
       "grid_area": null,
       "grid_auto_columns": null,
       "grid_auto_flow": null,
       "grid_auto_rows": null,
       "grid_column": null,
       "grid_gap": null,
       "grid_row": null,
       "grid_template_areas": null,
       "grid_template_columns": null,
       "grid_template_rows": null,
       "height": null,
       "justify_content": null,
       "justify_items": null,
       "left": null,
       "margin": null,
       "max_height": null,
       "max_width": null,
       "min_height": null,
       "min_width": null,
       "object_fit": null,
       "object_position": null,
       "order": null,
       "overflow": null,
       "overflow_x": null,
       "overflow_y": null,
       "padding": null,
       "right": null,
       "top": null,
       "visibility": null,
       "width": null
      }
     },
     "ca8a709aac3f4afe9aac06b72112076f": {
      "model_module": "@jupyter-widgets/base",
      "model_module_version": "1.2.0",
      "model_name": "LayoutModel",
      "state": {
       "_model_module": "@jupyter-widgets/base",
       "_model_module_version": "1.2.0",
       "_model_name": "LayoutModel",
       "_view_count": null,
       "_view_module": "@jupyter-widgets/base",
       "_view_module_version": "1.2.0",
       "_view_name": "LayoutView",
       "align_content": null,
       "align_items": null,
       "align_self": null,
       "border": null,
       "bottom": null,
       "display": null,
       "flex": null,
       "flex_flow": null,
       "grid_area": null,
       "grid_auto_columns": null,
       "grid_auto_flow": null,
       "grid_auto_rows": null,
       "grid_column": null,
       "grid_gap": null,
       "grid_row": null,
       "grid_template_areas": null,
       "grid_template_columns": null,
       "grid_template_rows": null,
       "height": null,
       "justify_content": null,
       "justify_items": null,
       "left": null,
       "margin": null,
       "max_height": null,
       "max_width": null,
       "min_height": null,
       "min_width": null,
       "object_fit": null,
       "object_position": null,
       "order": null,
       "overflow": null,
       "overflow_x": null,
       "overflow_y": null,
       "padding": null,
       "right": null,
       "top": null,
       "visibility": null,
       "width": null
      }
     },
     "ca9b1619f3f348178c14a36e88ae3d9b": {
      "model_module": "@jupyter-widgets/controls",
      "model_module_version": "1.5.0",
      "model_name": "DescriptionStyleModel",
      "state": {
       "_model_module": "@jupyter-widgets/controls",
       "_model_module_version": "1.5.0",
       "_model_name": "DescriptionStyleModel",
       "_view_count": null,
       "_view_module": "@jupyter-widgets/base",
       "_view_module_version": "1.2.0",
       "_view_name": "StyleView",
       "description_width": ""
      }
     },
     "cbd80b044afc4e96b1667ab76a3a1f74": {
      "model_module": "@jupyter-widgets/controls",
      "model_module_version": "1.5.0",
      "model_name": "HTMLModel",
      "state": {
       "_dom_classes": [],
       "_model_module": "@jupyter-widgets/controls",
       "_model_module_version": "1.5.0",
       "_model_name": "HTMLModel",
       "_view_count": null,
       "_view_module": "@jupyter-widgets/controls",
       "_view_module_version": "1.5.0",
       "_view_name": "HTMLView",
       "description": "",
       "description_tooltip": null,
       "layout": "IPY_MODEL_421538af4b344eb285a1049283fceb43",
       "placeholder": "​",
       "style": "IPY_MODEL_03486abb248b48dcae43183c9ffb112a",
       "value": " 17/17 [00:05&lt;00:00,  2.09it/s, Completed]"
      }
     },
     "d097f3c35ec644bfa231be2d2fd50129": {
      "model_module": "@jupyter-widgets/base",
      "model_module_version": "1.2.0",
      "model_name": "LayoutModel",
      "state": {
       "_model_module": "@jupyter-widgets/base",
       "_model_module_version": "1.2.0",
       "_model_name": "LayoutModel",
       "_view_count": null,
       "_view_module": "@jupyter-widgets/base",
       "_view_module_version": "1.2.0",
       "_view_name": "LayoutView",
       "align_content": null,
       "align_items": null,
       "align_self": null,
       "border": null,
       "bottom": null,
       "display": null,
       "flex": null,
       "flex_flow": null,
       "grid_area": null,
       "grid_auto_columns": null,
       "grid_auto_flow": null,
       "grid_auto_rows": null,
       "grid_column": null,
       "grid_gap": null,
       "grid_row": null,
       "grid_template_areas": null,
       "grid_template_columns": null,
       "grid_template_rows": null,
       "height": null,
       "justify_content": null,
       "justify_items": null,
       "left": null,
       "margin": null,
       "max_height": null,
       "max_width": null,
       "min_height": null,
       "min_width": null,
       "object_fit": null,
       "object_position": null,
       "order": null,
       "overflow": null,
       "overflow_x": null,
       "overflow_y": null,
       "padding": null,
       "right": null,
       "top": null,
       "visibility": null,
       "width": null
      }
     },
     "ebd7ac3b623a410a88be5c4d72e48986": {
      "model_module": "@jupyter-widgets/controls",
      "model_module_version": "1.5.0",
      "model_name": "DescriptionStyleModel",
      "state": {
       "_model_module": "@jupyter-widgets/controls",
       "_model_module_version": "1.5.0",
       "_model_name": "DescriptionStyleModel",
       "_view_count": null,
       "_view_module": "@jupyter-widgets/base",
       "_view_module_version": "1.2.0",
       "_view_name": "StyleView",
       "description_width": ""
      }
     },
     "f53f890fe98e493a96efcc400345b6b2": {
      "model_module": "@jupyter-widgets/controls",
      "model_module_version": "1.5.0",
      "model_name": "DescriptionStyleModel",
      "state": {
       "_model_module": "@jupyter-widgets/controls",
       "_model_module_version": "1.5.0",
       "_model_name": "DescriptionStyleModel",
       "_view_count": null,
       "_view_module": "@jupyter-widgets/base",
       "_view_module_version": "1.2.0",
       "_view_name": "StyleView",
       "description_width": ""
      }
     },
     "f71a3435837f4fdd8eee21023f928dc2": {
      "model_module": "@jupyter-widgets/controls",
      "model_module_version": "1.5.0",
      "model_name": "ProgressStyleModel",
      "state": {
       "_model_module": "@jupyter-widgets/controls",
       "_model_module_version": "1.5.0",
       "_model_name": "ProgressStyleModel",
       "_view_count": null,
       "_view_module": "@jupyter-widgets/base",
       "_view_module_version": "1.2.0",
       "_view_name": "StyleView",
       "bar_color": null,
       "description_width": ""
      }
     }
    },
    "version_major": 2,
    "version_minor": 0
   }
  }
 },
 "nbformat": 4,
 "nbformat_minor": 5
}
